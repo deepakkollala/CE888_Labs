{
  "nbformat": 4,
  "nbformat_minor": 0,
  "metadata": {
    "colab": {
      "name": "lab2.ipynb",
      "provenance": [],
      "include_colab_link": true
    },
    "kernelspec": {
      "display_name": "Python 3",
      "language": "python",
      "name": "python3"
    },
    "language_info": {
      "codemirror_mode": {
        "name": "ipython",
        "version": 3
      },
      "file_extension": ".py",
      "mimetype": "text/x-python",
      "name": "python",
      "nbconvert_exporter": "python",
      "pygments_lexer": "ipython3",
      "version": "3.7.6"
    },
    "pycharm": {
      "stem_cell": {
        "cell_type": "raw",
        "metadata": {
          "collapsed": false
        },
        "source": []
      }
    }
  },
  "cells": [
    {
      "cell_type": "markdown",
      "metadata": {
        "id": "view-in-github",
        "colab_type": "text"
      },
      "source": [
        "<a href=\"https://colab.research.google.com/github/deepakkollala/CE888_Labs/blob/main/lab2/lab2.ipynb\" target=\"_parent\"><img src=\"https://colab.research.google.com/assets/colab-badge.svg\" alt=\"Open In Colab\"/></a>"
      ]
    },
    {
      "cell_type": "markdown",
      "metadata": {
        "id": "nCi_99yMYIb1"
      },
      "source": [
        "In this notebook you'll create your own bootstrap function following the bootstrap algorithm (check the lecture notes!)"
      ]
    },
    {
      "cell_type": "code",
      "metadata": {
        "id": "LY5zujI2YC37"
      },
      "source": [
        "import matplotlib\n",
        "import matplotlib.pyplot as plt\n",
        "import pandas as pd\n",
        "import seaborn as sns\n",
        "import numpy as np"
      ],
      "execution_count": 1,
      "outputs": []
    },
    {
      "cell_type": "code",
      "metadata": {
        "id": "Eqkwj4SMY38t"
      },
      "source": [
        "# Load the data\n",
        "df = pd.read_csv('https://raw.githubusercontent.com/albanda/CE888/master/lab2%20-%20bootstrap/customers.csv')\n",
        "data = df.values.T[1]"
      ],
      "execution_count": 2,
      "outputs": []
    },
    {
      "cell_type": "code",
      "metadata": {
        "id": "Gxvc_bScYC4H"
      },
      "source": [
        "# Checking the notes from the lecture, create here your own bootstrap function:\n",
        "# 1. Sample from the input array x to create an array of samples of shape (n_bootstraps, sample_size)\n",
        "# Hint: Check the function random.choice() on Numpy\n",
        "# 2. Calculate and save the mean of the array (this is \"data_mean\" that is returned by the function)\n",
        "# 3. Calculate the mean from each bootstrap (i.e., row) and store it.\n",
        "# (This should be an array of n_bootstraps values)\n",
        "# 4. Calculate the lower and upper bounds for a 95% CI (hint: check the percentile function on Numpy)\n",
        "# 5. Return data_mean, and the lower and upper bounds of your interval\n",
        "\n",
        "def bootstrap_mean(x, sample_size, n_bootstraps):\n",
        "\n",
        "  sample = np.random.choice(x,sample_size)\n",
        "  bootstrap_dist = sns.algorithms.bootstrap(x,n_boot=n_bootstraps,func=np.mean)\n",
        "  gamma = 95\n",
        "  n_int = 100-gamma\n",
        "  nlower_percentile = n_int/2\n",
        "  nupper_percentile = 100- (n_int/2)\n",
        "  lower = np.percentile(bootstrap_dist,nlower_percentile)\n",
        "  upper = np.percentile(bootstrap_dist, nupper_percentile)\n",
        "  data_mean = np.mean(bootstrap_dist)\n",
        "\n",
        "  return data_mean, lower, upper\n"
      ],
      "execution_count": 3,
      "outputs": []
    },
    {
      "cell_type": "code",
      "metadata": {
        "colab": {
          "base_uri": "https://localhost:8080/",
          "height": 437
        },
        "id": "AN7sEOcMYC4P",
        "outputId": "77633357-dcd0-450b-c78a-6bf49f9beb02"
      },
      "source": [
        "# Call your bootstrap function and plot the results\n",
        "\n",
        "boots = []\n",
        "for i in range(100, 50000, 1000):\n",
        "    boot = bootstrap_mean(data, data.shape[0], i)\n",
        "    boots.append([i, boot[0], \"mean\"])\n",
        "    boots.append([i, boot[1], \"lower\"])\n",
        "    boots.append([i, boot[2], \"upper\"])\n",
        "\n",
        "df_boot = pd.DataFrame(boots, columns=['Bootstrap Iterations', 'Mean', \"Value\"])\n",
        "sns_plot = sns.lmplot(df_boot.columns[0], df_boot.columns[1], data=df_boot, fit_reg=False, hue=\"Value\")\n",
        "\n",
        "sns_plot.axes[0, 0].set_ylim(0,);\n",
        "sns_plot.axes[0, 0].set_xlim(0, 100000);\n"
      ],
      "execution_count": 4,
      "outputs": [
        {
          "output_type": "stream",
          "text": [
            "/usr/local/lib/python3.7/dist-packages/seaborn/_decorators.py:43: FutureWarning: Pass the following variables as keyword args: x, y. From version 0.12, the only valid positional argument will be `data`, and passing other arguments without an explicit keyword will result in an error or misinterpretation.\n",
            "  FutureWarning\n"
          ],
          "name": "stderr"
        },
        {
          "output_type": "display_data",
          "data": {
            "image/png": "[encoded data removed]",
            "text/plain": [
              "<Figure size 425.125x360 with 1 Axes>"
            ]
          },
          "metadata": {
            "tags": [],
            "needs_background": "light"
          }
        }
      ]
    },
    {
      "cell_type": "markdown",
      "metadata": {
        "id": "MjtP4e2_YC4V"
      },
      "source": [
        "\n",
        "Now, modify the bootstrap function you created above so that you can pass your desired confidence interval as a parameter.\n",
        "\n"
      ]
    },
    {
      "cell_type": "code",
      "metadata": {
        "id": "3K9j0FuGYhHs"
      },
      "source": [
        "def bootstrap_mean_ci(sample, sample_size, n_bootstraps, ci, nRoundDigits = 3,func='mean'):\n",
        "  # <---INSERT YOUR CODE HERE--->\n",
        "  x = sample\n",
        "  sample = np.random.choice(x,sample_size)\n",
        "  if func=='mean':\n",
        "    bootstrap_dist = sns.algorithms.bootstrap(x,n_boot=n_bootstraps,func=np.mean)\n",
        "\n",
        "  if func=='std':\n",
        "    bootstrap_dist = sns.algorithms.bootstrap(x,n_boot=n_bootstraps,func=np.std)\n",
        "\n",
        "  gamma = 100- ci \n",
        "  lower = np.percentile(bootstrap_dist, (gamma/2))\n",
        "  upper = np.percentile(bootstrap_dist, 100-(gamma/2))\n",
        "  data_mean = np.mean(bootstrap_dist)\n",
        "  return round(data_mean,nRoundDigits), round(lower,nRoundDigits), round(upper,nRoundDigits)"
      ],
      "execution_count": 5,
      "outputs": []
    },
    {
      "cell_type": "code",
      "metadata": {
        "colab": {
          "base_uri": "https://localhost:8080/",
          "height": 454
        },
        "id": "uDnjq08GYl-C",
        "outputId": "7a1f9f35-1f2d-4411-a31e-d532b9ed542d"
      },
      "source": [
        "boots = []\n",
        "for i in range(100, 50000, 1000):\n",
        "    boot = bootstrap_mean_ci(data, data.shape[0], i, 80)\n",
        "    boots.append([i, boot[0], \"mean\"])\n",
        "    boots.append([i, boot[1], \"lower\"])\n",
        "    boots.append([i, boot[2], \"upper\"])\n",
        "\n",
        "df_boot = pd.DataFrame(boots, columns=['Boostrap Iterations', 'Mean', \"Value\"])\n",
        "sns_plot = sns.lmplot(df_boot.columns[0], df_boot.columns[1], data=df_boot, fit_reg=False, hue=\"Value\")\n",
        "\n",
        "sns_plot.axes[0, 0].set_ylim(0,)\n",
        "sns_plot.axes[0, 0].set_xlim(0, 100000)\n",
        "\n",
        "#sns_plot.savefig(\"bootstrap_confidence_80.pdf\", bbox_inches='tight')\n"
      ],
      "execution_count": 6,
      "outputs": [
        {
          "output_type": "stream",
          "text": [
            "/usr/local/lib/python3.7/dist-packages/seaborn/_decorators.py:43: FutureWarning: Pass the following variables as keyword args: x, y. From version 0.12, the only valid positional argument will be `data`, and passing other arguments without an explicit keyword will result in an error or misinterpretation.\n",
            "  FutureWarning\n"
          ],
          "name": "stderr"
        },
        {
          "output_type": "execute_result",
          "data": {
            "text/plain": [
              "(0.0, 100000.0)"
            ]
          },
          "metadata": {
            "tags": []
          },
          "execution_count": 6
        },
        {
          "output_type": "display_data",
          "data": {
            "image/png": "[encoded data removed]",
            "text/plain": [
              "<Figure size 425.125x360 with 1 Axes>"
            ]
          },
          "metadata": {
            "tags": [],
            "needs_background": "light"
          }
        }
      ]
    },
    {
      "cell_type": "markdown",
      "metadata": {
        "id": "qjNgXW6wdd7r"
      },
      "source": [
        "# Vehicles dataset\n",
        "\n",
        "Now let's work on a different dataset, which is stored in the vehicles.csv file.\n"
      ]
    },
    {
      "cell_type": "code",
      "metadata": {
        "colab": {
          "base_uri": "https://localhost:8080/",
          "height": 204
        },
        "id": "NrnZwn6Mm4tW",
        "outputId": "20cdd1b2-18ec-42b0-896a-ab578014227d"
      },
      "source": [
        "# Load the data\n",
        "vehicle_df = pd.read_csv('https://raw.githubusercontent.com/albanda/CE888/master/lab2%20-%20bootstrap/vehicles.csv') \n",
        "vehicle_df.head()"
      ],
      "execution_count": 7,
      "outputs": [
        {
          "output_type": "execute_result",
          "data": {
            "text/html": [
              "<div>\n",
              "<style scoped>\n",
              "    .dataframe tbody tr th:only-of-type {\n",
              "        vertical-align: middle;\n",
              "    }\n",
              "\n",
              "    .dataframe tbody tr th {\n",
              "        vertical-align: top;\n",
              "    }\n",
              "\n",
              "    .dataframe thead th {\n",
              "        text-align: right;\n",
              "    }\n",
              "</style>\n",
              "<table border=\"1\" class=\"dataframe\">\n",
              "  <thead>\n",
              "    <tr style=\"text-align: right;\">\n",
              "      <th></th>\n",
              "      <th>Current fleet</th>\n",
              "      <th>New Fleet</th>\n",
              "    </tr>\n",
              "  </thead>\n",
              "  <tbody>\n",
              "    <tr>\n",
              "      <th>0</th>\n",
              "      <td>18</td>\n",
              "      <td>24.0</td>\n",
              "    </tr>\n",
              "    <tr>\n",
              "      <th>1</th>\n",
              "      <td>15</td>\n",
              "      <td>27.0</td>\n",
              "    </tr>\n",
              "    <tr>\n",
              "      <th>2</th>\n",
              "      <td>18</td>\n",
              "      <td>27.0</td>\n",
              "    </tr>\n",
              "    <tr>\n",
              "      <th>3</th>\n",
              "      <td>16</td>\n",
              "      <td>25.0</td>\n",
              "    </tr>\n",
              "    <tr>\n",
              "      <th>4</th>\n",
              "      <td>17</td>\n",
              "      <td>31.0</td>\n",
              "    </tr>\n",
              "  </tbody>\n",
              "</table>\n",
              "</div>"
            ],
            "text/plain": [
              "   Current fleet  New Fleet\n",
              "0             18       24.0\n",
              "1             15       27.0\n",
              "2             18       27.0\n",
              "3             16       25.0\n",
              "4             17       31.0"
            ]
          },
          "metadata": {
            "tags": []
          },
          "execution_count": 7
        }
      ]
    },
    {
      "cell_type": "code",
      "metadata": {
        "id": "avWv4ipFdpka",
        "colab": {
          "base_uri": "https://localhost:8080/",
          "height": 374
        },
        "outputId": "199b96c0-2209-4999-ad50-fcffcb8bcf78"
      },
      "source": [
        "# Load and visualise the vehicles dataset\n",
        "# To load the dataset: https://neptune.ai/blog/google-colab-dealing-with-files (check section \"Load individual files directly from GitHub\")\n",
        "\n",
        "\n",
        "# Note that the current and new fleets are in different columns and have different lengths, so bear this in mind when you're plotting.\n",
        "# You can create separate scatterplots for the two fleets, as you would with the histograms, \n",
        "# or plot them both in one plot (but not one against the other).\n",
        "# <---INSERT YOUR CODE HERE--->\n",
        "# Note: you can add more cells as needed to organise your code and your plots\n",
        "\n",
        "cf = pd.DataFrame(vehicle_df['Current fleet'])\n",
        "nf = pd.DataFrame(vehicle_df['New Fleet'])\n",
        "\n",
        "#fig, axes = plt.subplots(1, 2)\n",
        "fig, axes = plt.subplots(1,2, figsize=(16,6))\n",
        "sns.scatterplot(data=cf, ax=axes[0]);\n",
        "sns.scatterplot(data=nf, ax=axes[1],palette=['red']);\n"
      ],
      "execution_count": 8,
      "outputs": [
        {
          "output_type": "display_data",
          "data": {
            "image/png": "[encoded data removed]",
            "text/plain": [
              "<Figure size 1152x432 with 2 Axes>"
            ]
          },
          "metadata": {
            "tags": [],
            "needs_background": "light"
          }
        }
      ]
    },
    {
      "cell_type": "markdown",
      "metadata": {
        "id": "B5d0tXDpIEj8"
      },
      "source": [
        "\n",
        "## Compare the two fleets\n",
        "\n",
        "The business analysts come up a comparison algorithm that requires the upper and lower bounds for the mean in order to say which fleet is better.\n",
        "1. Calculate the mean of both samples.\n",
        "2. Using the bootstrap function that you created:\n",
        "    - Construct the 95% CI of the mean of the current fleet.\n",
        "    - Construct the 95% CI of the mean of the new fleet.\n",
        "    - Are they comparable? (i.e., is one better than the other?) -- you can do this with a permutation test (check the lecture notes!)"
      ]
    },
    {
      "cell_type": "code",
      "metadata": {
        "colab": {
          "base_uri": "https://localhost:8080/"
        },
        "id": "udzvAzOru4Yq",
        "outputId": "292a0b64-0ebe-4174-81a9-33fd5c8cadae"
      },
      "source": [
        "cf = vehicle_df['Current fleet'].values\n",
        "nf = vehicle_df.dropna()['New Fleet'].values\n",
        "\n",
        "boot = bootstrap_mean_ci(cf, cf.shape[0], 20000, 95)\n",
        "cf_mean = boot[0]\n",
        "\n",
        "boot = bootstrap_mean_ci(nf, nf.shape[0], 20000, 95)\n",
        "nf_mean = boot[0]\n",
        "\n",
        "print('Mean for Current fleet : '+ str(round(cf.mean(),3)))\n",
        "print('Bootstrap mean for Current fleet  : '+ str(round(cf_mean,3)))\n",
        "print('Mean for New fleet : '+ str(round(nf.mean(),3)))\n",
        "print('Bootstrap mean for New fleet  : '+ str(round(nf_mean,3)))\n"
      ],
      "execution_count": 9,
      "outputs": [
        {
          "output_type": "stream",
          "text": [
            "Mean for Current fleet : 20.145\n",
            "Bootstrap mean for Current fleet  : 20.147\n",
            "Mean for New fleet : 30.481\n",
            "Bootstrap mean for New fleet  : 30.478\n"
          ],
          "name": "stdout"
        }
      ]
    },
    {
      "cell_type": "code",
      "metadata": {
        "id": "Qb0qRuW6a9P7"
      },
      "source": [
        "def calc_tobs(sample1,sample2):\n",
        "  x_old= sample1.mean()\n",
        "  x_new = sample2.mean()\n",
        "  t_obs = x_new - x_old\n",
        "  return t_obs\n"
      ],
      "execution_count": 10,
      "outputs": []
    },
    {
      "cell_type": "code",
      "metadata": {
        "colab": {
          "base_uri": "https://localhost:8080/"
        },
        "id": "ENI6CfHGPOnx",
        "outputId": "6dbea71f-2f26-4935-8348-2f9bd33d10c9"
      },
      "source": [
        "sample1 = cf\n",
        "sample2 = nf\n",
        "\n",
        "t_obs = calc_tobs(sample1,sample2)\n",
        "concat = np.concatenate((sample1,sample2))\n",
        "n_permutations = 30000 \n",
        "n = 0\n",
        "for _ in range(n_permutations):\n",
        "  perm = np.random.permutation(concat)\n",
        "\n",
        "  pold = perm[:int(sample1.size)]\n",
        "  pnew = perm[int(sample1.size):]\n",
        "\n",
        "  t_perm = calc_tobs(pold,pnew)\n",
        "\n",
        "  if t_perm > t_obs:\n",
        "    n = n + 1\n",
        "pvalue = n/n_permutations\n",
        "print('p-value is : ' + str(pvalue))\n",
        "\n",
        "if pvalue <= 0.05:\n",
        "  print('As p-value is less than or equal to 0.05, we reject the null hypothesis that is new fleet is better than old fleet')\n",
        "else:\n",
        "  print('As p-value is more than 0.05, we retain the null hypothesis and reject the alternative hypothesis that is old fleet is better than new fleet')\n"
      ],
      "execution_count": 11,
      "outputs": [
        {
          "output_type": "stream",
          "text": [
            "p-value is : 0.0\n",
            "As p-value is less than or equal to 0.05, we reject the null hypothesis that is new fleet is better than old fleet\n"
          ],
          "name": "stdout"
        }
      ]
    },
    {
      "cell_type": "code",
      "metadata": {
        "id": "MkxvDZG4HC0n"
      },
      "source": [
        "# Create your own function for a permutation test here (you will need it for the lab quiz!):\n",
        "def permut_test(sample1, sample2, n_permutations, nRoundDigits=3):\n",
        "    \"\"\"\n",
        "    sample1: 1D array\n",
        "    sample2: 1D array (note that the size of the two arrays can be different)\n",
        "    n_permutations: number of permutations to calculate the p-value\n",
        "    \"\"\"\n",
        "    t_obs = calc_tobs(sample1,sample2)\n",
        "\n",
        "    concat = np.concatenate((sample1,sample2))\n",
        "    n_permutations = 20000\n",
        "    n = 0\n",
        "    for _ in range(n_permutations):\n",
        "      perm = np.random.permutation(concat)\n",
        "\n",
        "      #pold = perm[:int(len(perm)/2)]\n",
        "      #pnew = perm[int(len(perm)/2):]\n",
        "      \n",
        "      pold = perm[:int(sample1.size)]\n",
        "      pnew = perm[int(sample1.size):]\n",
        "\n",
        "      t_perm = calc_tobs(pold,pnew)\n",
        "\n",
        "      if t_perm > t_obs:\n",
        "        n = n + 1\n",
        "\n",
        "    pvalue = n/n_permutations\n",
        "    return round(pvalue,nRoundDigits)"
      ],
      "execution_count": 12,
      "outputs": []
    },
    {
      "cell_type": "markdown",
      "metadata": {
        "id": "YiezZhuC0upl"
      },
      "source": [
        "## Testing the function with values from Lecture"
      ]
    },
    {
      "cell_type": "code",
      "metadata": {
        "colab": {
          "base_uri": "https://localhost:8080/"
        },
        "id": "hTBruA02v3Zu",
        "outputId": "9b20572b-3481-4a37-b041-a955f3e3e6e6"
      },
      "source": [
        "sample1 = np.array([0,0,0,0,0,0,1,0,0,1,0])\n",
        "sample2 = np.array([1,0,0,1,1,1,0,0,0,1,0])\n",
        "\n",
        "permut_test(sample1,sample2,20000)"
      ],
      "execution_count": 13,
      "outputs": [
        {
          "output_type": "execute_result",
          "data": {
            "text/plain": [
              "0.032"
            ]
          },
          "metadata": {
            "tags": []
          },
          "execution_count": 13
        }
      ]
    },
    {
      "cell_type": "code",
      "metadata": {
        "colab": {
          "base_uri": "https://localhost:8080/"
        },
        "id": "EY342uI5wNBU",
        "outputId": "906420dd-ad35-4588-d81d-81160a4c544f"
      },
      "source": [
        "sample1 = np.array([0,1,1,1,0,1,1,0,0,1,0])\n",
        "sample2 = np.array([0,1,1,0,1,1,0,1,1,1,0,0,1,1,1,1,1,1,1])\n",
        "\n",
        "permut_test(sample1,sample2,20000)"
      ],
      "execution_count": 14,
      "outputs": [
        {
          "output_type": "execute_result",
          "data": {
            "text/plain": [
              "0.072"
            ]
          },
          "metadata": {
            "tags": []
          },
          "execution_count": 14
        }
      ]
    },
    {
      "cell_type": "markdown",
      "metadata": {
        "id": "AMKG61hiSJcT"
      },
      "source": [
        "Question 2: The 95% confidence interval for the mean of the customers dataset using 10000 iterations"
      ]
    },
    {
      "cell_type": "code",
      "metadata": {
        "id": "Tc8fNA9oUtCA"
      },
      "source": [
        "cust = pd.read_csv('https://raw.githubusercontent.com/albanda/CE888/master/lab2%20-%20bootstrap/customers.csv')"
      ],
      "execution_count": 15,
      "outputs": []
    },
    {
      "cell_type": "code",
      "metadata": {
        "colab": {
          "base_uri": "https://localhost:8080/"
        },
        "id": "LcHlER0GSGSf",
        "outputId": "1d91c0f3-e33e-4956-f7fe-6a3cd3ae1612"
      },
      "source": [
        "mean, lower, upper = bootstrap_mean_ci(cust.values.T[1], cust.shape[0], 10000, 95, 2,func='mean')\n",
        "print('mean: ' + str(mean))\n",
        "print('lower: ' + str(lower))\n",
        "print('upper: ' + str(upper))"
      ],
      "execution_count": 16,
      "outputs": [
        {
          "output_type": "stream",
          "text": [
            "mean: 9.23\n",
            "lower: 6.5\n",
            "upper: 12.43\n"
          ],
          "name": "stdout"
        }
      ]
    },
    {
      "cell_type": "markdown",
      "metadata": {
        "id": "T98Qk9BdV648"
      },
      "source": [
        "Question 3: The 95% confidence interval for the mean of the new fleet in the vehicles dataset using 10000 iterations**"
      ]
    },
    {
      "cell_type": "code",
      "metadata": {
        "colab": {
          "base_uri": "https://localhost:8080/"
        },
        "id": "b8bjSKh6V4nK",
        "outputId": "4cf791df-e9fb-4e15-e170-9aa8ca12d2f9"
      },
      "source": [
        "vehicle_df = pd.read_csv('https://raw.githubusercontent.com/albanda/CE888/master/lab2%20-%20bootstrap/vehicles.csv') \n",
        "cf = vehicle_df['Current fleet'].values\n",
        "nf = vehicle_df.dropna()['New Fleet'].values\n",
        "\n",
        "mean, lower, upper = bootstrap_mean_ci(nf, nf.shape[0], 10000, 95, 2,func='mean')\n",
        "print('mean: ' + str(mean))\n",
        "print('lower: ' + str(lower))\n",
        "print('upper: ' + str(upper))"
      ],
      "execution_count": 17,
      "outputs": [
        {
          "output_type": "stream",
          "text": [
            "mean: 30.49\n",
            "lower: 29.15\n",
            "upper: 31.82\n"
          ],
          "name": "stdout"
        }
      ]
    },
    {
      "cell_type": "markdown",
      "metadata": {
        "id": "dFIAJtG0Y6z1"
      },
      "source": [
        "Question 4: The 95% confidence interval for the standard deviation of the old fleet in the vehicles dataset using 10000 iterations"
      ]
    },
    {
      "cell_type": "code",
      "metadata": {
        "colab": {
          "base_uri": "https://localhost:8080/"
        },
        "id": "F4qpX1l6YiVn",
        "outputId": "30005554-d3d0-4526-b4ed-986eaeaf27a8"
      },
      "source": [
        "mean, lower, upper = bootstrap_mean_ci(cf, cf.shape[0], 10000, 95, 2,func='mean')\n",
        "print('mean: ' + str(mean))\n",
        "print('lower: ' + str(lower))\n",
        "print('upper: ' + str(upper))"
      ],
      "execution_count": 18,
      "outputs": [
        {
          "output_type": "stream",
          "text": [
            "mean: 20.14\n",
            "lower: 19.35\n",
            "upper: 20.96\n"
          ],
          "name": "stdout"
        }
      ]
    },
    {
      "cell_type": "markdown",
      "metadata": {
        "id": "3m-94HUEZNfU"
      },
      "source": [
        "Question 5: The 85% confidence interval for the standard deviation of the customers dataset using 10000 iterations"
      ]
    },
    {
      "cell_type": "code",
      "metadata": {
        "colab": {
          "base_uri": "https://localhost:8080/"
        },
        "id": "OcypNyz0ZLz_",
        "outputId": "59483792-2c13-4c98-9ae2-f2e9b24ee1bf"
      },
      "source": [
        "std, lower, upper = bootstrap_mean_ci(cust.values.T[1], cust.shape[0], 10000, 85, 2,func='std')\n",
        "print('Standard Deviation: ' + str(std))\n",
        "print('lower: ' + str(lower))\n",
        "print('upper: ' + str(upper))"
      ],
      "execution_count": 19,
      "outputs": [
        {
          "output_type": "stream",
          "text": [
            "Standard Deviation: 5.36\n",
            "lower: 3.29\n",
            "upper: 6.96\n"
          ],
          "name": "stdout"
        }
      ]
    },
    {
      "cell_type": "markdown",
      "metadata": {
        "id": "EVeup2aVapg3"
      },
      "source": [
        "Question 7: The p-value from a permutation test with 30000 permutations"
      ]
    },
    {
      "cell_type": "code",
      "metadata": {
        "colab": {
          "base_uri": "https://localhost:8080/"
        },
        "id": "NUKTilJUabZt",
        "outputId": "fb9b3103-5661-4fc7-d571-c30b2df4540f"
      },
      "source": [
        "permut_test(cf, nf, 30000, nRoundDigits=3)"
      ],
      "execution_count": 20,
      "outputs": [
        {
          "output_type": "execute_result",
          "data": {
            "text/plain": [
              "0.0"
            ]
          },
          "metadata": {
            "tags": []
          },
          "execution_count": 20
        }
      ]
    },
    {
      "cell_type": "markdown",
      "metadata": {
        "id": "qemYl-Bib_tK"
      },
      "source": [
        "Question 8:"
      ]
    },
    {
      "cell_type": "code",
      "metadata": {
        "id": "VH1jdR1ScK17"
      },
      "source": [
        "dem_share_PA = [60.08, 40.64, 36.07, 41.21, 31.04, 43.78, 44.08, 46.85, 44.71, 46.15, 63.10, 52.20, 43.18, 40.24, 39.92, 47.87, 37.77, 40.11, 49.85, 48.61, 38.62, 54.25, 34.84, 47.75, 43.82, 55.97, 58.23, 42.97, 42.38, 36.11, 37.53, 42.65, 50.96, 47.43, 56.24, 45.60, 46.39, 35.22, 48.56, 32.97, 57.88, 36.05, 37.72, 50.36, 32.12, 41.55, 54.66, 57.81, 54.58, 32.88, 54.37, 40.45, 47.61, 60.49, 43.11, 27.32, 44.03, 33.56, 37.26, 54.64, 43.12, 25.34, 49.79, 83.56, 40.09, 60.81, 49.81]\n",
        "dem_share_OH = [56.94, 50.46, 65.99, 45.88, 42.23, 45.26, 57.01, 53.61, 59.10, 61.48, 43.43, 44.69, 54.59, 48.36, 45.89, 48.62, 43.92, 38.23, 28.79, 63.57, 38.07, 40.18, 43.05, 41.56, 42.49, 36.06, 52.76, 46.07, 39.43, 39.26, 47.47, 27.92, 38.01, 45.45, 29.07, 28.94, 51.28, 50.10, 39.84, 36.43, 35.71, 31.47, 47.01, 40.10, 48.76, 31.56, 39.86, 45.31, 35.47, 51.38, 46.33, 48.73, 41.77, 41.32, 48.46, 53.14, 34.01, 54.74, 40.67, 38.96, 46.29, 38.25, 6.80, 31.75, 46.33, 44.90, 33.57, 38.10, 39.67, 40.47, 49.44, 37.62, 36.71, 46.73, 42.20, 53.16, 52.40, 58.36, 68.02, 38.53, 34.58, 69.64, 60.50, 53.53, 36.54, 49.58, 41.97, 38.11]"
      ],
      "execution_count": 21,
      "outputs": []
    },
    {
      "cell_type": "code",
      "metadata": {
        "colab": {
          "base_uri": "https://localhost:8080/"
        },
        "id": "ruogJp02ch5P",
        "outputId": "0593664a-68b0-408a-bac8-786231a77af8"
      },
      "source": [
        "print(len(dem_share_PA),len(dem_share_OH))"
      ],
      "execution_count": 22,
      "outputs": [
        {
          "output_type": "stream",
          "text": [
            "67 88\n"
          ],
          "name": "stdout"
        }
      ]
    },
    {
      "cell_type": "code",
      "metadata": {
        "colab": {
          "base_uri": "https://localhost:8080/"
        },
        "id": "kCTg_aSACWG0",
        "outputId": "6fa681fe-e41d-46f0-e060-e9273a806907"
      },
      "source": [
        "dem_share_PA = [60.08, 40.64, 36.07, 41.21, 31.04, 43.78, 44.08, 46.85, 44.71, 46.15, 63.10, 52.20, 43.18, 40.24, 39.92, 47.87, 37.77, 40.11, 49.85, 48.61, 38.62, 54.25, 34.84, 47.75, 43.82, 55.97, 58.23, 42.97, 42.38, 36.11, 37.53, 42.65, 50.96, 47.43, 56.24, 45.60, 46.39, 35.22, 48.56, 32.97, 57.88, 36.05, 37.72, 50.36, 32.12, 41.55, 54.66, 57.81, 54.58, 32.88, 54.37, 40.45, 47.61, 60.49, 43.11, 27.32, 44.03, 33.56, 37.26, 54.64, 43.12, 25.34, 49.79, 83.56, 40.09, 60.81, 49.81]\n",
        "dem_share_OH = [56.94, 50.46, 65.99, 45.88, 42.23, 45.26, 57.01, 53.61, 59.10, 61.48, 43.43, 44.69, 54.59, 48.36, 45.89, 48.62, 43.92, 38.23, 28.79, 63.57, 38.07, 40.18, 43.05, 41.56, 42.49, 36.06, 52.76, 46.07, 39.43, 39.26, 47.47, 27.92, 38.01, 45.45, 29.07, 28.94, 51.28, 50.10, 39.84, 36.43, 35.71, 31.47, 47.01, 40.10, 48.76, 31.56, 39.86, 45.31, 35.47, 51.38, 46.33, 48.73, 41.77, 41.32, 48.46, 53.14, 34.01, 54.74, 40.67, 38.96, 46.29, 38.25, 6.80, 31.75, 46.33, 44.90, 33.57, 38.10, 39.67, 40.47, 49.44, 37.62, 36.71, 46.73, 42.20, 53.16, 52.40, 58.36, 68.02, 38.53, 34.58, 69.64, 60.50, 53.53, 36.54, 49.58, 41.97, 38.11]\n",
        "sample_pa = np.array(dem_share_PA)\n",
        "sample_oh = np.array(dem_share_OH)\n",
        "\n",
        "mean, lower, upper = bootstrap_mean_ci(sample_pa, sample_pa.shape[0], 20000 , 95, 2,func='mean')\n",
        "\n",
        "print('PA mean: ' + str(mean))\n",
        "print('PA lower: ' + str(lower))\n",
        "print('PA upper: ' + str(upper))\n",
        "\n",
        "mean, lower, upper = bootstrap_mean_ci(sample_oh, sample_oh.shape[0], 20000 , 95, 2,func='mean')\n",
        "\n",
        "print('OH mean: ' + str(mean))\n",
        "print('OH lower: ' + str(lower))\n",
        "print('OH upper: ' + str(upper))\n",
        "\n",
        "#permut_test(sample1,sample2,20000)\n",
        "\n"
      ],
      "execution_count": 23,
      "outputs": [
        {
          "output_type": "stream",
          "text": [
            "PA mean: 45.48\n",
            "PA lower: 43.17\n",
            "PA upper: 47.84\n",
            "OH mean: 44.32\n",
            "OH lower: 42.27\n",
            "OH upper: 46.36\n"
          ],
          "name": "stdout"
        }
      ]
    },
    {
      "cell_type": "code",
      "metadata": {
        "colab": {
          "base_uri": "https://localhost:8080/"
        },
        "id": "MGT3OkvXdqkV",
        "outputId": "5d9cc996-a48a-471c-aeda-83226dbbe4d0"
      },
      "source": [
        "permut_test(sample_oh,  sample_pa, 10000 , nRoundDigits=3)"
      ],
      "execution_count": 24,
      "outputs": [
        {
          "output_type": "execute_result",
          "data": {
            "text/plain": [
              "0.24"
            ]
          },
          "metadata": {
            "tags": []
          },
          "execution_count": 24
        }
      ]
    },
    {
      "cell_type": "code",
      "metadata": {
        "id": "dNr5yVTwfQ0y",
        "colab": {
          "base_uri": "https://localhost:8080/"
        },
        "outputId": "b75847b9-4aa6-4377-bb58-1c825f8ba433"
      },
      "source": [
        "if pvalue <= 0.05:\n",
        "  print('As p-value is less than or equal to 0.05, we reject the null hypothesis that is new fleet is better than old fleet')\n",
        "else:\n",
        "  print('As p-value is more than 0.05, we retain the null hypothesis and reject the alternative hypothesis that is old fleet is better than new fleet')"
      ],
      "execution_count": 25,
      "outputs": [
        {
          "output_type": "stream",
          "text": [
            "As p-value is less than or equal to 0.05, we reject the null hypothesis that is new fleet is better than old fleet\n"
          ],
          "name": "stdout"
        }
      ]
    },
    {
      "cell_type": "code",
      "metadata": {
        "id": "26tL-DtAR81a"
      },
      "source": [
        "# bootstrap_mean_ci(sample, sample_size, n_bootstraps, ci, nRoundDigits = 3,func='mean')"
      ],
      "execution_count": 26,
      "outputs": []
    }
  ]
}