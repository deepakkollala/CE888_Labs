{
  "nbformat": 4,
  "nbformat_minor": 0,
  "metadata": {
    "colab": {
      "name": "Lab8_ transfer_learning_FE.ipynb",
      "provenance": [],
      "collapsed_sections": [],
      "authorship_tag": "ABX9TyPaPJwvtFa9oGhIy6Z/AREA",
      "include_colab_link": true
    },
    "kernelspec": {
      "name": "python3",
      "display_name": "Python 3"
    },
    "language_info": {
      "name": "python"
    },
    "accelerator": "GPU"
  },
  "cells": [
    {
      "cell_type": "markdown",
      "metadata": {
        "id": "view-in-github",
        "colab_type": "text"
      },
      "source": [
        "<a href=\"https://colab.research.google.com/github/rajhazarika85/CE888-Raj/blob/main/Lab8/Lab8__transfer_learning_FE.ipynb\" target=\"_parent\"><img src=\"https://colab.research.google.com/assets/colab-badge.svg\" alt=\"Open In Colab\"/></a>"
      ]
    },
    {
      "cell_type": "code",
      "metadata": {
        "colab": {
          "base_uri": "https://localhost:8080/"
        },
        "id": "mm6pkv7SyZva",
        "outputId": "6258fb8b-44a7-4eb8-a76b-34a9c46e8ffc"
      },
      "source": [
        "!git clone https://github.com/sagihaider/CE888_2021.git"
      ],
      "execution_count": 1,
      "outputs": [
        {
          "output_type": "stream",
          "text": [
            "Cloning into 'CE888_2021'...\n",
            "remote: Enumerating objects: 381, done.\u001b[K\n",
            "remote: Counting objects: 100% (191/191), done.\u001b[K\n",
            "remote: Compressing objects: 100% (172/172), done.\u001b[K\n",
            "remote: Total 381 (delta 120), reused 30 (delta 17), pack-reused 190\u001b[K\n",
            "Receiving objects: 100% (381/381), 20.57 MiB | 47.97 MiB/s, done.\n",
            "Resolving deltas: 100% (190/190), done.\n"
          ],
          "name": "stdout"
        }
      ]
    },
    {
      "cell_type": "code",
      "metadata": {
        "colab": {
          "base_uri": "https://localhost:8080/"
        },
        "id": "MFBisHf4ysAN",
        "outputId": "5f61f398-c371-46e8-bed5-1ec30ba2b83b"
      },
      "source": [
        "\n",
        "\n",
        "# Unzip training data\n",
        "from zipfile import ZipFile\n",
        "file_name = \"/content/CE888_2021/Lab_8/data.zip\"\n",
        "with ZipFile(file_name, 'r') as zip:\n",
        "  zip.extractall()\n",
        "  print('done')"
      ],
      "execution_count": 2,
      "outputs": [
        {
          "output_type": "stream",
          "text": [
            "done\n"
          ],
          "name": "stdout"
        }
      ]
    },
    {
      "cell_type": "code",
      "metadata": {
        "id": "I-aLkCgs3Oj4"
      },
      "source": [
        "base_dir = './'"
      ],
      "execution_count": 5,
      "outputs": []
    },
    {
      "cell_type": "code",
      "metadata": {
        "id": "LD2DA4Eu2_dU"
      },
      "source": [
        "import os\n",
        "\n",
        "train_dir = os.path.join(base_dir, 'train')\n",
        "os.mkdir(train_dir)\n",
        "\n",
        "test_dir = os.path.join(base_dir, 'test')\n",
        "os.mkdir(test_dir)"
      ],
      "execution_count": 6,
      "outputs": []
    },
    {
      "cell_type": "code",
      "metadata": {
        "id": "VI2fmckq4DfB"
      },
      "source": [
        "pth = 'test'\n",
        "os.mkdir('/content/'+pth+'/Humans')\n",
        "os.mkdir('/content/'+pth+'/cats')\n",
        "os.mkdir('/content/'+pth+'/dogs')\n",
        "os.mkdir('/content/'+pth+'/horses')\n",
        "\n",
        "pth = 'train'\n",
        "os.mkdir('/content/'+pth+'/Humans')\n",
        "os.mkdir('/content/'+pth+'/cats')\n",
        "os.mkdir('/content/'+pth+'/dogs')\n",
        "os.mkdir('/content/'+pth+'/horses')\n"
      ],
      "execution_count": 7,
      "outputs": []
    },
    {
      "cell_type": "code",
      "metadata": {
        "id": "TUs7yZ1j43nA"
      },
      "source": [
        "\n",
        "import pandas as pd\n",
        "import shutil\n",
        "\n",
        "def split_data(cls):\n",
        "  flname = []\n",
        "  fullpath = []\n",
        "  strpath = './data/' + cls\n",
        "  for filename in os.listdir(strpath):\n",
        "      if filename.endswith(\"jpg\"): \n",
        "        flname.append(filename)\n",
        "        fullpath.append(strpath + '/' + filename)\n",
        "\n",
        "  df = pd.DataFrame({'filename':flname, 'fullpath':fullpath })\n",
        "  n_split = .7\n",
        "  tot = len(fullpath)\n",
        "  train_tot = round(len(fullpath) * n_split)\n",
        "  test_tot = round(len(fullpath) * (1-n_split))\n",
        "\n",
        "  train_df = df.iloc[:train_tot,:]\n",
        "  test_df = df.iloc[train_tot:,:]\n",
        "\n",
        "  for idx, row in train_df.iterrows():\n",
        "    src = row['fullpath']\n",
        "    dst = './train/' + cls + '/' + row['filename']\n",
        "    print('train', src,dst)\n",
        "    shutil.copyfile(src, dst)\n",
        "\n",
        "  for idx, row in test_df.iterrows():\n",
        "    src = row['fullpath']\n",
        "    dst = './test/' + cls + '/' + row['filename']\n",
        "    print('train', src,dst)\n",
        "    shutil.copyfile(src, dst)"
      ],
      "execution_count": 8,
      "outputs": []
    },
    {
      "cell_type": "code",
      "metadata": {
        "id": "2pzjlZ-36g7e"
      },
      "source": [
        "split_data('Humans')\n",
        "split_data('cats')\n",
        "split_data('dogs')\n",
        "split_data('horses')\n"
      ],
      "execution_count": null,
      "outputs": []
    },
    {
      "cell_type": "code",
      "metadata": {
        "id": "0a63IP_mBhMK"
      },
      "source": [
        "import tensorflow as tf \n",
        "from tensorflow.keras.preprocessing.image import ImageDataGenerator \n",
        "from tensorflow.keras import layers \n",
        "from tensorflow.keras import Model \n",
        "import cv2\n",
        "import numpy as np\n",
        "from random import shuffle"
      ],
      "execution_count": 48,
      "outputs": []
    },
    {
      "cell_type": "code",
      "metadata": {
        "id": "D_Y6Tjcfvikh"
      },
      "source": [
        "def label_img(img):\n",
        "    #print('img', img)\n",
        "    word_label = img.split('.')[0]\n",
        "    #print('word_label', word_label)\n",
        "    if word_label == 'Humans': return 0\n",
        "    elif word_label == 'cats': return 1\n",
        "    elif word_label == 'dogs': return 2\n",
        "    elif word_label == 'horses': return 3\n",
        "    "
      ],
      "execution_count": 49,
      "outputs": []
    },
    {
      "cell_type": "code",
      "metadata": {
        "id": "9kwfY7QRwzZ2"
      },
      "source": [
        ""
      ],
      "execution_count": 62,
      "outputs": []
    },
    {
      "cell_type": "code",
      "metadata": {
        "id": "jG36Y3sTu5RR"
      },
      "source": [
        "IMG_SIZE = 150\n",
        "def createDataSplitSet(datapath):\n",
        "    X=[]\n",
        "    y=[]\n",
        "\n",
        "    for f in os.listdir(datapath):\n",
        "        label = label_img(f)\n",
        "        #print(label)\n",
        "        path = os.path.join(datapath, f)\n",
        "\n",
        "        for img in os.listdir(path):\n",
        "          ipath = os.path.join(path, img)\n",
        "          #print(ipath)\n",
        "          image = cv2.resize(cv2.imread(ipath), (IMG_SIZE, IMG_SIZE))\n",
        "          image = cv2.normalize(image, None, alpha=0, beta=1, norm_type=cv2.NORM_MINMAX, dtype=cv2.CV_32F)\n",
        "\n",
        "          X.append(np.array(image))\n",
        "          y.append(label)\n",
        "\n",
        "    return np.array(X), np.array(y)"
      ],
      "execution_count": 64,
      "outputs": []
    },
    {
      "cell_type": "code",
      "metadata": {
        "id": "EZNiVr5VvLC0"
      },
      "source": [
        "train_dir = '/content/train'\n",
        "validation_dir = '/content/test'\n",
        "test_dir= '/content/test'"
      ],
      "execution_count": 57,
      "outputs": []
    },
    {
      "cell_type": "code",
      "metadata": {
        "id": "J0k8Er5ju57e"
      },
      "source": [
        "from keras.utils import to_categorical\n",
        "\n",
        "\n",
        "train_X, train_y = createDataSplitSet(train_dir)\n",
        "val_X, val_y = createDataSplitSet(validation_dir)\n",
        "test_X, test_y = createDataSplitSet(test_dir)\n",
        "\n",
        "\n",
        "train_y = to_categorical(train_y, 4)\n",
        "val_y = to_categorical(val_y, 4)\n",
        "test_y = to_categorical(test_y, 4)"
      ],
      "execution_count": 65,
      "outputs": []
    },
    {
      "cell_type": "code",
      "metadata": {
        "colab": {
          "base_uri": "https://localhost:8080/"
        },
        "id": "906XPTdM-LDH",
        "outputId": "ee887a9d-76a7-44bc-937d-b14ca0b03020"
      },
      "source": [
        "train_datagen = ImageDataGenerator(\n",
        "        rescale=1./255,\n",
        "        shear_range=0.2,\n",
        "        zoom_range=0.2,\n",
        "        horizontal_flip=True)\n",
        "test_datagen = ImageDataGenerator(rescale=1./255)\n",
        "\n",
        "train_generator = train_datagen.flow_from_directory(\n",
        "        './train/',\n",
        "        target_size = (150, 150),\n",
        "        batch_size=32,\n",
        "        class_mode='categorical')\n",
        "validation_generator = test_datagen.flow_from_directory(\n",
        "        './test',\n",
        "        target_size = (150, 150),\n",
        "        batch_size=32,\n",
        "        class_mode='categorical')"
      ],
      "execution_count": 11,
      "outputs": [
        {
          "output_type": "stream",
          "text": [
            "Found 564 images belonging to 4 classes.\n",
            "Found 244 images belonging to 4 classes.\n"
          ],
          "name": "stdout"
        }
      ]
    },
    {
      "cell_type": "code",
      "metadata": {
        "colab": {
          "base_uri": "https://localhost:8080/"
        },
        "id": "7pCYR2VmoPEy",
        "outputId": "14dc9868-46cd-428b-9407-bda8741d2682"
      },
      "source": [
        "from tensorflow.keras.applications.inception_v3 import InceptionV3\n",
        "from tensorflow.keras.optimizers import RMSprop\n",
        "\n",
        "\n",
        "base_model = InceptionV3(input_shape = (150, 150, 3), include_top = False, weights = 'imagenet')\n",
        "for layer in base_model.layers:\n",
        "    layer.trainable = False\n",
        "\n",
        "x = layers.Flatten()(base_model.output)\n",
        "x = layers.Dense(1024, activation='relu')(x)\n",
        "x = layers.Dropout(0.2)(x)\n",
        "x = layers.Dense(4, activation='softmax')(x)\n",
        "\n",
        "model = tf.keras.models.Model(base_model.input, x)\n",
        "\n",
        "model.compile(optimizer = RMSprop(lr=0.0001), loss = 'categorical_crossentropy', metrics = ['acc'])"
      ],
      "execution_count": 16,
      "outputs": [
        {
          "output_type": "stream",
          "text": [
            "Downloading data from https://storage.googleapis.com/tensorflow/keras-applications/inception_v3/inception_v3_weights_tf_dim_ordering_tf_kernels_notop.h5\n",
            "87916544/87910968 [==============================] - 1s 0us/step\n"
          ],
          "name": "stdout"
        }
      ]
    },
    {
      "cell_type": "code",
      "metadata": {
        "id": "zYhderSirdt8"
      },
      "source": [
        "from tensorflow.keras.callbacks import EarlyStopping, ModelCheckpoint\n",
        "my_callbacks = [\n",
        "    EarlyStopping(monitor=\"val_loss\", patience=10, restore_best_weights=True),\n",
        "    ModelCheckpoint(filepath='inceptionv3_model.h5', save_best_only=True),\n",
        "]"
      ],
      "execution_count": 17,
      "outputs": []
    },
    {
      "cell_type": "code",
      "metadata": {
        "id": "mMLdvNKHrj2r"
      },
      "source": [
        ""
      ],
      "execution_count": null,
      "outputs": []
    },
    {
      "cell_type": "code",
      "metadata": {
        "colab": {
          "base_uri": "https://localhost:8080/"
        },
        "id": "zqqsevJ2rrYQ",
        "outputId": "61eb8fcc-dd05-4582-cf69-53eb32cc5b8b"
      },
      "source": [
        "history = model.fit(train_X, train_y,\n",
        "                               batch_size=10,\n",
        "                               epochs=10, \n",
        "                               validation_data=(val_X, val_y),\n",
        "                               callbacks=my_callbacks)"
      ],
      "execution_count": 66,
      "outputs": [
        {
          "output_type": "stream",
          "text": [
            "Epoch 1/10\n",
            "57/57 [==============================] - 7s 66ms/step - loss: 0.5326 - acc: 0.9362 - val_loss: 1.3742 - val_acc: 0.8934\n",
            "Epoch 2/10\n",
            "57/57 [==============================] - 2s 35ms/step - loss: 0.3725 - acc: 0.9610 - val_loss: 0.9676 - val_acc: 0.9221\n",
            "Epoch 3/10\n",
            "57/57 [==============================] - 2s 35ms/step - loss: 0.2617 - acc: 0.9770 - val_loss: 2.5229 - val_acc: 0.8320\n",
            "Epoch 4/10\n",
            "57/57 [==============================] - 2s 35ms/step - loss: 0.1854 - acc: 0.9770 - val_loss: 0.7104 - val_acc: 0.9303\n",
            "Epoch 5/10\n",
            "57/57 [==============================] - 2s 35ms/step - loss: 0.1061 - acc: 0.9805 - val_loss: 0.6615 - val_acc: 0.9426\n",
            "Epoch 6/10\n",
            "57/57 [==============================] - 2s 35ms/step - loss: 0.0947 - acc: 0.9876 - val_loss: 0.5038 - val_acc: 0.9549\n",
            "Epoch 7/10\n",
            "57/57 [==============================] - 2s 35ms/step - loss: 0.0348 - acc: 0.9894 - val_loss: 0.6659 - val_acc: 0.9590\n",
            "Epoch 8/10\n",
            "57/57 [==============================] - 2s 35ms/step - loss: 3.0296e-06 - acc: 1.0000 - val_loss: 0.6517 - val_acc: 0.9631\n",
            "Epoch 9/10\n",
            "57/57 [==============================] - 2s 35ms/step - loss: 0.0253 - acc: 0.9965 - val_loss: 0.9489 - val_acc: 0.9549\n",
            "Epoch 10/10\n",
            "57/57 [==============================] - 2s 35ms/step - loss: 0.0746 - acc: 0.9929 - val_loss: 0.9560 - val_acc: 0.9344\n"
          ],
          "name": "stdout"
        }
      ]
    },
    {
      "cell_type": "code",
      "metadata": {
        "colab": {
          "base_uri": "https://localhost:8080/",
          "height": 544
        },
        "id": "bmkmnlXdr_Q7",
        "outputId": "82bf8328-e70f-4e82-b4d6-38eed6cbd11b"
      },
      "source": [
        "import matplotlib.pyplot as plt\n",
        "\n",
        "acc = history.history['acc']\n",
        "val_acc = history.history['val_acc']\n",
        "loss = history.history['loss']\n",
        "val_loss = history.history['val_loss']\n",
        "\n",
        "epochs = range(1, len(acc) + 1)\n",
        "\n",
        "plt.plot(epochs, acc, 'bo', label='Training acc')\n",
        "plt.plot(epochs, val_acc, 'b', label='Validation acc')\n",
        "plt.title('Training and validation accuracy')\n",
        "plt.legend()\n",
        "\n",
        "plt.figure()\n",
        "\n",
        "plt.plot(epochs, loss, 'bo', label='Training loss')\n",
        "plt.plot(epochs, val_loss, 'b', label='Validation loss')\n",
        "plt.title('Training and validation loss')\n",
        "plt.legend()\n",
        "\n",
        "plt.show()"
      ],
      "execution_count": 67,
      "outputs": [
        {
          "output_type": "display_data",
          "data": {
            "image/png": "[encoded data removed]",
            "text/plain": [
              "<Figure size 432x288 with 1 Axes>"
            ]
          },
          "metadata": {
            "tags": [],
            "needs_background": "light"
          }
        },
        {
          "output_type": "display_data",
          "data": {
            "image/png": "[encoded data removed]",
            "text/plain": [
              "<Figure size 432x288 with 1 Axes>"
            ]
          },
          "metadata": {
            "tags": [],
            "needs_background": "light"
          }
        }
      ]
    },
    {
      "cell_type": "code",
      "metadata": {
        "colab": {
          "base_uri": "https://localhost:8080/"
        },
        "id": "P8S1nv12sZvR",
        "outputId": "fa880076-a659-4afd-d61e-7891514c8533"
      },
      "source": [
        "from sklearn.metrics import accuracy_score\n",
        "\n",
        "## Test Accuracy\n",
        "predictions = model.predict(test_X)\n",
        "ypred = predictions > 0.5\n",
        "test_acc = accuracy_score(test_y, ypred)\n",
        "\n",
        "from sklearn.metrics import precision_recall_fscore_support, roc_auc_score\n",
        "\n",
        "precision, recall, f1score, _ = precision_recall_fscore_support(test_y, ypred)\n",
        "\n",
        "auc = roc_auc_score(test_y, ypred)\n",
        "\n",
        "print(\"Train Accuracy:\\t\", acc[-1])\n",
        "print(\"Val Accuracy:\\t\", val_acc[-1])\n",
        "print(\"Test Accuracy:\\t\", test_acc)\n",
        "print(\"Precision:\\t\", precision)\n",
        "print(\"Recall:\\t\\t\", recall)\n",
        "print(\"F1 Score:\\t\", f1score)\n",
        "print(\"AUC:\\t\\t\", auc)"
      ],
      "execution_count": 69,
      "outputs": [
        {
          "output_type": "stream",
          "text": [
            "Train Accuracy:\t 0.9929078221321106\n",
            "Val Accuracy:\t 0.9344262480735779\n",
            "Test Accuracy:\t 0.9344262295081968\n",
            "Precision:\t [0.98275862 0.96491228 0.90163934 0.89705882]\n",
            "Recall:\t\t [0.93442623 0.90163934 0.90163934 1.        ]\n",
            "F1 Score:\t [0.95798319 0.93220339 0.90163934 0.94573643]\n",
            "AUC:\t\t 0.9562841530054644\n"
          ],
          "name": "stdout"
        }
      ]
    }
  ]
}