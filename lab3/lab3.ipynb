{
  "nbformat": 4,
  "nbformat_minor": 0,
  "metadata": {
    "colab": {
      "name": "lab3.ipynb",
      "provenance": [],
      "collapsed_sections": [],
      "include_colab_link": true
    },
    "kernelspec": {
      "display_name": "Python 3",
      "language": "python",
      "name": "python3"
    },
    "language_info": {
      "codemirror_mode": {
        "name": "ipython",
        "version": 3
      },
      "file_extension": ".py",
      "mimetype": "text/x-python",
      "name": "python",
      "nbconvert_exporter": "python",
      "pygments_lexer": "ipython3",
      "version": "3.9.0"
    }
  },
  "cells": [
    {
      "cell_type": "markdown",
      "metadata": {
        "id": "view-in-github",
        "colab_type": "text"
      },
      "source": [
        "<a href=\"https://colab.research.google.com/github/deepakkollala/CE888_Labs/blob/main/lab3/lab3.ipynb\" target=\"_parent\"><img src=\"https://colab.research.google.com/assets/colab-badge.svg\" alt=\"Open In Colab\"/></a>"
      ]
    },
    {
      "cell_type": "markdown",
      "metadata": {
        "id": "IgaW8adP4BYX"
      },
      "source": [
        "**Import Library**"
      ]
    },
    {
      "cell_type": "code",
      "metadata": {
        "id": "1U4Rxbub3_dk"
      },
      "source": [
        "%matplotlib inline\n",
        "import matplotlib\n",
        "import numpy as np\n",
        "import matplotlib.pyplot as plt\n",
        "import pandas as pd\n",
        "import seaborn as sns\n",
        "import itertools\n",
        "\n",
        "from sklearn.tree import DecisionTreeRegressor\n",
        "from sklearn.model_selection import StratifiedKFold\n",
        "from sklearn.ensemble import RandomForestClassifier, ExtraTreesClassifier\n",
        "from sklearn.model_selection import train_test_split\n",
        "from sklearn.model_selection import cross_val_score\n",
        "from sklearn.metrics import mean_squared_error as mse\n",
        "from sklearn.metrics import mean_absolute_error as mae\n",
        "from sklearn.metrics import accuracy_score as acc\n",
        "from sklearn.metrics import make_scorer, confusion_matrix , classification_report, f1_score\n",
        "from sklearn.dummy import DummyRegressor, DummyClassifier\n",
        "from sklearn.preprocessing import LabelEncoder"
      ],
      "execution_count": null,
      "outputs": []
    },
    {
      "cell_type": "markdown",
      "metadata": {
        "id": "MFA9t4jb3ksh"
      },
      "source": [
        "**Load the data from bank-additional-full.csv**"
      ]
    },
    {
      "cell_type": "code",
      "metadata": {
        "colab": {
          "base_uri": "https://localhost:8080/",
          "height": 204
        },
        "id": "bWJJTu-O0-2Z",
        "outputId": "e6e6f258-4745-4237-fb67-454e0fd74678"
      },
      "source": [
        "df = pd.read_csv('https://raw.githubusercontent.com/albanda/CE888/master/lab3/bank-additional-full.csv',sep=';')\n",
        "df.head()"
      ],
      "execution_count": null,
      "outputs": [
        {
          "output_type": "execute_result",
          "data": {
            "text/html": [
              "<div>\n",
              "<style scoped>\n",
              "    .dataframe tbody tr th:only-of-type {\n",
              "        vertical-align: middle;\n",
              "    }\n",
              "\n",
              "    .dataframe tbody tr th {\n",
              "        vertical-align: top;\n",
              "    }\n",
              "\n",
              "    .dataframe thead th {\n",
              "        text-align: right;\n",
              "    }\n",
              "</style>\n",
              "<table border=\"1\" class=\"dataframe\">\n",
              "  <thead>\n",
              "    <tr style=\"text-align: right;\">\n",
              "      <th></th>\n",
              "      <th>age</th>\n",
              "      <th>job</th>\n",
              "      <th>marital</th>\n",
              "      <th>education</th>\n",
              "      <th>default</th>\n",
              "      <th>housing</th>\n",
              "      <th>loan</th>\n",
              "      <th>contact</th>\n",
              "      <th>month</th>\n",
              "      <th>day_of_week</th>\n",
              "      <th>duration</th>\n",
              "      <th>campaign</th>\n",
              "      <th>pdays</th>\n",
              "      <th>previous</th>\n",
              "      <th>poutcome</th>\n",
              "      <th>emp.var.rate</th>\n",
              "      <th>cons.price.idx</th>\n",
              "      <th>cons.conf.idx</th>\n",
              "      <th>euribor3m</th>\n",
              "      <th>nr.employed</th>\n",
              "      <th>y</th>\n",
              "    </tr>\n",
              "  </thead>\n",
              "  <tbody>\n",
              "    <tr>\n",
              "      <th>0</th>\n",
              "      <td>56</td>\n",
              "      <td>housemaid</td>\n",
              "      <td>married</td>\n",
              "      <td>basic.4y</td>\n",
              "      <td>no</td>\n",
              "      <td>no</td>\n",
              "      <td>no</td>\n",
              "      <td>telephone</td>\n",
              "      <td>may</td>\n",
              "      <td>mon</td>\n",
              "      <td>261</td>\n",
              "      <td>1</td>\n",
              "      <td>999</td>\n",
              "      <td>0</td>\n",
              "      <td>nonexistent</td>\n",
              "      <td>1.1</td>\n",
              "      <td>93.994</td>\n",
              "      <td>-36.4</td>\n",
              "      <td>4.857</td>\n",
              "      <td>5191.0</td>\n",
              "      <td>no</td>\n",
              "    </tr>\n",
              "    <tr>\n",
              "      <th>1</th>\n",
              "      <td>57</td>\n",
              "      <td>services</td>\n",
              "      <td>married</td>\n",
              "      <td>high.school</td>\n",
              "      <td>unknown</td>\n",
              "      <td>no</td>\n",
              "      <td>no</td>\n",
              "      <td>telephone</td>\n",
              "      <td>may</td>\n",
              "      <td>mon</td>\n",
              "      <td>149</td>\n",
              "      <td>1</td>\n",
              "      <td>999</td>\n",
              "      <td>0</td>\n",
              "      <td>nonexistent</td>\n",
              "      <td>1.1</td>\n",
              "      <td>93.994</td>\n",
              "      <td>-36.4</td>\n",
              "      <td>4.857</td>\n",
              "      <td>5191.0</td>\n",
              "      <td>no</td>\n",
              "    </tr>\n",
              "    <tr>\n",
              "      <th>2</th>\n",
              "      <td>37</td>\n",
              "      <td>services</td>\n",
              "      <td>married</td>\n",
              "      <td>high.school</td>\n",
              "      <td>no</td>\n",
              "      <td>yes</td>\n",
              "      <td>no</td>\n",
              "      <td>telephone</td>\n",
              "      <td>may</td>\n",
              "      <td>mon</td>\n",
              "      <td>226</td>\n",
              "      <td>1</td>\n",
              "      <td>999</td>\n",
              "      <td>0</td>\n",
              "      <td>nonexistent</td>\n",
              "      <td>1.1</td>\n",
              "      <td>93.994</td>\n",
              "      <td>-36.4</td>\n",
              "      <td>4.857</td>\n",
              "      <td>5191.0</td>\n",
              "      <td>no</td>\n",
              "    </tr>\n",
              "    <tr>\n",
              "      <th>3</th>\n",
              "      <td>40</td>\n",
              "      <td>admin.</td>\n",
              "      <td>married</td>\n",
              "      <td>basic.6y</td>\n",
              "      <td>no</td>\n",
              "      <td>no</td>\n",
              "      <td>no</td>\n",
              "      <td>telephone</td>\n",
              "      <td>may</td>\n",
              "      <td>mon</td>\n",
              "      <td>151</td>\n",
              "      <td>1</td>\n",
              "      <td>999</td>\n",
              "      <td>0</td>\n",
              "      <td>nonexistent</td>\n",
              "      <td>1.1</td>\n",
              "      <td>93.994</td>\n",
              "      <td>-36.4</td>\n",
              "      <td>4.857</td>\n",
              "      <td>5191.0</td>\n",
              "      <td>no</td>\n",
              "    </tr>\n",
              "    <tr>\n",
              "      <th>4</th>\n",
              "      <td>56</td>\n",
              "      <td>services</td>\n",
              "      <td>married</td>\n",
              "      <td>high.school</td>\n",
              "      <td>no</td>\n",
              "      <td>no</td>\n",
              "      <td>yes</td>\n",
              "      <td>telephone</td>\n",
              "      <td>may</td>\n",
              "      <td>mon</td>\n",
              "      <td>307</td>\n",
              "      <td>1</td>\n",
              "      <td>999</td>\n",
              "      <td>0</td>\n",
              "      <td>nonexistent</td>\n",
              "      <td>1.1</td>\n",
              "      <td>93.994</td>\n",
              "      <td>-36.4</td>\n",
              "      <td>4.857</td>\n",
              "      <td>5191.0</td>\n",
              "      <td>no</td>\n",
              "    </tr>\n",
              "  </tbody>\n",
              "</table>\n",
              "</div>"
            ],
            "text/plain": [
              "   age        job  marital  ... euribor3m nr.employed   y\n",
              "0   56  housemaid  married  ...     4.857      5191.0  no\n",
              "1   57   services  married  ...     4.857      5191.0  no\n",
              "2   37   services  married  ...     4.857      5191.0  no\n",
              "3   40     admin.  married  ...     4.857      5191.0  no\n",
              "4   56   services  married  ...     4.857      5191.0  no\n",
              "\n",
              "[5 rows x 21 columns]"
            ]
          },
          "metadata": {
            "tags": []
          },
          "execution_count": 2
        }
      ]
    },
    {
      "cell_type": "markdown",
      "metadata": {
        "id": "HN5KncO4RmXc"
      },
      "source": [
        "**No of features**"
      ]
    },
    {
      "cell_type": "code",
      "metadata": {
        "colab": {
          "base_uri": "https://localhost:8080/"
        },
        "id": "qjq0rIoFkQeV",
        "outputId": "1fac32f7-cfe7-4a09-f844-6b551eafc475"
      },
      "source": [
        "len(df.columns) -1"
      ],
      "execution_count": null,
      "outputs": [
        {
          "output_type": "execute_result",
          "data": {
            "text/plain": [
              "20"
            ]
          },
          "metadata": {
            "tags": []
          },
          "execution_count": 3
        }
      ]
    },
    {
      "cell_type": "markdown",
      "metadata": {
        "id": "gjm7B6MlRmXd"
      },
      "source": [
        "#  Data preprocessing"
      ]
    },
    {
      "cell_type": "markdown",
      "metadata": {
        "id": "w1Q19ukL4P63"
      },
      "source": [
        "**Check null values**"
      ]
    },
    {
      "cell_type": "code",
      "metadata": {
        "colab": {
          "base_uri": "https://localhost:8080/"
        },
        "id": "oNPE_Bs_4O7c",
        "outputId": "bdb0cb34-f2b6-47f9-a398-fb23db9e850c"
      },
      "source": [
        "df.isnull().sum().sort_values(ascending=False)"
      ],
      "execution_count": null,
      "outputs": [
        {
          "output_type": "execute_result",
          "data": {
            "text/plain": [
              "y                 0\n",
              "day_of_week       0\n",
              "job               0\n",
              "marital           0\n",
              "education         0\n",
              "default           0\n",
              "housing           0\n",
              "loan              0\n",
              "contact           0\n",
              "month             0\n",
              "duration          0\n",
              "nr.employed       0\n",
              "campaign          0\n",
              "pdays             0\n",
              "previous          0\n",
              "poutcome          0\n",
              "emp.var.rate      0\n",
              "cons.price.idx    0\n",
              "cons.conf.idx     0\n",
              "euribor3m         0\n",
              "age               0\n",
              "dtype: int64"
            ]
          },
          "metadata": {
            "tags": []
          },
          "execution_count": 4
        }
      ]
    },
    {
      "cell_type": "markdown",
      "metadata": {
        "id": "CdoRad2M3t0g"
      },
      "source": [
        "**Use LabelEncoder to convert the label into numbers.**"
      ]
    },
    {
      "cell_type": "code",
      "metadata": {
        "id": "wWiomz6F3vzI"
      },
      "source": [
        "# Apply labelencoder to Target variable\n",
        "df[[\"y\"]] = df[[\"y\"]].apply(LabelEncoder().fit_transform)"
      ],
      "execution_count": null,
      "outputs": []
    },
    {
      "cell_type": "markdown",
      "metadata": {
        "id": "8R5u6YB1_jmd"
      },
      "source": [
        "**Perform one-hot encoding on the categorical features using df_dummies = pd.get_dummies(df)**\n"
      ]
    },
    {
      "cell_type": "code",
      "metadata": {
        "id": "53gem4Km_lcr"
      },
      "source": [
        "df_dummies = pd.get_dummies(df)"
      ],
      "execution_count": null,
      "outputs": []
    },
    {
      "cell_type": "markdown",
      "metadata": {
        "id": "64vtboGB_0hx"
      },
      "source": [
        "**Column \"duration\" must be deleted**"
      ]
    },
    {
      "cell_type": "code",
      "metadata": {
        "id": "lydL1mL__9m5"
      },
      "source": [
        "df_dummies.drop(columns='duration',inplace=True)"
      ],
      "execution_count": null,
      "outputs": []
    },
    {
      "cell_type": "markdown",
      "metadata": {
        "id": "eug_iAUNAVCh"
      },
      "source": [
        "**Check if there are any missing values in the dataset. If there are, drop the rows.**\n"
      ]
    },
    {
      "cell_type": "code",
      "metadata": {
        "colab": {
          "base_uri": "https://localhost:8080/"
        },
        "id": "wsfwCTHaAVkh",
        "outputId": "405110e0-b0cb-44b9-b8a2-0a4dbd3c2cb0"
      },
      "source": [
        "print(\"Number of rows before dropping NaNs: %d\" % len(df_dummies))\n",
        "df_dummies = df_dummies.dropna()\n",
        "print(\"Number of rows after dropping NaNs: %d\" % len(df_dummies))"
      ],
      "execution_count": null,
      "outputs": [
        {
          "output_type": "stream",
          "text": [
            "Number of rows before dropping NaNs: 41188\n",
            "Number of rows after dropping NaNs: 41188\n"
          ],
          "name": "stdout"
        }
      ]
    },
    {
      "cell_type": "markdown",
      "metadata": {
        "id": "rO1Dwde7A5wo"
      },
      "source": [
        "**Plot histogram of the label and calculate the imbalance in the dataset.**"
      ]
    },
    {
      "cell_type": "code",
      "metadata": {
        "colab": {
          "base_uri": "https://localhost:8080/",
          "height": 295
        },
        "id": "C-IM0HwjA4vs",
        "outputId": "89fa8a22-37ba-433f-f3a8-1bf78a5e0c6f"
      },
      "source": [
        "sns_plot = sns.histplot(df_dummies.y, kde=False).set_title('Y Class Imbalance')"
      ],
      "execution_count": null,
      "outputs": [
        {
          "output_type": "display_data",
          "data": {
            "image/png": "[encoded data removed]",
            "text/plain": [
              "<Figure size 432x288 with 1 Axes>"
            ]
          },
          "metadata": {
            "tags": []
          }
        }
      ]
    },
    {
      "cell_type": "markdown",
      "metadata": {
        "id": "TUHMOrrSRmXh"
      },
      "source": [
        "# Let's model the data:"
      ]
    },
    {
      "cell_type": "markdown",
      "metadata": {
        "id": "eA-JgilwBfnt"
      },
      "source": [
        "**Using the train_test_split function in scikit-learn, separate your dataset into a training and a test set, with a test size of 20% and random_state=50. Make sure the train/test split is stratified (and check that it is!). Stratified means that the percentages of classes in each fold remains constant.**"
      ]
    },
    {
      "cell_type": "code",
      "metadata": {
        "id": "uxhrrIHsFtmL"
      },
      "source": [
        "y = df_dummies[['y']]\n",
        "X = df_dummies.drop(columns='y')"
      ],
      "execution_count": null,
      "outputs": []
    },
    {
      "cell_type": "code",
      "metadata": {
        "id": "GFXhhfojBhfd"
      },
      "source": [
        "X_train, X_test, Y_train, Y_test = train_test_split(X,y, test_size = .2, random_state=50, stratify=y.y)"
      ],
      "execution_count": null,
      "outputs": []
    },
    {
      "cell_type": "markdown",
      "metadata": {
        "id": "i3jhnRtGK803"
      },
      "source": [
        "Stratified Train Test Split"
      ]
    },
    {
      "cell_type": "code",
      "metadata": {
        "colab": {
          "base_uri": "https://localhost:8080/",
          "height": 295
        },
        "id": "s3_vhBDuKqQv",
        "outputId": "a57b9966-6337-4eee-92bc-aaedfc1cef66"
      },
      "source": [
        "sns_plot = sns.histplot(Y_train.y, kde=False).set_title('Y_train Class Imbalance')"
      ],
      "execution_count": null,
      "outputs": [
        {
          "output_type": "display_data",
          "data": {
            "image/png": "[encoded data removed]",
            "text/plain": [
              "<Figure size 432x288 with 1 Axes>"
            ]
          },
          "metadata": {
            "tags": []
          }
        }
      ]
    },
    {
      "cell_type": "code",
      "metadata": {
        "colab": {
          "base_uri": "https://localhost:8080/",
          "height": 295
        },
        "id": "f8Q9ydQN2WjN",
        "outputId": "1a497c7c-7037-45e1-84e1-76b674c6a1d9"
      },
      "source": [
        "sns_plot = sns.histplot(Y_test.y, kde=False).set_title('Y_test Class Imbalance')"
      ],
      "execution_count": null,
      "outputs": [
        {
          "output_type": "display_data",
          "data": {
            "image/png": "[encoded data removed]",
            "text/plain": [
              "<Figure size 432x288 with 1 Axes>"
            ]
          },
          "metadata": {
            "tags": []
          }
        }
      ]
    },
    {
      "cell_type": "markdown",
      "metadata": {
        "id": "xS5vhw_1GUBI"
      },
      "source": [
        "**Report the results of 10-fold stratified cross-validation on the training set using a random forest classifier with 100 trees and depth=3. Ensure you're using an appropriate metric (Use sorted(sklearn.metrics.SCORERS.keys()) to see what are the valid options).**"
      ]
    },
    {
      "cell_type": "code",
      "metadata": {
        "colab": {
          "base_uri": "https://localhost:8080/"
        },
        "id": "wRaG6DxqRmXk",
        "outputId": "22591ca2-a63c-4ed1-a456-2307bc6532d5"
      },
      "source": [
        "clf = RandomForestClassifier(n_estimators=100, max_depth=3,verbose=False)\n",
        "\n",
        "skf = StratifiedKFold(n_splits=10)\n",
        "f1scores = cross_val_score(clf, X_train, Y_train.values.ravel(), cv=skf, scoring=\"f1\",verbose=False) \n",
        "print(\"F1 Score: %.2f +/- %.2f\" % (f1scores.mean(), f1scores.std()))\n",
        "\n",
        "RandomForestClassifierScore = f1scores.mean()"
      ],
      "execution_count": null,
      "outputs": [
        {
          "output_type": "stream",
          "text": [
            "F1 Score: 0.25 +/- 0.05\n"
          ],
          "name": "stdout"
        }
      ]
    },
    {
      "cell_type": "markdown",
      "metadata": {
        "id": "WnN1ve7RHsyl"
      },
      "source": [
        "**Compare the results of your classifier with that of a dummy classifier.**"
      ]
    },
    {
      "cell_type": "code",
      "metadata": {
        "colab": {
          "base_uri": "https://localhost:8080/"
        },
        "id": "kmJHxlp8Huy8",
        "outputId": "42e2166c-eec4-4703-d7fa-fb38e2e9fada"
      },
      "source": [
        "dummy_classifier = DummyClassifier(strategy=\"stratified\")\n",
        "\n",
        "skf = StratifiedKFold(n_splits=10)\n",
        "f1scores = cross_val_score(dummy_classifier, X_train, Y_train, cv=skf, scoring=\"f1\",verbose=False) \n",
        "print(\"F1 Score: %.2f +/- %.2f\" % (f1scores.mean(), f1scores.std()))\n",
        "\n",
        "DummyClassifierScore = f1scores.mean()\n"
      ],
      "execution_count": null,
      "outputs": [
        {
          "output_type": "stream",
          "text": [
            "F1 Score: 0.11 +/- 0.01\n"
          ],
          "name": "stdout"
        }
      ]
    },
    {
      "cell_type": "markdown",
      "metadata": {
        "id": "cZmWMyeGRmXl"
      },
      "source": [
        "**Compare the results of your classifier with that of a dummy classifier.**"
      ]
    },
    {
      "cell_type": "code",
      "metadata": {
        "colab": {
          "base_uri": "https://localhost:8080/",
          "height": 128
        },
        "id": "CN2VhBN8RmXm",
        "outputId": "e13bd565-05a8-466e-bd18-a9c3f9cf236d"
      },
      "source": [
        "list_cls =[]\n",
        "list_scr = []\n",
        "\n",
        "list_cls.append('RandomForest Classifier')\n",
        "list_cls.append('Dummy Classifier')\n",
        "\n",
        "list_scr.append(RandomForestClassifierScore)\n",
        "list_scr.append(DummyClassifierScore)\n",
        "\n",
        "# dictionary of lists \n",
        "dict = {'Classifier': list_cls, 'Score': list_scr} \n",
        "    \n",
        "dfscore = pd.DataFrame(dict)\n",
        "print('Comparing results of both classifiers:')    \n",
        "dfscore"
      ],
      "execution_count": null,
      "outputs": [
        {
          "output_type": "stream",
          "text": [
            "Comparing results of both classifiers:\n"
          ],
          "name": "stdout"
        },
        {
          "output_type": "execute_result",
          "data": {
            "text/html": [
              "<div>\n",
              "<style scoped>\n",
              "    .dataframe tbody tr th:only-of-type {\n",
              "        vertical-align: middle;\n",
              "    }\n",
              "\n",
              "    .dataframe tbody tr th {\n",
              "        vertical-align: top;\n",
              "    }\n",
              "\n",
              "    .dataframe thead th {\n",
              "        text-align: right;\n",
              "    }\n",
              "</style>\n",
              "<table border=\"1\" class=\"dataframe\">\n",
              "  <thead>\n",
              "    <tr style=\"text-align: right;\">\n",
              "      <th></th>\n",
              "      <th>Classifier</th>\n",
              "      <th>Score</th>\n",
              "    </tr>\n",
              "  </thead>\n",
              "  <tbody>\n",
              "    <tr>\n",
              "      <th>0</th>\n",
              "      <td>RandomForest Classifier</td>\n",
              "      <td>0.246730</td>\n",
              "    </tr>\n",
              "    <tr>\n",
              "      <th>1</th>\n",
              "      <td>Dummy Classifier</td>\n",
              "      <td>0.113153</td>\n",
              "    </tr>\n",
              "  </tbody>\n",
              "</table>\n",
              "</div>"
            ],
            "text/plain": [
              "                Classifier     Score\n",
              "0  RandomForest Classifier  0.246730\n",
              "1         Dummy Classifier  0.113153"
            ]
          },
          "metadata": {
            "tags": []
          },
          "execution_count": 16
        }
      ]
    },
    {
      "cell_type": "markdown",
      "metadata": {
        "id": "rF9luYdYAhaW"
      },
      "source": [
        "**Use GridSearchCV to find a better set of parameters for your random forest.**"
      ]
    },
    {
      "cell_type": "code",
      "metadata": {
        "colab": {
          "background_save": true,
          "base_uri": "https://localhost:8080/"
        },
        "id": "RxNUVgYdAJCD",
        "outputId": "004a05c8-1ae7-4b17-f71e-5d82c7540fde"
      },
      "source": [
        "from sklearn.model_selection import GridSearchCV\n",
        "\n",
        "param_grid = { \n",
        "    'n_estimators': [100,400,700],\n",
        "    'max_features': ['auto', 'sqrt', 'log2']\n",
        "}\n",
        "\n",
        "clf = RandomForestClassifier()\n",
        "CV_clf = GridSearchCV(estimator=clf, param_grid=param_grid, cv= 5)\n",
        "\n",
        "\n",
        "skf = StratifiedKFold(n_splits=5)\n",
        "f1scores = cross_val_score(CV_clf, X_train, Y_train.values.ravel(), cv=skf, scoring=\"f1\",verbose=False) \n",
        "print(\"F1 Score: %.2f +/- %.2f\" % (f1scores.mean(), f1scores.std()))\n",
        "\n",
        "GridSearchCVScore = f1scores.mean()\n",
        "\n",
        "\n",
        "\n",
        "\n"
      ],
      "execution_count": null,
      "outputs": [
        {
          "output_type": "stream",
          "text": [
            "F1 Score: 0.37 +/- 0.02\n"
          ],
          "name": "stdout"
        }
      ]
    },
    {
      "cell_type": "markdown",
      "metadata": {
        "id": "su4ca3k0ZckI"
      },
      "source": [
        "**Print the cross-validation metric (whichever you previously chose) that you obtain for the random forest for the best parameters found with GridSearchCV**"
      ]
    },
    {
      "cell_type": "code",
      "metadata": {
        "colab": {
          "background_save": true,
          "base_uri": "https://localhost:8080/",
          "height": 159
        },
        "id": "xwog8KeyAI1c",
        "outputId": "da94dca8-8e4e-44e2-d7b5-2204b9bb336e"
      },
      "source": [
        "list_cls =[]\n",
        "list_scr = []\n",
        "\n",
        "list_cls.append('RandomForest Classifier')\n",
        "list_cls.append('Dummy Classifier')\n",
        "list_cls.append('GridsearchCV')\n",
        "\n",
        "list_scr.append(RandomForestClassifierScore)\n",
        "list_scr.append(DummyClassifierScore)\n",
        "list_scr.append(GridSearchCVScore)\n",
        "\n",
        "# dictionary of lists \n",
        "dict = {'Classifiers': list_cls, 'Score': list_scr} \n",
        "    \n",
        "df = pd.DataFrame(dict)\n",
        "print('Comparing results of all classifiers:')    \n",
        "df "
      ],
      "execution_count": null,
      "outputs": [
        {
          "output_type": "stream",
          "text": [
            "Comparing results of all classifiers:\n"
          ],
          "name": "stdout"
        },
        {
          "output_type": "execute_result",
          "data": {
            "text/html": [
              "<div>\n",
              "<style scoped>\n",
              "    .dataframe tbody tr th:only-of-type {\n",
              "        vertical-align: middle;\n",
              "    }\n",
              "\n",
              "    .dataframe tbody tr th {\n",
              "        vertical-align: top;\n",
              "    }\n",
              "\n",
              "    .dataframe thead th {\n",
              "        text-align: right;\n",
              "    }\n",
              "</style>\n",
              "<table border=\"1\" class=\"dataframe\">\n",
              "  <thead>\n",
              "    <tr style=\"text-align: right;\">\n",
              "      <th></th>\n",
              "      <th>Classifiers</th>\n",
              "      <th>Score</th>\n",
              "    </tr>\n",
              "  </thead>\n",
              "  <tbody>\n",
              "    <tr>\n",
              "      <th>0</th>\n",
              "      <td>RandomForest Classifier</td>\n",
              "      <td>0.246730</td>\n",
              "    </tr>\n",
              "    <tr>\n",
              "      <th>1</th>\n",
              "      <td>Dummy Classifier</td>\n",
              "      <td>0.113153</td>\n",
              "    </tr>\n",
              "    <tr>\n",
              "      <th>2</th>\n",
              "      <td>GridsearchCV</td>\n",
              "      <td>0.370870</td>\n",
              "    </tr>\n",
              "  </tbody>\n",
              "</table>\n",
              "</div>"
            ],
            "text/plain": [
              "               Classifiers     Score\n",
              "0  RandomForest Classifier  0.246730\n",
              "1         Dummy Classifier  0.113153\n",
              "2             GridsearchCV  0.370870"
            ]
          },
          "metadata": {
            "tags": []
          },
          "execution_count": 0
        }
      ]
    },
    {
      "cell_type": "markdown",
      "metadata": {
        "id": "Ju4mTfjcZT7H"
      },
      "source": [
        "**What are the top 3 features?**\n"
      ]
    },
    {
      "cell_type": "code",
      "metadata": {
        "colab": {
          "background_save": true
        },
        "id": "rf4D0VHqAImT"
      },
      "source": [
        "import numpy as np\n",
        "CV_clf.fit(X_train, Y_train.values.ravel())\n",
        "importances = CV_clf.best_estimator_.feature_importances_\n"
      ],
      "execution_count": null,
      "outputs": []
    },
    {
      "cell_type": "code",
      "metadata": {
        "id": "iFE8Rlkss9Jc"
      },
      "source": [
        "std = np.std([CV_clf.best_estimator_.feature_importances_ for tree in CV_clf.best_estimator_],\n",
        "             axis=0)\n",
        "indices = np.argsort(importances)[::-1]\n",
        "print(indices)"
      ],
      "execution_count": null,
      "outputs": []
    },
    {
      "cell_type": "code",
      "metadata": {
        "id": "uSKpdVIvc8M0"
      },
      "source": [
        "features =[]\n",
        "for cl in X_train.columns:\n",
        "  features.append(cl)\n"
      ],
      "execution_count": null,
      "outputs": []
    },
    {
      "cell_type": "code",
      "metadata": {
        "id": "vYsd0-vyb9bX",
        "colab": {
          "base_uri": "https://localhost:8080/"
        },
        "outputId": "6b5a19db-53bf-4265-8b94-13e631218584"
      },
      "source": [
        "# Print the feature ranking\n",
        "print(\"Feature ranking:\")\n",
        "\n",
        "for f in range(3):\n",
        "    print(\"%d. %s (%f)\" % (f + 1, features[indices[f]],  importances[indices[f]]))"
      ],
      "execution_count": 22,
      "outputs": [
        {
          "output_type": "stream",
          "text": [
            "Feature ranking:\n",
            "1. age (0.160247)\n",
            "2. euribor3m (0.119554)\n",
            "3. campaign (0.080604)\n"
          ],
          "name": "stdout"
        }
      ]
    },
    {
      "cell_type": "code",
      "metadata": {
        "id": "dKWoDJ4fAIL-"
      },
      "source": [
        "import matplotlib.pyplot as plt\n",
        "fig = plt.figure()\n",
        "plt.title(\"Top 3 Features importances\")\n",
        "plt.bar(range(3), importances[indices][0:3],\n",
        "       color=\"r\", yerr=std[indices][0:3], align=\"center\")\n",
        "plt.xticks(range(3), np.array(features)[indices])\n",
        "plt.xlim([-1,3])\n",
        "plt.ylim([0, None])\n",
        "\n",
        "fig.set_size_inches(15, 8)"
      ],
      "execution_count": null,
      "outputs": []
    },
    {
      "cell_type": "markdown",
      "metadata": {
        "id": "DWmai7gLfdJj"
      },
      "source": [
        "**Report the generalisation error (still using the same metric) on your test set.**\n"
      ]
    },
    {
      "cell_type": "code",
      "metadata": {
        "id": "QJKthCCERmXr",
        "colab": {
          "base_uri": "https://localhost:8080/"
        },
        "outputId": "507ec425-a135-4e58-c9ae-889e197f41de"
      },
      "source": [
        "clf = RandomForestClassifier(n_estimators=100, max_depth=3,verbose=False)\n",
        "#scores = cross_val_score(clf, X, y, cv=10,scoring='r2')\n",
        "\n",
        "skf = StratifiedKFold(n_splits=10)\n",
        "f1scores = cross_val_score(clf, X_test, Y_test.values.ravel(), cv=skf, scoring=\"f1\",verbose=False) \n",
        "print(\"F1 Score: %.2f +/- %.2f\" % (f1scores.mean(), f1scores.std()))\n",
        "\n",
        "RandomForestClassifierScore = f1scores.mean()"
      ],
      "execution_count": 24,
      "outputs": [
        {
          "output_type": "stream",
          "text": [
            "F1 Score: 0.28 +/- 0.06\n"
          ],
          "name": "stdout"
        }
      ]
    }
  ]
}