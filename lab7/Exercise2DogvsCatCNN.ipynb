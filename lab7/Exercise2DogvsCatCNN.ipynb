{
  "nbformat": 4,
  "nbformat_minor": 0,
  "metadata": {
    "colab": {
      "name": "Exercise2DogvsCatCNN.ipynb",
      "provenance": [],
      "include_colab_link": true
    },
    "kernelspec": {
      "name": "python3",
      "display_name": "Python 3"
    },
    "accelerator": "GPU"
  },
  "cells": [
    {
      "cell_type": "markdown",
      "metadata": {
        "id": "view-in-github",
        "colab_type": "text"
      },
      "source": [
        "<a href=\"https://colab.research.google.com/github/deepakkollala/CE888_Labs/blob/main/lab7/Exercise2DogvsCatCNN.ipynb\" target=\"_parent\"><img src=\"https://colab.research.google.com/assets/colab-badge.svg\" alt=\"Open In Colab\"/></a>"
      ]
    },
    {
      "cell_type": "markdown",
      "metadata": {
        "id": "qTh9DiKVslsJ"
      },
      "source": [
        "## Dogs vs. Cats \n",
        "\n",
        "In this competition, you'll write an algorithm to classify whether images contain either a dog or a cat.  This is easy for humans, dogs, and cats. Your computer will find it a bit more difficult.\n",
        "\n",
        "![alt text](https://miro.medium.com/max/3000/1*bhFifratH9DjKqMBTeQG5A.gif)\n",
        "\n",
        "Ref: https://medium.com/@thegrigorian/rolling-in-the-deep-cnn-c8d3f7108c8c"
      ]
    },
    {
      "cell_type": "markdown",
      "metadata": {
        "id": "RSBI-_mSSY1g"
      },
      "source": [
        "Get your API Key from Kaggle using following steps:\n",
        "1. Login to [Kaggle](https://www.kaggle.com/) or Register if you don't have account\n",
        "2. Open Dataset (https://www.kaggle.com/c/dogs-vs-cats/rules) and accept terms and condition. \n",
        "3. On the top right corner click on your Icon and go to accounts and press a button \"Create New API Token\". It will download a JSON file containing your username and key. \n",
        "4. Now, paste both below. \n"
      ]
    },
    {
      "cell_type": "code",
      "metadata": {
        "id": "YmXSOc0tZIGA",
        "colab": {
          "base_uri": "https://localhost:8080/"
        },
        "outputId": "9b14b1aa-a8f6-4241-bcc3-a53cd7d4eb78"
      },
      "source": [
        "import os\n",
        "os.environ['KAGGLE_USERNAME'] = \"rajhazarika\" # username from the json file\n",
        "os.environ['KAGGLE_KEY'] = \"859e1b3d04ee06e0db976fdafabd74f8\" # key from the json file\n",
        "!kaggle competitions download -c dogs-vs-cats # api copied from kaggle (https://www.kaggle.com/c/dogs-vs-cats/data)"
      ],
      "execution_count": 1,
      "outputs": [
        {
          "output_type": "stream",
          "text": [
            "Warning: Looks like you're using an outdated API Version, please consider updating (server 1.5.12 / client 1.5.4)\n",
            "Downloading test1.zip to /content\n",
            "100% 270M/271M [00:23<00:00, 12.8MB/s]\n",
            "100% 271M/271M [00:23<00:00, 12.2MB/s]\n",
            "Downloading train.zip to /content\n",
            " 99% 540M/543M [00:28<00:00, 20.6MB/s]\n",
            "100% 543M/543M [00:28<00:00, 19.6MB/s]\n",
            "Downloading sampleSubmission.csv to /content\n",
            "  0% 0.00/86.8k [00:00<?, ?B/s]\n",
            "100% 86.8k/86.8k [00:00<00:00, 87.4MB/s]\n"
          ],
          "name": "stdout"
        }
      ]
    },
    {
      "cell_type": "code",
      "metadata": {
        "id": "PiwIL8d1n7eS",
        "colab": {
          "base_uri": "https://localhost:8080/"
        },
        "outputId": "e1d90628-e3c3-40a2-9013-efc32f6f6422"
      },
      "source": [
        "# Unzip training data\n",
        "from zipfile import ZipFile\n",
        "file_name = \"/content/train.zip\"\n",
        "with ZipFile(file_name, 'r') as zip:\n",
        "  zip.extractall()\n",
        "  print('done')"
      ],
      "execution_count": 2,
      "outputs": [
        {
          "output_type": "stream",
          "text": [
            "done\n"
          ],
          "name": "stdout"
        }
      ]
    },
    {
      "cell_type": "code",
      "metadata": {
        "id": "sa2Bj5i7pPKV",
        "colab": {
          "base_uri": "https://localhost:8080/"
        },
        "outputId": "be9d513a-854a-4286-aa02-a3f8cf92411e"
      },
      "source": [
        "# Get all the paths\n",
        "data_dir_list = os.listdir('/content/train')\n",
        "#print(data_dir_list)\n",
        "path, dirs, files = next(os.walk(\"/content/train\"))\n",
        "file_count = len(files)\n",
        "print(file_count)"
      ],
      "execution_count": 3,
      "outputs": [
        {
          "output_type": "stream",
          "text": [
            "25000\n"
          ],
          "name": "stdout"
        }
      ]
    },
    {
      "cell_type": "code",
      "metadata": {
        "id": "0ERlHkfHqpK8"
      },
      "source": [
        "# Make new base directory\n",
        "original_dataset_dir = '/content/train'\n",
        "base_dir = '/content/cats_and_dogs_small'\n",
        "os.mkdir(base_dir)"
      ],
      "execution_count": 4,
      "outputs": []
    },
    {
      "cell_type": "code",
      "metadata": {
        "id": "AANB1UJ6rQhM"
      },
      "source": [
        "train_dir = os.path.join(base_dir, 'train')\n",
        "os.mkdir(train_dir)\n",
        "\n",
        "validation_dir = os.path.join(base_dir, 'validation')\n",
        "os.mkdir(validation_dir)\n",
        "\n",
        "test_dir = os.path.join(base_dir, 'test')\n",
        "os.mkdir(test_dir)\n",
        "\n",
        "train_cats_dir = os.path.join(train_dir, 'cats')\n",
        "os.mkdir(train_cats_dir)\n",
        "\n",
        "train_dogs_dir = os.path.join(train_dir, 'dogs')\n",
        "os.mkdir(train_dogs_dir)\n",
        "\n",
        "validation_cats_dir = os.path.join(validation_dir, 'cats')\n",
        "os.mkdir(validation_cats_dir)\n",
        "\n",
        "validation_dogs_dir = os.path.join(validation_dir, 'dogs')\n",
        "os.mkdir(validation_dogs_dir)\n",
        "\n",
        "test_cats_dir = os.path.join(test_dir, 'cats')\n",
        "os.mkdir(test_cats_dir)\n",
        "\n",
        "test_dogs_dir = os.path.join(test_dir, 'dogs')\n",
        "os.mkdir(test_dogs_dir)"
      ],
      "execution_count": 5,
      "outputs": []
    },
    {
      "cell_type": "code",
      "metadata": {
        "id": "ULRgL9s9rV8T"
      },
      "source": [
        "import shutil\n",
        "fnames = ['cat.{}.jpg'.format(i) for i in range(1000)]\n",
        "for fname in fnames:\n",
        "    src = os.path.join(original_dataset_dir, fname)\n",
        "    dst = os.path.join(train_cats_dir, fname)\n",
        "    #print(src,dst)\n",
        "    shutil.copyfile(src, dst)\n",
        "    \n",
        "fnames = ['cat.{}.jpg'.format(i) for i in range(1000, 1500)]\n",
        "for fname in fnames:\n",
        "    src = os.path.join(original_dataset_dir, fname)\n",
        "    dst = os.path.join(validation_cats_dir, fname)\n",
        "    shutil.copyfile(src, dst)\n",
        "\n",
        "fnames = ['cat.{}.jpg'.format(i) for i in range(1500, 2000)]\n",
        "for fname in fnames:\n",
        "    src = os.path.join(original_dataset_dir, fname)\n",
        "    dst = os.path.join(test_cats_dir, fname)\n",
        "    shutil.copyfile(src, dst)\n",
        "    \n",
        "fnames = ['dog.{}.jpg'.format(i) for i in range(1000)]\n",
        "for fname in fnames:\n",
        "    src = os.path.join(original_dataset_dir, fname)\n",
        "    dst = os.path.join(train_dogs_dir, fname)\n",
        "    shutil.copyfile(src, dst)\n",
        "\n",
        "fnames = ['dog.{}.jpg'.format(i) for i in range(1000, 1500)]\n",
        "for fname in fnames:\n",
        "    src = os.path.join(original_dataset_dir, fname)\n",
        "    dst = os.path.join(validation_dogs_dir, fname)\n",
        "    shutil.copyfile(src, dst)\n",
        "\n",
        "fnames = ['dog.{}.jpg'.format(i) for i in range(1500, 2000)]\n",
        "for fname in fnames:\n",
        "    src = os.path.join(original_dataset_dir, fname)\n",
        "    dst = os.path.join(test_dogs_dir, fname)\n",
        "    shutil.copyfile(src, dst)"
      ],
      "execution_count": 6,
      "outputs": []
    },
    {
      "cell_type": "code",
      "metadata": {
        "id": "ul3XAbIyr7vC",
        "colab": {
          "base_uri": "https://localhost:8080/"
        },
        "outputId": "2e522037-9440-4fb5-d2f5-585faba493bd"
      },
      "source": [
        "print('total training cat images:', len(os.listdir(train_cats_dir)))\n",
        "print('total training dog images:', len(os.listdir(train_dogs_dir)))\n",
        "print('total validation cat images:', len(os.listdir(validation_cats_dir)))\n",
        "\n",
        "print('total validation dog images:', len(os.listdir(validation_dogs_dir)))\n",
        "print('total test cat images:', len(os.listdir(test_cats_dir)))\n",
        "print('total test dog images:', len(os.listdir(test_dogs_dir)))"
      ],
      "execution_count": 7,
      "outputs": [
        {
          "output_type": "stream",
          "text": [
            "total training cat images: 1000\n",
            "total training dog images: 1000\n",
            "total validation cat images: 500\n",
            "total validation dog images: 500\n",
            "total test cat images: 500\n",
            "total test dog images: 500\n"
          ],
          "name": "stdout"
        }
      ]
    },
    {
      "cell_type": "code",
      "metadata": {
        "id": "o9yTA21_r-ma",
        "colab": {
          "base_uri": "https://localhost:8080/"
        },
        "outputId": "9ffb44ac-64ca-4849-fe0c-f064af24bd6b"
      },
      "source": [
        "from keras import layers\n",
        "from keras import models\n",
        "\n",
        "model = models.Sequential()\n",
        "model.add(layers.Conv2D(32, (3, 3), activation='relu', input_shape=(150, 150, 3)))\n",
        "model.add(layers.MaxPooling2D((2, 2)))\n",
        "model.add(layers.Conv2D(64, (3, 3), activation='relu'))\n",
        "model.add(layers.MaxPooling2D((2, 2)))\n",
        "model.add(layers.Conv2D(128, (3, 3), activation='relu'))\n",
        "model.add(layers.MaxPooling2D((2, 2)))\n",
        "model.add(layers.Conv2D(128, (3, 3), activation='relu'))\n",
        "model.add(layers.MaxPooling2D((2, 2)))\n",
        "model.add(layers.Flatten())\n",
        "model.add(layers.Dense(512, activation='relu'))\n",
        "model.add(layers.Dense(1, activation='sigmoid'))\n",
        "model.summary()"
      ],
      "execution_count": 8,
      "outputs": [
        {
          "output_type": "stream",
          "text": [
            "Model: \"sequential\"\n",
            "_________________________________________________________________\n",
            "Layer (type)                 Output Shape              Param #   \n",
            "=================================================================\n",
            "conv2d (Conv2D)              (None, 148, 148, 32)      896       \n",
            "_________________________________________________________________\n",
            "max_pooling2d (MaxPooling2D) (None, 74, 74, 32)        0         \n",
            "_________________________________________________________________\n",
            "conv2d_1 (Conv2D)            (None, 72, 72, 64)        18496     \n",
            "_________________________________________________________________\n",
            "max_pooling2d_1 (MaxPooling2 (None, 36, 36, 64)        0         \n",
            "_________________________________________________________________\n",
            "conv2d_2 (Conv2D)            (None, 34, 34, 128)       73856     \n",
            "_________________________________________________________________\n",
            "max_pooling2d_2 (MaxPooling2 (None, 17, 17, 128)       0         \n",
            "_________________________________________________________________\n",
            "conv2d_3 (Conv2D)            (None, 15, 15, 128)       147584    \n",
            "_________________________________________________________________\n",
            "max_pooling2d_3 (MaxPooling2 (None, 7, 7, 128)         0         \n",
            "_________________________________________________________________\n",
            "flatten (Flatten)            (None, 6272)              0         \n",
            "_________________________________________________________________\n",
            "dense (Dense)                (None, 512)               3211776   \n",
            "_________________________________________________________________\n",
            "dense_1 (Dense)              (None, 1)                 513       \n",
            "=================================================================\n",
            "Total params: 3,453,121\n",
            "Trainable params: 3,453,121\n",
            "Non-trainable params: 0\n",
            "_________________________________________________________________\n"
          ],
          "name": "stdout"
        }
      ]
    },
    {
      "cell_type": "code",
      "metadata": {
        "id": "2mG8wekxsBVS"
      },
      "source": [
        "from keras import optimizers\n",
        "model.compile(loss='binary_crossentropy', \n",
        "              optimizer=optimizers.RMSprop(lr=0.0001),\n",
        "              metrics=['acc'])"
      ],
      "execution_count": 9,
      "outputs": []
    },
    {
      "cell_type": "markdown",
      "metadata": {
        "id": "7zS4Klm8qWp6"
      },
      "source": [
        "## Using ImageDataGenerator to read images from directories\n",
        "As you know by now, data should be formatted into appropriately preprocessed floatingpoint tensors before being fed into the network. Currently, the data sits on a drive as JPEG files, so the steps for getting it into the network are roughly as follows:\n",
        "\n",
        "* Read the picture files.\n",
        "* Decode the JPEG content to RGB grids of pixels.\n",
        "* Convert these into floating-point tensors.\n",
        "* Rescale the pixel values (between 0 and 255) to the [0, 1] interval (as you know, neural networks prefer to deal with small input values).\n",
        "\n",
        "It may seem a bit daunting, but fortunately Keras has utilities to take care of these steps automatically. Keras has a module with image-processing helper tools, located at keras.preprocessing.image. In particular, it contains the class ImageDataGenerator,which lets you quickly set up Python generators that can automatically turn image files on disk into batches of preprocessed tensors."
      ]
    },
    {
      "cell_type": "code",
      "metadata": {
        "id": "XJ7XU7t9sEh6",
        "colab": {
          "base_uri": "https://localhost:8080/"
        },
        "outputId": "7691bb6f-6ab4-41f0-8915-6ccca1e7113e"
      },
      "source": [
        "from keras.preprocessing.image import ImageDataGenerator\n",
        "\n",
        "train_datagen = ImageDataGenerator(rescale=1./255)\n",
        "test_datagen = ImageDataGenerator(rescale=1./255)\n",
        "\n",
        "train_generator = train_datagen.flow_from_directory(train_dir,\n",
        "                                                    target_size=(150, 150), \n",
        "                                                    batch_size=20,\n",
        "                                                    class_mode='binary')\n",
        "\n",
        "validation_generator = test_datagen.flow_from_directory(validation_dir,\n",
        "                                                        target_size=(150, 150),\n",
        "                                                        batch_size=20,\n",
        "                                                        class_mode='binary')"
      ],
      "execution_count": 10,
      "outputs": [
        {
          "output_type": "stream",
          "text": [
            "Found 2000 images belonging to 2 classes.\n",
            "Found 1000 images belonging to 2 classes.\n"
          ],
          "name": "stdout"
        }
      ]
    },
    {
      "cell_type": "markdown",
      "metadata": {
        "id": "SEgLywySqm4u"
      },
      "source": [
        "Let’s fit the model to the data using the generator. You do so using the fit_generator method, the equivalent of fit for data generators like this one. It expects as its first argument a Python generator that will yield batches of inputs and targets indefinitely,like this one does. Because the data is being generated endlessly, the Keras model needs to know how many samples to draw from the generator before declaring anepoch over. This is the role of the `steps_per_epoch` argument: after having drawn `steps_per_epoch` batches from the generator—that is, after having run for `steps_per_epoch` gradient descent steps—the fitting process will go to the next epoch. In this case, batches are 20 samples, so it will take 100 batches until you see your target of 2,000 samples.\n",
        "\n",
        "When using fit_generator, you can pass a validation_data argument, much as with the fit method. It’s important to note that this argument is allowed to be a data generator, but it could also be a tuple of Numpy arrays. If you pass a generator as validation_data, then this generator is expected to yield batches of validation data endlessly; thus you should also specify the validation_steps argument, which tells the process how many batches to draw from the validation generator for evaluation."
      ]
    },
    {
      "cell_type": "code",
      "metadata": {
        "id": "yMyfPphJsJG6",
        "colab": {
          "base_uri": "https://localhost:8080/"
        },
        "outputId": "9a986072-3463-4808-d8df-f643659b73bc"
      },
      "source": [
        "history = model.fit_generator(train_generator,\n",
        "                              steps_per_epoch=100,\n",
        "                              epochs=20,\n",
        "                              validation_data=validation_generator,\n",
        "                              validation_steps=10)"
      ],
      "execution_count": 12,
      "outputs": [
        {
          "output_type": "stream",
          "text": [
            "/usr/local/lib/python3.7/dist-packages/tensorflow/python/keras/engine/training.py:1844: UserWarning: `Model.fit_generator` is deprecated and will be removed in a future version. Please use `Model.fit`, which supports generators.\n",
            "  warnings.warn('`Model.fit_generator` is deprecated and '\n"
          ],
          "name": "stderr"
        },
        {
          "output_type": "stream",
          "text": [
            "Epoch 1/20\n",
            "100/100 [==============================] - 9s 90ms/step - loss: 0.1608 - acc: 0.9405 - val_loss: 0.7361 - val_acc: 0.7300\n",
            "Epoch 2/20\n",
            "100/100 [==============================] - 9s 89ms/step - loss: 0.1448 - acc: 0.9525 - val_loss: 0.7558 - val_acc: 0.7200\n",
            "Epoch 3/20\n",
            "100/100 [==============================] - 9s 89ms/step - loss: 0.1296 - acc: 0.9575 - val_loss: 0.9900 - val_acc: 0.6450\n",
            "Epoch 4/20\n",
            "100/100 [==============================] - 9s 89ms/step - loss: 0.1153 - acc: 0.9670 - val_loss: 0.7140 - val_acc: 0.7000\n",
            "Epoch 5/20\n",
            "100/100 [==============================] - 9s 88ms/step - loss: 0.0975 - acc: 0.9715 - val_loss: 0.9562 - val_acc: 0.7050\n",
            "Epoch 6/20\n",
            "100/100 [==============================] - 9s 88ms/step - loss: 0.0837 - acc: 0.9735 - val_loss: 1.0476 - val_acc: 0.7350\n",
            "Epoch 7/20\n",
            "100/100 [==============================] - 9s 89ms/step - loss: 0.0799 - acc: 0.9730 - val_loss: 0.7677 - val_acc: 0.7450\n",
            "Epoch 8/20\n",
            "100/100 [==============================] - 9s 88ms/step - loss: 0.0649 - acc: 0.9850 - val_loss: 0.9772 - val_acc: 0.6950\n",
            "Epoch 9/20\n",
            "100/100 [==============================] - 9s 88ms/step - loss: 0.0565 - acc: 0.9880 - val_loss: 0.8330 - val_acc: 0.6950\n",
            "Epoch 10/20\n",
            "100/100 [==============================] - 9s 88ms/step - loss: 0.0442 - acc: 0.9910 - val_loss: 0.8308 - val_acc: 0.7600\n",
            "Epoch 11/20\n",
            "100/100 [==============================] - 9s 89ms/step - loss: 0.0414 - acc: 0.9880 - val_loss: 1.0808 - val_acc: 0.6800\n",
            "Epoch 12/20\n",
            "100/100 [==============================] - 9s 88ms/step - loss: 0.0386 - acc: 0.9895 - val_loss: 0.8616 - val_acc: 0.7650\n",
            "Epoch 13/20\n",
            "100/100 [==============================] - 9s 89ms/step - loss: 0.0336 - acc: 0.9925 - val_loss: 0.9568 - val_acc: 0.7300\n",
            "Epoch 14/20\n",
            "100/100 [==============================] - 9s 89ms/step - loss: 0.0252 - acc: 0.9950 - val_loss: 0.9764 - val_acc: 0.7300\n",
            "Epoch 15/20\n",
            "100/100 [==============================] - 9s 89ms/step - loss: 0.0286 - acc: 0.9935 - val_loss: 1.1088 - val_acc: 0.6800\n",
            "Epoch 16/20\n",
            "100/100 [==============================] - 9s 89ms/step - loss: 0.0217 - acc: 0.9935 - val_loss: 1.2576 - val_acc: 0.6950\n",
            "Epoch 17/20\n",
            "100/100 [==============================] - 9s 89ms/step - loss: 0.0200 - acc: 0.9955 - val_loss: 1.2359 - val_acc: 0.7300\n",
            "Epoch 18/20\n",
            "100/100 [==============================] - 9s 90ms/step - loss: 0.0152 - acc: 0.9960 - val_loss: 1.2115 - val_acc: 0.7200\n",
            "Epoch 19/20\n",
            "100/100 [==============================] - 9s 88ms/step - loss: 0.0180 - acc: 0.9955 - val_loss: 1.4261 - val_acc: 0.7200\n",
            "Epoch 20/20\n",
            "100/100 [==============================] - 9s 88ms/step - loss: 0.0163 - acc: 0.9960 - val_loss: 1.0506 - val_acc: 0.7300\n"
          ],
          "name": "stdout"
        }
      ]
    },
    {
      "cell_type": "code",
      "metadata": {
        "id": "MZaZ2HWZsNUi",
        "colab": {
          "base_uri": "https://localhost:8080/",
          "height": 545
        },
        "outputId": "ade722fc-8046-4532-a480-5586ebed7f1c"
      },
      "source": [
        "model.save('cats_and_dogs_small_1.h5')\n",
        "\n",
        "import matplotlib.pyplot as plt\n",
        "\n",
        "acc = history.history['acc']\n",
        "val_acc = history.history['val_acc']\n",
        "loss = history.history['loss']\n",
        "val_loss = history.history['val_loss']\n",
        "\n",
        "epochs = range(1, len(acc) + 1)\n",
        "\n",
        "plt.plot(epochs, acc, 'bo', label='Training acc')\n",
        "plt.plot(epochs, val_acc, 'b', label='Validation acc')\n",
        "plt.title('Training and validation accuracy')\n",
        "plt.legend()\n",
        "\n",
        "plt.figure()\n",
        "\n",
        "plt.plot(epochs, loss, 'bo', label='Training loss')\n",
        "plt.plot(epochs, val_loss, 'b', label='Validation loss')\n",
        "plt.title('Training and validation loss')\n",
        "plt.legend()\n",
        "\n",
        "plt.show()"
      ],
      "execution_count": 19,
      "outputs": [
        {
          "output_type": "display_data",
          "data": {
            "image/png": "[encoded data removed]",
            "text/plain": [
              "<Figure size 432x288 with 1 Axes>"
            ]
          },
          "metadata": {
            "tags": [],
            "needs_background": "light"
          }
        },
        {
          "output_type": "display_data",
          "data": {
            "image/png": "[encoded data removed]",
            "text/plain": [
              "<Figure size 432x288 with 1 Axes>"
            ]
          },
          "metadata": {
            "tags": [],
            "needs_background": "light"
          }
        }
      ]
    },
    {
      "cell_type": "markdown",
      "metadata": {
        "id": "XKZmXmBcq_8-"
      },
      "source": [
        "## Convolutional Networks with Dropout\n",
        "\n",
        "![alt text](https://camo.githubusercontent.com/ee6fa1073247cd2c3d241300caf110d7a7541bc5/68747470733a2f2f63646e2d696d616765732d312e6d656469756d2e636f6d2f6d61782f3830302f312a4972644a355067684439596f4f7956415137334d4a772e676966)\n",
        "\n",
        "Ref: https://github.com/mneha4/Training-Neural-Nets---Guidelines"
      ]
    },
    {
      "cell_type": "code",
      "metadata": {
        "id": "wu3cqeYQrDeN"
      },
      "source": [
        "model = models.Sequential()\n",
        "model.add(layers.Conv2D(32, (3, 3), activation='relu',\n",
        "input_shape=(150, 150, 3)))\n",
        "model.add(layers.MaxPooling2D((2, 2)))\n",
        "model.add(layers.Conv2D(64, (3, 3), activation='relu'))\n",
        "model.add(layers.MaxPooling2D((2, 2)))\n",
        "model.add(layers.Conv2D(128, (3, 3), activation='relu'))\n",
        "model.add(layers.MaxPooling2D((2, 2)))\n",
        "model.add(layers.Conv2D(128, (3, 3), activation='relu'))\n",
        "model.add(layers.MaxPooling2D((2, 2)))\n",
        "model.add(layers.Flatten())\n",
        "model.add(layers.Dropout(0.5))\n",
        "model.add(layers.Dense(512, activation='relu'))\n",
        "model.add(layers.Dense(1, activation='sigmoid'))\n",
        "\n",
        "model.compile(loss='binary_crossentropy',\n",
        "              optimizer=optimizers.RMSprop(lr=1e-4),\n",
        "              metrics=['acc'])"
      ],
      "execution_count": 14,
      "outputs": []
    },
    {
      "cell_type": "code",
      "metadata": {
        "id": "QSeLpvY0rH7F",
        "colab": {
          "base_uri": "https://localhost:8080/"
        },
        "outputId": "25d8254a-9ed9-4ec6-f8ae-71eef132c5bc"
      },
      "source": [
        "\n",
        "train_datagen = ImageDataGenerator(rescale=1./255,\n",
        "                                   rotation_range=40,\n",
        "                                   width_shift_range=0.2,\n",
        "                                   height_shift_range=0.2,\n",
        "                                   shear_range=0.2,\n",
        "                                   zoom_range=0.2,\n",
        "                                   horizontal_flip=True,)\n",
        "\n",
        "test_datagen = ImageDataGenerator(rescale=1./255)\n",
        "\n",
        "train_generator = train_datagen.flow_from_directory(train_dir,\n",
        "                                                    target_size=(150, 150),\n",
        "                                                    batch_size=20,\n",
        "                                                    class_mode='binary')\n",
        "\n",
        "validation_generator = test_datagen.flow_from_directory(validation_dir,\n",
        "                                                        target_size=(150, 150),\n",
        "                                                        batch_size=20,\n",
        "                                                        class_mode='binary')\n"
      ],
      "execution_count": 15,
      "outputs": [
        {
          "output_type": "stream",
          "text": [
            "Found 2000 images belonging to 2 classes.\n",
            "Found 1000 images belonging to 2 classes.\n"
          ],
          "name": "stdout"
        }
      ]
    },
    {
      "cell_type": "code",
      "metadata": {
        "colab": {
          "base_uri": "https://localhost:8080/"
        },
        "id": "z_z6Qyxza79r",
        "outputId": "364e5e88-0f7f-4e96-aabf-e4cb5632580c"
      },
      "source": [
        "\n",
        "history = model.fit_generator(train_generator,\n",
        "                              steps_per_epoch=100 ,\n",
        "                              epochs=20,\n",
        "                              validation_data=validation_generator,\n",
        "                              validation_steps=10)"
      ],
      "execution_count": 16,
      "outputs": [
        {
          "output_type": "stream",
          "text": [
            "/usr/local/lib/python3.7/dist-packages/tensorflow/python/keras/engine/training.py:1844: UserWarning: `Model.fit_generator` is deprecated and will be removed in a future version. Please use `Model.fit`, which supports generators.\n",
            "  warnings.warn('`Model.fit_generator` is deprecated and '\n"
          ],
          "name": "stderr"
        },
        {
          "output_type": "stream",
          "text": [
            "Epoch 1/20\n",
            "100/100 [==============================] - 20s 193ms/step - loss: 0.6971 - acc: 0.4987 - val_loss: 0.6823 - val_acc: 0.5300\n",
            "Epoch 2/20\n",
            "100/100 [==============================] - 19s 190ms/step - loss: 0.6852 - acc: 0.5486 - val_loss: 0.6635 - val_acc: 0.5900\n",
            "Epoch 3/20\n",
            "100/100 [==============================] - 19s 190ms/step - loss: 0.6745 - acc: 0.5626 - val_loss: 0.6535 - val_acc: 0.5900\n",
            "Epoch 4/20\n",
            "100/100 [==============================] - 19s 190ms/step - loss: 0.6604 - acc: 0.6052 - val_loss: 0.6617 - val_acc: 0.5950\n",
            "Epoch 5/20\n",
            "100/100 [==============================] - 19s 189ms/step - loss: 0.6497 - acc: 0.6313 - val_loss: 0.6089 - val_acc: 0.6850\n",
            "Epoch 6/20\n",
            "100/100 [==============================] - 19s 190ms/step - loss: 0.6408 - acc: 0.6154 - val_loss: 0.6108 - val_acc: 0.6250\n",
            "Epoch 7/20\n",
            "100/100 [==============================] - 19s 190ms/step - loss: 0.6231 - acc: 0.6571 - val_loss: 0.5424 - val_acc: 0.7200\n",
            "Epoch 8/20\n",
            "100/100 [==============================] - 19s 189ms/step - loss: 0.6076 - acc: 0.6650 - val_loss: 0.5712 - val_acc: 0.6650\n",
            "Epoch 9/20\n",
            "100/100 [==============================] - 19s 190ms/step - loss: 0.5810 - acc: 0.6990 - val_loss: 0.5654 - val_acc: 0.6650\n",
            "Epoch 10/20\n",
            "100/100 [==============================] - 19s 191ms/step - loss: 0.5739 - acc: 0.6999 - val_loss: 0.5669 - val_acc: 0.7150\n",
            "Epoch 11/20\n",
            "100/100 [==============================] - 19s 190ms/step - loss: 0.5746 - acc: 0.6952 - val_loss: 0.5427 - val_acc: 0.7200\n",
            "Epoch 12/20\n",
            "100/100 [==============================] - 19s 190ms/step - loss: 0.5755 - acc: 0.6900 - val_loss: 0.5751 - val_acc: 0.6950\n",
            "Epoch 13/20\n",
            "100/100 [==============================] - 19s 191ms/step - loss: 0.5736 - acc: 0.6944 - val_loss: 0.5898 - val_acc: 0.6900\n",
            "Epoch 14/20\n",
            "100/100 [==============================] - 19s 191ms/step - loss: 0.5857 - acc: 0.6821 - val_loss: 0.5293 - val_acc: 0.7500\n",
            "Epoch 15/20\n",
            "100/100 [==============================] - 19s 190ms/step - loss: 0.5626 - acc: 0.7128 - val_loss: 0.5301 - val_acc: 0.7100\n",
            "Epoch 16/20\n",
            "100/100 [==============================] - 19s 191ms/step - loss: 0.5729 - acc: 0.7060 - val_loss: 0.5762 - val_acc: 0.7250\n",
            "Epoch 17/20\n",
            "100/100 [==============================] - 19s 189ms/step - loss: 0.5434 - acc: 0.7187 - val_loss: 0.5572 - val_acc: 0.6900\n",
            "Epoch 18/20\n",
            "100/100 [==============================] - 19s 190ms/step - loss: 0.5559 - acc: 0.6949 - val_loss: 0.5252 - val_acc: 0.6900\n",
            "Epoch 19/20\n",
            "100/100 [==============================] - 19s 191ms/step - loss: 0.5480 - acc: 0.7186 - val_loss: 0.6849 - val_acc: 0.5900\n",
            "Epoch 20/20\n",
            "100/100 [==============================] - 19s 190ms/step - loss: 0.5354 - acc: 0.7272 - val_loss: 0.5516 - val_acc: 0.7300\n"
          ],
          "name": "stdout"
        }
      ]
    },
    {
      "cell_type": "markdown",
      "metadata": {
        "id": "BRdU5yrkUF_b"
      },
      "source": [
        "# Task 2:\n",
        "\n",
        "We have used Dropout to enhance the performance of the CNN model. Can you please use whatever you like to further enhance the performance from `val_acc: 0.7506`? "
      ]
    },
    {
      "cell_type": "markdown",
      "metadata": {
        "id": "GNau9KdZn82e"
      },
      "source": [
        "### Adding more layers"
      ]
    },
    {
      "cell_type": "code",
      "metadata": {
        "id": "ZLHOhTe4dJl2"
      },
      "source": [
        "model = models.Sequential()\n",
        "model.add(layers.Conv2D(32, (3, 3), activation='relu',input_shape=(150, 150, 3)))\n",
        "model.add(layers.MaxPooling2D((2, 2)))\n",
        "model.add(layers.Conv2D(64, (3, 3), activation='relu'))\n",
        "#model.add(layers.BatchNormalization())\n",
        "model.add(layers.MaxPooling2D((2, 2)))\n",
        "model.add(layers.Conv2D(128, (3, 3), activation='relu'))\n",
        "#model.add(layers.BatchNormalization())\n",
        "model.add(layers.MaxPooling2D((2, 2)))\n",
        "model.add(layers.Conv2D(128, (3, 3), activation='relu'))\n",
        "#model.add(layers.BatchNormalization())\n",
        "\n",
        "\n",
        "model.add(layers.MaxPooling2D((2, 2)))\n",
        "model.add(layers.Conv2D(256, (3, 3), activation='relu'))\n",
        "#model.add(layers.BatchNormalization())\n",
        "model.add(layers.MaxPooling2D((2, 2)))\n",
        "model.add(layers.Conv2D(512, (1, 1), activation='relu'))\n",
        "\n",
        "model.add(layers.MaxPooling2D((2, 2)))\n",
        "model.add(layers.Flatten())\n",
        "model.add(layers.Dropout(0.5))\n",
        "model.add(layers.Dense(512, activation='relu'))\n",
        "model.add(layers.Dense(1, activation='sigmoid'))\n",
        "\n",
        "model.compile(loss='binary_crossentropy',\n",
        "              optimizer=optimizers.Adam(lr=1e-4),\n",
        "              metrics=['acc'])"
      ],
      "execution_count": 17,
      "outputs": []
    },
    {
      "cell_type": "code",
      "metadata": {
        "colab": {
          "base_uri": "https://localhost:8080/"
        },
        "id": "SHi75QFXdKOz",
        "outputId": "cb198b19-a663-4d48-8aac-3282de47ee28"
      },
      "source": [
        "history = model.fit_generator(train_generator,\n",
        "                              steps_per_epoch=100 ,\n",
        "                              epochs=30,\n",
        "                              validation_data=validation_generator,\n",
        "                              validation_steps=10)"
      ],
      "execution_count": 18,
      "outputs": [
        {
          "output_type": "stream",
          "text": [
            "/usr/local/lib/python3.7/dist-packages/tensorflow/python/keras/engine/training.py:1844: UserWarning: `Model.fit_generator` is deprecated and will be removed in a future version. Please use `Model.fit`, which supports generators.\n",
            "  warnings.warn('`Model.fit_generator` is deprecated and '\n"
          ],
          "name": "stderr"
        },
        {
          "output_type": "stream",
          "text": [
            "Epoch 1/30\n",
            "100/100 [==============================] - 20s 192ms/step - loss: 0.6930 - acc: 0.4950 - val_loss: 0.6908 - val_acc: 0.5000\n",
            "Epoch 2/30\n",
            "100/100 [==============================] - 19s 189ms/step - loss: 0.6912 - acc: 0.5139 - val_loss: 0.6849 - val_acc: 0.5350\n",
            "Epoch 3/30\n",
            "100/100 [==============================] - 19s 190ms/step - loss: 0.6902 - acc: 0.5225 - val_loss: 0.6952 - val_acc: 0.4450\n",
            "Epoch 4/30\n",
            "100/100 [==============================] - 19s 189ms/step - loss: 0.6915 - acc: 0.5203 - val_loss: 0.6745 - val_acc: 0.6200\n",
            "Epoch 5/30\n",
            "100/100 [==============================] - 19s 190ms/step - loss: 0.6850 - acc: 0.5464 - val_loss: 0.6763 - val_acc: 0.5950\n",
            "Epoch 6/30\n",
            "100/100 [==============================] - 19s 190ms/step - loss: 0.6742 - acc: 0.5986 - val_loss: 0.6303 - val_acc: 0.6400\n",
            "Epoch 7/30\n",
            "100/100 [==============================] - 19s 190ms/step - loss: 0.6739 - acc: 0.5821 - val_loss: 0.6496 - val_acc: 0.6100\n",
            "Epoch 8/30\n",
            "100/100 [==============================] - 19s 189ms/step - loss: 0.6454 - acc: 0.6482 - val_loss: 0.7003 - val_acc: 0.5650\n",
            "Epoch 9/30\n",
            "100/100 [==============================] - 19s 190ms/step - loss: 0.6312 - acc: 0.6511 - val_loss: 0.6101 - val_acc: 0.6400\n",
            "Epoch 10/30\n",
            "100/100 [==============================] - 19s 190ms/step - loss: 0.6325 - acc: 0.6525 - val_loss: 0.5968 - val_acc: 0.6750\n",
            "Epoch 11/30\n",
            "100/100 [==============================] - 19s 189ms/step - loss: 0.6189 - acc: 0.6666 - val_loss: 0.5876 - val_acc: 0.7050\n",
            "Epoch 12/30\n",
            "100/100 [==============================] - 19s 190ms/step - loss: 0.6116 - acc: 0.6891 - val_loss: 0.5610 - val_acc: 0.7250\n",
            "Epoch 13/30\n",
            "100/100 [==============================] - 19s 190ms/step - loss: 0.5823 - acc: 0.6963 - val_loss: 0.5906 - val_acc: 0.6550\n",
            "Epoch 14/30\n",
            "100/100 [==============================] - 19s 189ms/step - loss: 0.6042 - acc: 0.6837 - val_loss: 0.4850 - val_acc: 0.7700\n",
            "Epoch 15/30\n",
            "100/100 [==============================] - 19s 189ms/step - loss: 0.5785 - acc: 0.7118 - val_loss: 0.5902 - val_acc: 0.6750\n",
            "Epoch 16/30\n",
            "100/100 [==============================] - 19s 190ms/step - loss: 0.5559 - acc: 0.7260 - val_loss: 0.5526 - val_acc: 0.7100\n",
            "Epoch 17/30\n",
            "100/100 [==============================] - 19s 190ms/step - loss: 0.5720 - acc: 0.6977 - val_loss: 0.6875 - val_acc: 0.6100\n",
            "Epoch 18/30\n",
            "100/100 [==============================] - 19s 190ms/step - loss: 0.5721 - acc: 0.6916 - val_loss: 0.5539 - val_acc: 0.7100\n",
            "Epoch 19/30\n",
            "100/100 [==============================] - 19s 191ms/step - loss: 0.5397 - acc: 0.7369 - val_loss: 0.5169 - val_acc: 0.7200\n",
            "Epoch 20/30\n",
            "100/100 [==============================] - 19s 190ms/step - loss: 0.5295 - acc: 0.7358 - val_loss: 0.5701 - val_acc: 0.6650\n",
            "Epoch 21/30\n",
            "100/100 [==============================] - 19s 190ms/step - loss: 0.5270 - acc: 0.7439 - val_loss: 0.5477 - val_acc: 0.7300\n",
            "Epoch 22/30\n",
            "100/100 [==============================] - 19s 190ms/step - loss: 0.5408 - acc: 0.7172 - val_loss: 0.4856 - val_acc: 0.7250\n",
            "Epoch 23/30\n",
            "100/100 [==============================] - 19s 190ms/step - loss: 0.5056 - acc: 0.7519 - val_loss: 0.4848 - val_acc: 0.7600\n",
            "Epoch 24/30\n",
            "100/100 [==============================] - 19s 190ms/step - loss: 0.4992 - acc: 0.7619 - val_loss: 0.4482 - val_acc: 0.7900\n",
            "Epoch 25/30\n",
            "100/100 [==============================] - 19s 190ms/step - loss: 0.4946 - acc: 0.7636 - val_loss: 0.5168 - val_acc: 0.7400\n",
            "Epoch 26/30\n",
            "100/100 [==============================] - 19s 190ms/step - loss: 0.5269 - acc: 0.7313 - val_loss: 0.5766 - val_acc: 0.6950\n",
            "Epoch 27/30\n",
            "100/100 [==============================] - 19s 190ms/step - loss: 0.4649 - acc: 0.7826 - val_loss: 0.4950 - val_acc: 0.7800\n",
            "Epoch 28/30\n",
            "100/100 [==============================] - 19s 191ms/step - loss: 0.4601 - acc: 0.7895 - val_loss: 0.4702 - val_acc: 0.7800\n",
            "Epoch 29/30\n",
            "100/100 [==============================] - 19s 190ms/step - loss: 0.4937 - acc: 0.7687 - val_loss: 0.4486 - val_acc: 0.8100\n",
            "Epoch 30/30\n",
            "100/100 [==============================] - 19s 190ms/step - loss: 0.4690 - acc: 0.7788 - val_loss: 0.5257 - val_acc: 0.7500\n"
          ],
          "name": "stdout"
        }
      ]
    },
    {
      "cell_type": "code",
      "metadata": {
        "id": "IKM9tXPfnKXw"
      },
      "source": [
        "model.save('cats_and_dogs_small_exercise2.h5')"
      ],
      "execution_count": null,
      "outputs": []
    },
    {
      "cell_type": "markdown",
      "metadata": {
        "id": "ZeO3lcVWoUDA"
      },
      "source": [
        "### Loading and retraining the model"
      ]
    },
    {
      "cell_type": "code",
      "metadata": {
        "colab": {
          "base_uri": "https://localhost:8080/"
        },
        "id": "YPlodF3pgjvx",
        "outputId": "d3f1115c-70a6-4f58-b689-1276ecde1df6"
      },
      "source": [
        "from keras.models import load_model\n",
        "model = load_model('cats_and_dogs_small_exercise2.h5')\n",
        "\n",
        "\n",
        "model.compile(loss='binary_crossentropy',\n",
        "              optimizer=optimizers.Adam(lr=1e-6),\n",
        "              metrics=['acc'])\n",
        "\n",
        "history = model.fit_generator(train_generator,\n",
        "                              steps_per_epoch=100 ,\n",
        "                              epochs=10,\n",
        "                              validation_data=validation_generator,\n",
        "                              validation_steps=10)"
      ],
      "execution_count": null,
      "outputs": [
        {
          "output_type": "stream",
          "text": [
            "/usr/local/lib/python3.7/dist-packages/tensorflow/python/keras/engine/training.py:1844: UserWarning: `Model.fit_generator` is deprecated and will be removed in a future version. Please use `Model.fit`, which supports generators.\n",
            "  warnings.warn('`Model.fit_generator` is deprecated and '\n"
          ],
          "name": "stderr"
        },
        {
          "output_type": "stream",
          "text": [
            "Epoch 1/10\n",
            "100/100 [==============================] - 16s 153ms/step - loss: 0.4678 - acc: 0.7812 - val_loss: 0.4272 - val_acc: 0.8050\n",
            "Epoch 2/10\n",
            "100/100 [==============================] - 15s 151ms/step - loss: 0.4580 - acc: 0.7873 - val_loss: 0.4773 - val_acc: 0.7700\n",
            "Epoch 3/10\n",
            "100/100 [==============================] - 15s 150ms/step - loss: 0.4555 - acc: 0.7871 - val_loss: 0.4153 - val_acc: 0.8150\n",
            "Epoch 4/10\n",
            "100/100 [==============================] - 15s 150ms/step - loss: 0.4374 - acc: 0.8078 - val_loss: 0.4258 - val_acc: 0.8050\n",
            "Epoch 5/10\n",
            "100/100 [==============================] - 15s 150ms/step - loss: 0.4399 - acc: 0.7924 - val_loss: 0.4121 - val_acc: 0.8100\n",
            "Epoch 6/10\n",
            "100/100 [==============================] - 15s 150ms/step - loss: 0.4440 - acc: 0.7893 - val_loss: 0.4573 - val_acc: 0.7600\n",
            "Epoch 7/10\n",
            "100/100 [==============================] - 15s 151ms/step - loss: 0.4285 - acc: 0.8001 - val_loss: 0.4379 - val_acc: 0.7850\n",
            "Epoch 8/10\n",
            "100/100 [==============================] - 15s 150ms/step - loss: 0.4226 - acc: 0.8106 - val_loss: 0.4272 - val_acc: 0.7950\n",
            "Epoch 9/10\n",
            "100/100 [==============================] - 15s 150ms/step - loss: 0.4559 - acc: 0.7946 - val_loss: 0.4559 - val_acc: 0.7750\n",
            "Epoch 10/10\n",
            "100/100 [==============================] - 15s 150ms/step - loss: 0.4472 - acc: 0.7775 - val_loss: 0.4218 - val_acc: 0.7600\n"
          ],
          "name": "stdout"
        }
      ]
    }
  ]
}