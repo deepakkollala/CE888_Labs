{
  "nbformat": 4,
  "nbformat_minor": 0,
  "metadata": {
    "colab": {
      "name": "Exercise2DogvsCatCNN.ipynb",
      "provenance": [],
      "include_colab_link": true
    },
    "kernelspec": {
      "name": "python3",
      "display_name": "Python 3"
    },
    "accelerator": "GPU"
  },
  "cells": [
    {
      "cell_type": "markdown",
      "metadata": {
        "id": "view-in-github",
        "colab_type": "text"
      },
      "source": [
        "<a href=\"https://colab.research.google.com/github/deepakkollala/CE888_Labs/blob/main/lab7/Exercise2DogvsCatCNN.ipynb\" target=\"_parent\"><img src=\"https://colab.research.google.com/assets/colab-badge.svg\" alt=\"Open In Colab\"/></a>"
      ]
    },
    {
      "cell_type": "markdown",
      "metadata": {
        "id": "qTh9DiKVslsJ"
      },
      "source": [
        "## Dogs vs. Cats \n",
        "\n",
        "In this competition, you'll write an algorithm to classify whether images contain either a dog or a cat.  This is easy for humans, dogs, and cats. Your computer will find it a bit more difficult.\n",
        "\n",
        "![alt text](https://miro.medium.com/max/3000/1*bhFifratH9DjKqMBTeQG5A.gif)\n",
        "\n",
        "Ref: https://medium.com/@thegrigorian/rolling-in-the-deep-cnn-c8d3f7108c8c"
      ]
    },
    {
      "cell_type": "markdown",
      "metadata": {
        "id": "RSBI-_mSSY1g"
      },
      "source": [
        "Get your API Key from Kaggle using following steps:\n",
        "1. Login to [Kaggle](https://www.kaggle.com/) or Register if you don't have account\n",
        "2. Open Dataset (https://www.kaggle.com/c/dogs-vs-cats/rules) and accept terms and condition. \n",
        "3. On the top right corner click on your Icon and go to accounts and press a button \"Create New API Token\". It will download a JSON file containing your username and key. \n",
        "4. Now, paste both below. \n"
      ]
    },
    {
      "cell_type": "code",
      "metadata": {
        "id": "YmXSOc0tZIGA",
        "colab": {
          "base_uri": "https://localhost:8080/"
        },
        "outputId": "b0bab846-571e-471a-8c80-697a72bf7ef0"
      },
      "source": [
        "import os\n",
        "os.environ['KAGGLE_USERNAME'] = \"rajhazarika\" # username from the json file\n",
        "os.environ['KAGGLE_KEY'] = \"859e1b3d04ee06e0db976fdafabd74f8\" # key from the json file\n",
        "!kaggle competitions download -c dogs-vs-cats # api copied from kaggle (https://www.kaggle.com/c/dogs-vs-cats/data)"
      ],
      "execution_count": null,
      "outputs": [
        {
          "output_type": "stream",
          "text": [
            "Warning: Looks like you're using an outdated API Version, please consider updating (server 1.5.12 / client 1.5.4)\n",
            "Downloading sampleSubmission.csv to /content\n",
            "\r  0% 0.00/86.8k [00:00<?, ?B/s]\n",
            "100% 86.8k/86.8k [00:00<00:00, 32.8MB/s]\n",
            "Downloading test1.zip to /content\n",
            " 99% 268M/271M [00:02<00:00, 136MB/s]\n",
            "100% 271M/271M [00:02<00:00, 122MB/s]\n",
            "Downloading train.zip to /content\n",
            " 97% 526M/543M [00:04<00:00, 226MB/s]\n",
            "100% 543M/543M [00:04<00:00, 126MB/s]\n"
          ],
          "name": "stdout"
        }
      ]
    },
    {
      "cell_type": "code",
      "metadata": {
        "id": "PiwIL8d1n7eS",
        "colab": {
          "base_uri": "https://localhost:8080/"
        },
        "outputId": "f5768bf7-53e0-4238-f036-24d60f1b3dfd"
      },
      "source": [
        "# Unzip training data\n",
        "from zipfile import ZipFile\n",
        "file_name = \"/content/train.zip\"\n",
        "with ZipFile(file_name, 'r') as zip:\n",
        "  zip.extractall()\n",
        "  print('done')"
      ],
      "execution_count": null,
      "outputs": [
        {
          "output_type": "stream",
          "text": [
            "done\n"
          ],
          "name": "stdout"
        }
      ]
    },
    {
      "cell_type": "code",
      "metadata": {
        "id": "sa2Bj5i7pPKV",
        "colab": {
          "base_uri": "https://localhost:8080/"
        },
        "outputId": "410deb60-4fcd-43c0-e4d5-fedb5ea5e3f4"
      },
      "source": [
        "# Get all the paths\n",
        "data_dir_list = os.listdir('/content/train')\n",
        "#print(data_dir_list)\n",
        "path, dirs, files = next(os.walk(\"/content/train\"))\n",
        "file_count = len(files)\n",
        "print(file_count)"
      ],
      "execution_count": null,
      "outputs": [
        {
          "output_type": "stream",
          "text": [
            "25000\n"
          ],
          "name": "stdout"
        }
      ]
    },
    {
      "cell_type": "code",
      "metadata": {
        "id": "0ERlHkfHqpK8"
      },
      "source": [
        "# Make new base directory\n",
        "original_dataset_dir = '/content/train'\n",
        "base_dir = '/content/cats_and_dogs_small'\n",
        "os.mkdir(base_dir)"
      ],
      "execution_count": null,
      "outputs": []
    },
    {
      "cell_type": "code",
      "metadata": {
        "id": "AANB1UJ6rQhM"
      },
      "source": [
        "train_dir = os.path.join(base_dir, 'train')\n",
        "os.mkdir(train_dir)\n",
        "\n",
        "validation_dir = os.path.join(base_dir, 'validation')\n",
        "os.mkdir(validation_dir)\n",
        "\n",
        "test_dir = os.path.join(base_dir, 'test')\n",
        "os.mkdir(test_dir)\n",
        "\n",
        "train_cats_dir = os.path.join(train_dir, 'cats')\n",
        "os.mkdir(train_cats_dir)\n",
        "\n",
        "train_dogs_dir = os.path.join(train_dir, 'dogs')\n",
        "os.mkdir(train_dogs_dir)\n",
        "\n",
        "validation_cats_dir = os.path.join(validation_dir, 'cats')\n",
        "os.mkdir(validation_cats_dir)\n",
        "\n",
        "validation_dogs_dir = os.path.join(validation_dir, 'dogs')\n",
        "os.mkdir(validation_dogs_dir)\n",
        "\n",
        "test_cats_dir = os.path.join(test_dir, 'cats')\n",
        "os.mkdir(test_cats_dir)\n",
        "\n",
        "test_dogs_dir = os.path.join(test_dir, 'dogs')\n",
        "os.mkdir(test_dogs_dir)"
      ],
      "execution_count": null,
      "outputs": []
    },
    {
      "cell_type": "code",
      "metadata": {
        "id": "ULRgL9s9rV8T"
      },
      "source": [
        "import shutil\n",
        "fnames = ['cat.{}.jpg'.format(i) for i in range(1000)]\n",
        "for fname in fnames:\n",
        "    src = os.path.join(original_dataset_dir, fname)\n",
        "    dst = os.path.join(train_cats_dir, fname)\n",
        "    #print(src,dst)\n",
        "    shutil.copyfile(src, dst)\n",
        "    \n",
        "fnames = ['cat.{}.jpg'.format(i) for i in range(1000, 1500)]\n",
        "for fname in fnames:\n",
        "    src = os.path.join(original_dataset_dir, fname)\n",
        "    dst = os.path.join(validation_cats_dir, fname)\n",
        "    shutil.copyfile(src, dst)\n",
        "\n",
        "fnames = ['cat.{}.jpg'.format(i) for i in range(1500, 2000)]\n",
        "for fname in fnames:\n",
        "    src = os.path.join(original_dataset_dir, fname)\n",
        "    dst = os.path.join(test_cats_dir, fname)\n",
        "    shutil.copyfile(src, dst)\n",
        "    \n",
        "fnames = ['dog.{}.jpg'.format(i) for i in range(1000)]\n",
        "for fname in fnames:\n",
        "    src = os.path.join(original_dataset_dir, fname)\n",
        "    dst = os.path.join(train_dogs_dir, fname)\n",
        "    shutil.copyfile(src, dst)\n",
        "\n",
        "fnames = ['dog.{}.jpg'.format(i) for i in range(1000, 1500)]\n",
        "for fname in fnames:\n",
        "    src = os.path.join(original_dataset_dir, fname)\n",
        "    dst = os.path.join(validation_dogs_dir, fname)\n",
        "    shutil.copyfile(src, dst)\n",
        "\n",
        "fnames = ['dog.{}.jpg'.format(i) for i in range(1500, 2000)]\n",
        "for fname in fnames:\n",
        "    src = os.path.join(original_dataset_dir, fname)\n",
        "    dst = os.path.join(test_dogs_dir, fname)\n",
        "    shutil.copyfile(src, dst)"
      ],
      "execution_count": null,
      "outputs": []
    },
    {
      "cell_type": "code",
      "metadata": {
        "id": "ul3XAbIyr7vC",
        "colab": {
          "base_uri": "https://localhost:8080/"
        },
        "outputId": "0f5c7292-743c-4816-e334-d6ac4c6bf309"
      },
      "source": [
        "print('total training cat images:', len(os.listdir(train_cats_dir)))\n",
        "print('total training dog images:', len(os.listdir(train_dogs_dir)))\n",
        "print('total validation cat images:', len(os.listdir(validation_cats_dir)))\n",
        "\n",
        "print('total validation dog images:', len(os.listdir(validation_dogs_dir)))\n",
        "print('total test cat images:', len(os.listdir(test_cats_dir)))\n",
        "print('total test dog images:', len(os.listdir(test_dogs_dir)))"
      ],
      "execution_count": null,
      "outputs": [
        {
          "output_type": "stream",
          "text": [
            "total training cat images: 1000\n",
            "total training dog images: 1000\n",
            "total validation cat images: 500\n",
            "total validation dog images: 500\n",
            "total test cat images: 500\n",
            "total test dog images: 500\n"
          ],
          "name": "stdout"
        }
      ]
    },
    {
      "cell_type": "code",
      "metadata": {
        "id": "o9yTA21_r-ma",
        "colab": {
          "base_uri": "https://localhost:8080/"
        },
        "outputId": "a4aec73b-2598-414f-9f00-aeb6eb56ca54"
      },
      "source": [
        "from keras import layers\n",
        "from keras import models\n",
        "\n",
        "model = models.Sequential()\n",
        "model.add(layers.Conv2D(32, (3, 3), activation='relu', input_shape=(150, 150, 3)))\n",
        "model.add(layers.MaxPooling2D((2, 2)))\n",
        "model.add(layers.Conv2D(64, (3, 3), activation='relu'))\n",
        "model.add(layers.MaxPooling2D((2, 2)))\n",
        "model.add(layers.Conv2D(128, (3, 3), activation='relu'))\n",
        "model.add(layers.MaxPooling2D((2, 2)))\n",
        "model.add(layers.Conv2D(128, (3, 3), activation='relu'))\n",
        "model.add(layers.MaxPooling2D((2, 2)))\n",
        "model.add(layers.Flatten())\n",
        "model.add(layers.Dense(512, activation='relu'))\n",
        "model.add(layers.Dense(1, activation='sigmoid'))\n",
        "model.summary()"
      ],
      "execution_count": null,
      "outputs": [
        {
          "output_type": "stream",
          "text": [
            "Model: \"sequential\"\n",
            "_________________________________________________________________\n",
            "Layer (type)                 Output Shape              Param #   \n",
            "=================================================================\n",
            "conv2d (Conv2D)              (None, 148, 148, 32)      896       \n",
            "_________________________________________________________________\n",
            "max_pooling2d (MaxPooling2D) (None, 74, 74, 32)        0         \n",
            "_________________________________________________________________\n",
            "conv2d_1 (Conv2D)            (None, 72, 72, 64)        18496     \n",
            "_________________________________________________________________\n",
            "max_pooling2d_1 (MaxPooling2 (None, 36, 36, 64)        0         \n",
            "_________________________________________________________________\n",
            "conv2d_2 (Conv2D)            (None, 34, 34, 128)       73856     \n",
            "_________________________________________________________________\n",
            "max_pooling2d_2 (MaxPooling2 (None, 17, 17, 128)       0         \n",
            "_________________________________________________________________\n",
            "conv2d_3 (Conv2D)            (None, 15, 15, 128)       147584    \n",
            "_________________________________________________________________\n",
            "max_pooling2d_3 (MaxPooling2 (None, 7, 7, 128)         0         \n",
            "_________________________________________________________________\n",
            "flatten (Flatten)            (None, 6272)              0         \n",
            "_________________________________________________________________\n",
            "dense (Dense)                (None, 512)               3211776   \n",
            "_________________________________________________________________\n",
            "dense_1 (Dense)              (None, 1)                 513       \n",
            "=================================================================\n",
            "Total params: 3,453,121\n",
            "Trainable params: 3,453,121\n",
            "Non-trainable params: 0\n",
            "_________________________________________________________________\n"
          ],
          "name": "stdout"
        }
      ]
    },
    {
      "cell_type": "code",
      "metadata": {
        "id": "2mG8wekxsBVS"
      },
      "source": [
        "from keras import optimizers\n",
        "model.compile(loss='binary_crossentropy', \n",
        "              optimizer=optimizers.RMSprop(lr=1e-4),\n",
        "              metrics=['acc'])"
      ],
      "execution_count": null,
      "outputs": []
    },
    {
      "cell_type": "markdown",
      "metadata": {
        "id": "7zS4Klm8qWp6"
      },
      "source": [
        "## Using ImageDataGenerator to read images from directories\n",
        "As you know by now, data should be formatted into appropriately preprocessed floatingpoint tensors before being fed into the network. Currently, the data sits on a drive as JPEG files, so the steps for getting it into the network are roughly as follows:\n",
        "\n",
        "* Read the picture files.\n",
        "* Decode the JPEG content to RGB grids of pixels.\n",
        "* Convert these into floating-point tensors.\n",
        "* Rescale the pixel values (between 0 and 255) to the [0, 1] interval (as you know, neural networks prefer to deal with small input values).\n",
        "\n",
        "It may seem a bit daunting, but fortunately Keras has utilities to take care of these steps automatically. Keras has a module with image-processing helper tools, located at keras.preprocessing.image. In particular, it contains the class ImageDataGenerator,which lets you quickly set up Python generators that can automatically turn image files on disk into batches of preprocessed tensors."
      ]
    },
    {
      "cell_type": "code",
      "metadata": {
        "id": "XJ7XU7t9sEh6",
        "colab": {
          "base_uri": "https://localhost:8080/"
        },
        "outputId": "76dd974f-d2fd-41b2-e5bd-9c377fbe5508"
      },
      "source": [
        "from keras.preprocessing.image import ImageDataGenerator\n",
        "\n",
        "train_datagen = ImageDataGenerator(rescale=1./255)\n",
        "test_datagen = ImageDataGenerator(rescale=1./255)\n",
        "\n",
        "train_generator = train_datagen.flow_from_directory(train_dir,\n",
        "                                                    target_size=(150, 150), \n",
        "                                                    batch_size=20,\n",
        "                                                    class_mode='binary')\n",
        "\n",
        "validation_generator = test_datagen.flow_from_directory(validation_dir,\n",
        "                                                        target_size=(150, 150),\n",
        "                                                        batch_size=20,\n",
        "                                                        class_mode='binary')"
      ],
      "execution_count": null,
      "outputs": [
        {
          "output_type": "stream",
          "text": [
            "Found 2000 images belonging to 2 classes.\n",
            "Found 1000 images belonging to 2 classes.\n"
          ],
          "name": "stdout"
        }
      ]
    },
    {
      "cell_type": "markdown",
      "metadata": {
        "id": "SEgLywySqm4u"
      },
      "source": [
        "Let’s fit the model to the data using the generator. You do so using the fit_generator method, the equivalent of fit for data generators like this one. It expects as its first argument a Python generator that will yield batches of inputs and targets indefinitely,like this one does. Because the data is being generated endlessly, the Keras model needs to know how many samples to draw from the generator before declaring anepoch over. This is the role of the `steps_per_epoch` argument: after having drawn `steps_per_epoch` batches from the generator—that is, after having run for `steps_per_epoch` gradient descent steps—the fitting process will go to the next epoch. In this case, batches are 20 samples, so it will take 100 batches until you see your target of 2,000 samples.\n",
        "\n",
        "When using fit_generator, you can pass a validation_data argument, much as with the fit method. It’s important to note that this argument is allowed to be a data generator, but it could also be a tuple of Numpy arrays. If you pass a generator as validation_data, then this generator is expected to yield batches of validation data endlessly; thus you should also specify the validation_steps argument, which tells the process how many batches to draw from the validation generator for evaluation."
      ]
    },
    {
      "cell_type": "code",
      "metadata": {
        "id": "yMyfPphJsJG6",
        "colab": {
          "base_uri": "https://localhost:8080/"
        },
        "outputId": "650ed6b4-e9a0-4db0-ae28-9e9c6a05db3a"
      },
      "source": [
        "history = model.fit_generator(train_generator,\n",
        "                              steps_per_epoch=100,\n",
        "                              epochs=30,\n",
        "                              validation_data=validation_generator,\n",
        "                              validation_steps=10)"
      ],
      "execution_count": null,
      "outputs": [
        {
          "output_type": "stream",
          "text": [
            "/usr/local/lib/python3.7/dist-packages/tensorflow/python/keras/engine/training.py:1844: UserWarning: `Model.fit_generator` is deprecated and will be removed in a future version. Please use `Model.fit`, which supports generators.\n",
            "  warnings.warn('`Model.fit_generator` is deprecated and '\n"
          ],
          "name": "stderr"
        },
        {
          "output_type": "stream",
          "text": [
            "Epoch 1/30\n",
            "100/100 [==============================] - 40s 70ms/step - loss: 0.6944 - acc: 0.5064 - val_loss: 0.6742 - val_acc: 0.5950\n",
            "Epoch 2/30\n",
            "100/100 [==============================] - 7s 67ms/step - loss: 0.6558 - acc: 0.6096 - val_loss: 0.6385 - val_acc: 0.6550\n",
            "Epoch 3/30\n",
            "100/100 [==============================] - 7s 67ms/step - loss: 0.6018 - acc: 0.6761 - val_loss: 0.6491 - val_acc: 0.5850\n",
            "Epoch 4/30\n",
            "100/100 [==============================] - 7s 67ms/step - loss: 0.5641 - acc: 0.7223 - val_loss: 0.6064 - val_acc: 0.6800\n",
            "Epoch 5/30\n",
            "100/100 [==============================] - 7s 67ms/step - loss: 0.5309 - acc: 0.7367 - val_loss: 0.5812 - val_acc: 0.6750\n",
            "Epoch 6/30\n",
            "100/100 [==============================] - 7s 67ms/step - loss: 0.5025 - acc: 0.7638 - val_loss: 0.6066 - val_acc: 0.7150\n",
            "Epoch 7/30\n",
            "100/100 [==============================] - 7s 67ms/step - loss: 0.4715 - acc: 0.7637 - val_loss: 0.5674 - val_acc: 0.6900\n",
            "Epoch 8/30\n",
            "100/100 [==============================] - 7s 67ms/step - loss: 0.4612 - acc: 0.7832 - val_loss: 0.5895 - val_acc: 0.6800\n",
            "Epoch 9/30\n",
            "100/100 [==============================] - 7s 67ms/step - loss: 0.4423 - acc: 0.7811 - val_loss: 0.5054 - val_acc: 0.7600\n",
            "Epoch 10/30\n",
            "100/100 [==============================] - 7s 67ms/step - loss: 0.4147 - acc: 0.8103 - val_loss: 0.5727 - val_acc: 0.7450\n",
            "Epoch 11/30\n",
            "100/100 [==============================] - 7s 67ms/step - loss: 0.3779 - acc: 0.8312 - val_loss: 0.6370 - val_acc: 0.7000\n",
            "Epoch 12/30\n",
            "100/100 [==============================] - 7s 67ms/step - loss: 0.3639 - acc: 0.8503 - val_loss: 0.5712 - val_acc: 0.7350\n",
            "Epoch 13/30\n",
            "100/100 [==============================] - 7s 66ms/step - loss: 0.3550 - acc: 0.8476 - val_loss: 0.5421 - val_acc: 0.6750\n",
            "Epoch 14/30\n",
            "100/100 [==============================] - 7s 66ms/step - loss: 0.3097 - acc: 0.8718 - val_loss: 0.5882 - val_acc: 0.7300\n",
            "Epoch 15/30\n",
            "100/100 [==============================] - 7s 66ms/step - loss: 0.2875 - acc: 0.8872 - val_loss: 0.5096 - val_acc: 0.7400\n",
            "Epoch 16/30\n",
            "100/100 [==============================] - 7s 66ms/step - loss: 0.2596 - acc: 0.9050 - val_loss: 0.6121 - val_acc: 0.7200\n",
            "Epoch 17/30\n",
            "100/100 [==============================] - 7s 65ms/step - loss: 0.2571 - acc: 0.9010 - val_loss: 0.6578 - val_acc: 0.6950\n",
            "Epoch 18/30\n",
            "100/100 [==============================] - 7s 66ms/step - loss: 0.2030 - acc: 0.9236 - val_loss: 0.5927 - val_acc: 0.7100\n",
            "Epoch 19/30\n",
            "100/100 [==============================] - 7s 67ms/step - loss: 0.2109 - acc: 0.9264 - val_loss: 0.6046 - val_acc: 0.7550\n",
            "Epoch 20/30\n",
            "100/100 [==============================] - 7s 67ms/step - loss: 0.1954 - acc: 0.9369 - val_loss: 0.5199 - val_acc: 0.7650\n",
            "Epoch 21/30\n",
            "100/100 [==============================] - 7s 68ms/step - loss: 0.1608 - acc: 0.9521 - val_loss: 0.6650 - val_acc: 0.7300\n",
            "Epoch 22/30\n",
            "100/100 [==============================] - 7s 67ms/step - loss: 0.1384 - acc: 0.9573 - val_loss: 0.5924 - val_acc: 0.7550\n",
            "Epoch 23/30\n",
            "100/100 [==============================] - 7s 68ms/step - loss: 0.1402 - acc: 0.9530 - val_loss: 0.8072 - val_acc: 0.7500\n",
            "Epoch 24/30\n",
            "100/100 [==============================] - 7s 68ms/step - loss: 0.1071 - acc: 0.9657 - val_loss: 0.7680 - val_acc: 0.7200\n",
            "Epoch 25/30\n",
            "100/100 [==============================] - 7s 66ms/step - loss: 0.1042 - acc: 0.9720 - val_loss: 0.6860 - val_acc: 0.8050\n",
            "Epoch 26/30\n",
            "100/100 [==============================] - 7s 66ms/step - loss: 0.0850 - acc: 0.9718 - val_loss: 0.7899 - val_acc: 0.7550\n",
            "Epoch 27/30\n",
            "100/100 [==============================] - 7s 65ms/step - loss: 0.0655 - acc: 0.9853 - val_loss: 0.6952 - val_acc: 0.7550\n",
            "Epoch 28/30\n",
            "100/100 [==============================] - 7s 66ms/step - loss: 0.0639 - acc: 0.9829 - val_loss: 1.0961 - val_acc: 0.7350\n",
            "Epoch 29/30\n",
            "100/100 [==============================] - 7s 66ms/step - loss: 0.0538 - acc: 0.9874 - val_loss: 0.8194 - val_acc: 0.7650\n",
            "Epoch 30/30\n",
            "100/100 [==============================] - 7s 66ms/step - loss: 0.0406 - acc: 0.9927 - val_loss: 0.9807 - val_acc: 0.7350\n"
          ],
          "name": "stdout"
        }
      ]
    },
    {
      "cell_type": "code",
      "metadata": {
        "id": "MZaZ2HWZsNUi",
        "colab": {
          "base_uri": "https://localhost:8080/",
          "height": 544
        },
        "outputId": "c48d014b-0fab-4679-a518-8125d6f74933"
      },
      "source": [
        "model.save('cats_and_dogs_small_1.h5')\n",
        "\n",
        "import matplotlib.pyplot as plt\n",
        "\n",
        "acc = history.history['acc']\n",
        "val_acc = history.history['val_acc']\n",
        "loss = history.history['loss']\n",
        "val_loss = history.history['val_loss']\n",
        "\n",
        "epochs = range(1, len(acc) + 1)\n",
        "\n",
        "plt.plot(epochs, acc, 'bo', label='Training acc')\n",
        "plt.plot(epochs, val_acc, 'b', label='Validation acc')\n",
        "plt.title('Training and validation accuracy')\n",
        "plt.legend()\n",
        "\n",
        "plt.figure()\n",
        "\n",
        "plt.plot(epochs, loss, 'bo', label='Training loss')\n",
        "plt.plot(epochs, val_loss, 'b', label='Validation loss')\n",
        "plt.title('Training and validation loss')\n",
        "plt.legend()\n",
        "\n",
        "plt.show()"
      ],
      "execution_count": null,
      "outputs": [
        {
          "output_type": "display_data",
          "data": {
            "image/png": "[encoded data removed]",
            "text/plain": [
              "<Figure size 432x288 with 1 Axes>"
            ]
          },
          "metadata": {
            "tags": [],
            "needs_background": "light"
          }
        },
        {
          "output_type": "display_data",
          "data": {
            "image/png": "[encoded data removed]",
            "text/plain": [
              "<Figure size 432x288 with 1 Axes>"
            ]
          },
          "metadata": {
            "tags": [],
            "needs_background": "light"
          }
        }
      ]
    },
    {
      "cell_type": "markdown",
      "metadata": {
        "id": "XKZmXmBcq_8-"
      },
      "source": [
        "## Convolutional Networks with Dropout\n",
        "\n",
        "![alt text](https://camo.githubusercontent.com/ee6fa1073247cd2c3d241300caf110d7a7541bc5/68747470733a2f2f63646e2d696d616765732d312e6d656469756d2e636f6d2f6d61782f3830302f312a4972644a355067684439596f4f7956415137334d4a772e676966)\n",
        "\n",
        "Ref: https://github.com/mneha4/Training-Neural-Nets---Guidelines"
      ]
    },
    {
      "cell_type": "code",
      "metadata": {
        "id": "wu3cqeYQrDeN"
      },
      "source": [
        "model = models.Sequential()\n",
        "model.add(layers.Conv2D(32, (3, 3), activation='relu',\n",
        "input_shape=(150, 150, 3)))\n",
        "model.add(layers.MaxPooling2D((2, 2)))\n",
        "model.add(layers.Conv2D(64, (3, 3), activation='relu'))\n",
        "model.add(layers.MaxPooling2D((2, 2)))\n",
        "model.add(layers.Conv2D(128, (3, 3), activation='relu'))\n",
        "model.add(layers.MaxPooling2D((2, 2)))\n",
        "model.add(layers.Conv2D(128, (3, 3), activation='relu'))\n",
        "model.add(layers.MaxPooling2D((2, 2)))\n",
        "model.add(layers.Flatten())\n",
        "model.add(layers.Dropout(0.5))\n",
        "model.add(layers.Dense(512, activation='relu'))\n",
        "model.add(layers.Dense(1, activation='sigmoid'))\n",
        "\n",
        "model.compile(loss='binary_crossentropy',\n",
        "              optimizer=optimizers.RMSprop(lr=1e-4),\n",
        "              metrics=['acc'])"
      ],
      "execution_count": null,
      "outputs": []
    },
    {
      "cell_type": "code",
      "metadata": {
        "id": "QSeLpvY0rH7F",
        "colab": {
          "base_uri": "https://localhost:8080/"
        },
        "outputId": "ccde46d1-930e-4904-9c14-83f5dcae59d6"
      },
      "source": [
        "\n",
        "train_datagen = ImageDataGenerator(rescale=1./255,\n",
        "                                   rotation_range=40,\n",
        "                                   width_shift_range=0.2,\n",
        "                                   height_shift_range=0.2,\n",
        "                                   shear_range=0.2,\n",
        "                                   zoom_range=0.2,\n",
        "                                   horizontal_flip=True,)\n",
        "\n",
        "test_datagen = ImageDataGenerator(rescale=1./255)\n",
        "\n",
        "train_generator = train_datagen.flow_from_directory(train_dir,\n",
        "                                                    target_size=(150, 150),\n",
        "                                                    batch_size=20,\n",
        "                                                    class_mode='binary')\n",
        "\n",
        "validation_generator = test_datagen.flow_from_directory(validation_dir,\n",
        "                                                        target_size=(150, 150),\n",
        "                                                        batch_size=20,\n",
        "                                                        class_mode='binary')\n"
      ],
      "execution_count": null,
      "outputs": [
        {
          "output_type": "stream",
          "text": [
            "Found 2000 images belonging to 2 classes.\n",
            "Found 1000 images belonging to 2 classes.\n"
          ],
          "name": "stdout"
        }
      ]
    },
    {
      "cell_type": "code",
      "metadata": {
        "colab": {
          "base_uri": "https://localhost:8080/"
        },
        "id": "z_z6Qyxza79r",
        "outputId": "dee8c7e9-204d-4a5b-fdec-a396f3f1e561"
      },
      "source": [
        "\n",
        "history = model.fit_generator(train_generator,\n",
        "                              steps_per_epoch=100 ,\n",
        "                              epochs=20,\n",
        "                              validation_data=validation_generator,\n",
        "                              validation_steps=10)"
      ],
      "execution_count": null,
      "outputs": [
        {
          "output_type": "stream",
          "text": [
            "/usr/local/lib/python3.7/dist-packages/tensorflow/python/keras/engine/training.py:1844: UserWarning: `Model.fit_generator` is deprecated and will be removed in a future version. Please use `Model.fit`, which supports generators.\n",
            "  warnings.warn('`Model.fit_generator` is deprecated and '\n"
          ],
          "name": "stderr"
        },
        {
          "output_type": "stream",
          "text": [
            "Epoch 1/20\n",
            "100/100 [==============================] - 15s 151ms/step - loss: 0.6477 - acc: 0.6240 - val_loss: 0.6607 - val_acc: 0.5950\n",
            "Epoch 2/20\n",
            "100/100 [==============================] - 15s 153ms/step - loss: 0.6391 - acc: 0.6275 - val_loss: 0.6520 - val_acc: 0.5900\n",
            "Epoch 3/20\n",
            "100/100 [==============================] - 15s 152ms/step - loss: 0.6228 - acc: 0.6480 - val_loss: 0.6145 - val_acc: 0.6650\n",
            "Epoch 4/20\n",
            "100/100 [==============================] - 15s 152ms/step - loss: 0.6132 - acc: 0.6620 - val_loss: 0.6330 - val_acc: 0.6300\n",
            "Epoch 5/20\n",
            "100/100 [==============================] - 15s 151ms/step - loss: 0.6192 - acc: 0.6605 - val_loss: 0.6088 - val_acc: 0.6900\n",
            "Epoch 6/20\n",
            "100/100 [==============================] - 15s 151ms/step - loss: 0.6019 - acc: 0.6805 - val_loss: 0.5778 - val_acc: 0.7050\n",
            "Epoch 7/20\n",
            "100/100 [==============================] - 15s 151ms/step - loss: 0.5910 - acc: 0.6865 - val_loss: 0.5585 - val_acc: 0.6850\n",
            "Epoch 8/20\n",
            "100/100 [==============================] - 15s 152ms/step - loss: 0.5925 - acc: 0.6825 - val_loss: 0.6183 - val_acc: 0.6650\n",
            "Epoch 9/20\n",
            "100/100 [==============================] - 15s 151ms/step - loss: 0.5868 - acc: 0.6910 - val_loss: 0.7000 - val_acc: 0.5550\n",
            "Epoch 10/20\n",
            "100/100 [==============================] - 15s 152ms/step - loss: 0.5827 - acc: 0.6965 - val_loss: 0.5744 - val_acc: 0.6900\n",
            "Epoch 11/20\n",
            "100/100 [==============================] - 15s 151ms/step - loss: 0.5820 - acc: 0.6955 - val_loss: 0.5589 - val_acc: 0.7200\n",
            "Epoch 12/20\n",
            "100/100 [==============================] - 15s 152ms/step - loss: 0.5749 - acc: 0.6905 - val_loss: 0.5263 - val_acc: 0.7500\n",
            "Epoch 13/20\n",
            "100/100 [==============================] - 15s 153ms/step - loss: 0.5648 - acc: 0.7015 - val_loss: 0.5628 - val_acc: 0.7100\n",
            "Epoch 14/20\n",
            "100/100 [==============================] - 15s 152ms/step - loss: 0.5569 - acc: 0.7140 - val_loss: 0.4778 - val_acc: 0.7400\n",
            "Epoch 15/20\n",
            "100/100 [==============================] - 15s 152ms/step - loss: 0.5728 - acc: 0.6985 - val_loss: 0.5485 - val_acc: 0.7400\n",
            "Epoch 16/20\n",
            "100/100 [==============================] - 15s 153ms/step - loss: 0.5515 - acc: 0.7165 - val_loss: 0.5834 - val_acc: 0.7000\n",
            "Epoch 17/20\n",
            "100/100 [==============================] - 15s 153ms/step - loss: 0.5584 - acc: 0.7115 - val_loss: 0.5286 - val_acc: 0.7300\n",
            "Epoch 18/20\n",
            "100/100 [==============================] - 16s 155ms/step - loss: 0.5476 - acc: 0.7295 - val_loss: 0.5643 - val_acc: 0.6650\n",
            "Epoch 19/20\n",
            "100/100 [==============================] - 16s 156ms/step - loss: 0.5409 - acc: 0.7230 - val_loss: 0.4953 - val_acc: 0.7600\n",
            "Epoch 20/20\n",
            "100/100 [==============================] - 15s 154ms/step - loss: 0.5373 - acc: 0.7275 - val_loss: 0.5386 - val_acc: 0.7150\n"
          ],
          "name": "stdout"
        }
      ]
    },
    {
      "cell_type": "markdown",
      "metadata": {
        "id": "BRdU5yrkUF_b"
      },
      "source": [
        "# Task 2:\n",
        "\n",
        "We have used Dropout to enhance the performance of the CNN model. Can you please use whatever you like to further enhance the performance from `val_acc: 0.7506`? "
      ]
    },
    {
      "cell_type": "markdown",
      "metadata": {
        "id": "GNau9KdZn82e"
      },
      "source": [
        "### Adding more layers"
      ]
    },
    {
      "cell_type": "code",
      "metadata": {
        "id": "ZLHOhTe4dJl2"
      },
      "source": [
        "model = models.Sequential()\n",
        "model.add(layers.Conv2D(32, (3, 3), activation='relu',input_shape=(150, 150, 3)))\n",
        "model.add(layers.MaxPooling2D((2, 2)))\n",
        "model.add(layers.Conv2D(64, (3, 3), activation='relu'))\n",
        "#model.add(layers.BatchNormalization())\n",
        "model.add(layers.MaxPooling2D((2, 2)))\n",
        "model.add(layers.Conv2D(128, (3, 3), activation='relu'))\n",
        "#model.add(layers.BatchNormalization())\n",
        "model.add(layers.MaxPooling2D((2, 2)))\n",
        "model.add(layers.Conv2D(128, (3, 3), activation='relu'))\n",
        "#model.add(layers.BatchNormalization())\n",
        "\n",
        "\n",
        "model.add(layers.MaxPooling2D((2, 2)))\n",
        "model.add(layers.Conv2D(256, (3, 3), activation='relu'))\n",
        "#model.add(layers.BatchNormalization())\n",
        "model.add(layers.MaxPooling2D((2, 2)))\n",
        "model.add(layers.Conv2D(512, (1, 1), activation='relu'))\n",
        "\n",
        "model.add(layers.MaxPooling2D((2, 2)))\n",
        "model.add(layers.Flatten())\n",
        "model.add(layers.Dropout(0.5))\n",
        "model.add(layers.Dense(512, activation='relu'))\n",
        "model.add(layers.Dense(1, activation='sigmoid'))\n",
        "\n",
        "model.compile(loss='binary_crossentropy',\n",
        "              optimizer=optimizers.Adam(lr=1e-4),\n",
        "              metrics=['acc'])"
      ],
      "execution_count": null,
      "outputs": []
    },
    {
      "cell_type": "code",
      "metadata": {
        "colab": {
          "base_uri": "https://localhost:8080/"
        },
        "id": "SHi75QFXdKOz",
        "outputId": "c24eca01-7e07-4109-919b-271886a0b1da"
      },
      "source": [
        "history = model.fit_generator(train_generator,\n",
        "                              steps_per_epoch=100 ,\n",
        "                              epochs=30,\n",
        "                              validation_data=validation_generator,\n",
        "                              validation_steps=10)"
      ],
      "execution_count": null,
      "outputs": [
        {
          "output_type": "stream",
          "text": [
            "/usr/local/lib/python3.7/dist-packages/tensorflow/python/keras/engine/training.py:1844: UserWarning: `Model.fit_generator` is deprecated and will be removed in a future version. Please use `Model.fit`, which supports generators.\n",
            "  warnings.warn('`Model.fit_generator` is deprecated and '\n"
          ],
          "name": "stderr"
        },
        {
          "output_type": "stream",
          "text": [
            "Epoch 1/30\n",
            "100/100 [==============================] - 16s 152ms/step - loss: 0.6940 - acc: 0.4887 - val_loss: 0.6936 - val_acc: 0.4700\n",
            "Epoch 2/30\n",
            "100/100 [==============================] - 15s 151ms/step - loss: 0.6926 - acc: 0.5065 - val_loss: 0.6883 - val_acc: 0.5550\n",
            "Epoch 3/30\n",
            "100/100 [==============================] - 15s 150ms/step - loss: 0.6911 - acc: 0.5526 - val_loss: 0.6875 - val_acc: 0.5300\n",
            "Epoch 4/30\n",
            "100/100 [==============================] - 15s 150ms/step - loss: 0.6918 - acc: 0.5142 - val_loss: 0.6886 - val_acc: 0.5150\n",
            "Epoch 5/30\n",
            "100/100 [==============================] - 15s 150ms/step - loss: 0.6849 - acc: 0.5527 - val_loss: 0.6588 - val_acc: 0.6150\n",
            "Epoch 6/30\n",
            "100/100 [==============================] - 15s 151ms/step - loss: 0.6776 - acc: 0.5703 - val_loss: 0.6723 - val_acc: 0.5850\n",
            "Epoch 7/30\n",
            "100/100 [==============================] - 15s 151ms/step - loss: 0.6733 - acc: 0.5799 - val_loss: 0.6444 - val_acc: 0.6350\n",
            "Epoch 8/30\n",
            "100/100 [==============================] - 15s 152ms/step - loss: 0.6591 - acc: 0.6290 - val_loss: 0.6353 - val_acc: 0.6050\n",
            "Epoch 9/30\n",
            "100/100 [==============================] - 15s 150ms/step - loss: 0.6461 - acc: 0.6409 - val_loss: 0.6665 - val_acc: 0.6100\n",
            "Epoch 10/30\n",
            "100/100 [==============================] - 15s 151ms/step - loss: 0.6430 - acc: 0.6291 - val_loss: 0.6239 - val_acc: 0.6600\n",
            "Epoch 11/30\n",
            "100/100 [==============================] - 15s 151ms/step - loss: 0.6274 - acc: 0.6447 - val_loss: 0.6477 - val_acc: 0.6000\n",
            "Epoch 12/30\n",
            "100/100 [==============================] - 15s 151ms/step - loss: 0.6282 - acc: 0.6435 - val_loss: 0.6391 - val_acc: 0.6250\n",
            "Epoch 13/30\n",
            "100/100 [==============================] - 15s 151ms/step - loss: 0.6078 - acc: 0.6818 - val_loss: 0.5684 - val_acc: 0.6800\n",
            "Epoch 14/30\n",
            "100/100 [==============================] - 15s 151ms/step - loss: 0.6035 - acc: 0.6664 - val_loss: 0.6708 - val_acc: 0.6050\n",
            "Epoch 15/30\n",
            "100/100 [==============================] - 15s 151ms/step - loss: 0.5897 - acc: 0.6846 - val_loss: 0.5703 - val_acc: 0.7100\n",
            "Epoch 16/30\n",
            "100/100 [==============================] - 15s 150ms/step - loss: 0.5919 - acc: 0.6773 - val_loss: 0.6060 - val_acc: 0.6650\n",
            "Epoch 17/30\n",
            "100/100 [==============================] - 15s 150ms/step - loss: 0.5809 - acc: 0.7047 - val_loss: 0.5864 - val_acc: 0.6800\n",
            "Epoch 18/30\n",
            "100/100 [==============================] - 15s 151ms/step - loss: 0.5371 - acc: 0.7158 - val_loss: 0.5303 - val_acc: 0.7200\n",
            "Epoch 19/30\n",
            "100/100 [==============================] - 15s 152ms/step - loss: 0.5323 - acc: 0.7386 - val_loss: 0.6208 - val_acc: 0.6450\n",
            "Epoch 20/30\n",
            "100/100 [==============================] - 15s 150ms/step - loss: 0.5724 - acc: 0.7099 - val_loss: 0.5473 - val_acc: 0.7150\n",
            "Epoch 21/30\n",
            "100/100 [==============================] - 15s 150ms/step - loss: 0.5452 - acc: 0.7322 - val_loss: 0.5472 - val_acc: 0.7150\n",
            "Epoch 22/30\n",
            "100/100 [==============================] - 15s 151ms/step - loss: 0.5498 - acc: 0.7287 - val_loss: 0.5554 - val_acc: 0.7050\n",
            "Epoch 23/30\n",
            "100/100 [==============================] - 15s 151ms/step - loss: 0.5499 - acc: 0.7044 - val_loss: 0.5566 - val_acc: 0.7250\n",
            "Epoch 24/30\n",
            "100/100 [==============================] - 15s 150ms/step - loss: 0.5423 - acc: 0.7382 - val_loss: 0.4939 - val_acc: 0.7550\n",
            "Epoch 25/30\n",
            "100/100 [==============================] - 15s 151ms/step - loss: 0.5188 - acc: 0.7465 - val_loss: 0.5016 - val_acc: 0.7550\n",
            "Epoch 26/30\n",
            "100/100 [==============================] - 15s 150ms/step - loss: 0.4837 - acc: 0.7640 - val_loss: 0.6563 - val_acc: 0.6350\n",
            "Epoch 27/30\n",
            "100/100 [==============================] - 15s 151ms/step - loss: 0.5145 - acc: 0.7567 - val_loss: 0.5258 - val_acc: 0.7250\n",
            "Epoch 28/30\n",
            "100/100 [==============================] - 15s 153ms/step - loss: 0.4944 - acc: 0.7585 - val_loss: 0.5116 - val_acc: 0.7300\n",
            "Epoch 29/30\n",
            "100/100 [==============================] - 15s 154ms/step - loss: 0.5084 - acc: 0.7443 - val_loss: 0.4879 - val_acc: 0.7300\n",
            "Epoch 30/30\n",
            "100/100 [==============================] - 15s 152ms/step - loss: 0.4667 - acc: 0.7872 - val_loss: 0.4641 - val_acc: 0.7650\n"
          ],
          "name": "stdout"
        }
      ]
    },
    {
      "cell_type": "markdown",
      "metadata": {
        "id": "E6lX4bdZoDdt"
      },
      "source": [
        "### Saving the trained model with val_acc = 0.7650"
      ]
    },
    {
      "cell_type": "code",
      "metadata": {
        "id": "IKM9tXPfnKXw"
      },
      "source": [
        "model.save('cats_and_dogs_small_exercise2.h5')"
      ],
      "execution_count": null,
      "outputs": []
    },
    {
      "cell_type": "markdown",
      "metadata": {
        "id": "ZeO3lcVWoUDA"
      },
      "source": [
        "### Loading and retraining the model"
      ]
    },
    {
      "cell_type": "code",
      "metadata": {
        "colab": {
          "base_uri": "https://localhost:8080/"
        },
        "id": "YPlodF3pgjvx",
        "outputId": "d3f1115c-70a6-4f58-b689-1276ecde1df6"
      },
      "source": [
        "from keras.models import load_model\n",
        "model = load_model('cats_and_dogs_small_exercise2.h5')\n",
        "\n",
        "\n",
        "model.compile(loss='binary_crossentropy',\n",
        "              optimizer=optimizers.Adam(lr=1e-6),\n",
        "              metrics=['acc'])\n",
        "\n",
        "history = model.fit_generator(train_generator,\n",
        "                              steps_per_epoch=100 ,\n",
        "                              epochs=10,\n",
        "                              validation_data=validation_generator,\n",
        "                              validation_steps=10)"
      ],
      "execution_count": null,
      "outputs": [
        {
          "output_type": "stream",
          "text": [
            "/usr/local/lib/python3.7/dist-packages/tensorflow/python/keras/engine/training.py:1844: UserWarning: `Model.fit_generator` is deprecated and will be removed in a future version. Please use `Model.fit`, which supports generators.\n",
            "  warnings.warn('`Model.fit_generator` is deprecated and '\n"
          ],
          "name": "stderr"
        },
        {
          "output_type": "stream",
          "text": [
            "Epoch 1/10\n",
            "100/100 [==============================] - 16s 153ms/step - loss: 0.4678 - acc: 0.7812 - val_loss: 0.4272 - val_acc: 0.8050\n",
            "Epoch 2/10\n",
            "100/100 [==============================] - 15s 151ms/step - loss: 0.4580 - acc: 0.7873 - val_loss: 0.4773 - val_acc: 0.7700\n",
            "Epoch 3/10\n",
            "100/100 [==============================] - 15s 150ms/step - loss: 0.4555 - acc: 0.7871 - val_loss: 0.4153 - val_acc: 0.8150\n",
            "Epoch 4/10\n",
            "100/100 [==============================] - 15s 150ms/step - loss: 0.4374 - acc: 0.8078 - val_loss: 0.4258 - val_acc: 0.8050\n",
            "Epoch 5/10\n",
            "100/100 [==============================] - 15s 150ms/step - loss: 0.4399 - acc: 0.7924 - val_loss: 0.4121 - val_acc: 0.8100\n",
            "Epoch 6/10\n",
            "100/100 [==============================] - 15s 150ms/step - loss: 0.4440 - acc: 0.7893 - val_loss: 0.4573 - val_acc: 0.7600\n",
            "Epoch 7/10\n",
            "100/100 [==============================] - 15s 151ms/step - loss: 0.4285 - acc: 0.8001 - val_loss: 0.4379 - val_acc: 0.7850\n",
            "Epoch 8/10\n",
            "100/100 [==============================] - 15s 150ms/step - loss: 0.4226 - acc: 0.8106 - val_loss: 0.4272 - val_acc: 0.7950\n",
            "Epoch 9/10\n",
            "100/100 [==============================] - 15s 150ms/step - loss: 0.4559 - acc: 0.7946 - val_loss: 0.4559 - val_acc: 0.7750\n",
            "Epoch 10/10\n",
            "100/100 [==============================] - 15s 150ms/step - loss: 0.4472 - acc: 0.7775 - val_loss: 0.4218 - val_acc: 0.7600\n"
          ],
          "name": "stdout"
        }
      ]
    },
    {
      "cell_type": "markdown",
      "metadata": {
        "id": "RMG3mKJcolYs"
      },
      "source": [
        "### Model with val_acc = 0.7820"
      ]
    },
    {
      "cell_type": "code",
      "metadata": {
        "colab": {
          "base_uri": "https://localhost:8080/"
        },
        "id": "3SNfIBwLlMhn",
        "outputId": "1d62bf6c-c385-481a-b801-d95319b4cd5b"
      },
      "source": [
        "score = model.evaluate(validation_generator, verbose=0)\n",
        "print(\"%s: %.2f%%\" % (model.metrics_names[1], score[1]*100))"
      ],
      "execution_count": null,
      "outputs": [
        {
          "output_type": "stream",
          "text": [
            "acc: 78.20%\n"
          ],
          "name": "stdout"
        }
      ]
    }
  ]
}