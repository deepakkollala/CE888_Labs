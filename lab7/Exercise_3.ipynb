{
  "nbformat": 4,
  "nbformat_minor": 0,
  "metadata": {
    "kernelspec": {
      "display_name": "Python 3",
      "language": "python",
      "name": "python3"
    },
    "language_info": {
      "codemirror_mode": {
        "name": "ipython",
        "version": 3
      },
      "file_extension": ".py",
      "mimetype": "text/x-python",
      "name": "python",
      "nbconvert_exporter": "python",
      "pygments_lexer": "ipython3",
      "version": "3.6.5"
    },
    "colab": {
      "name": "Exercise_3.ipynb",
      "provenance": [],
      "include_colab_link": true
    }
  },
  "cells": [
    {
      "cell_type": "markdown",
      "metadata": {
        "id": "view-in-github",
        "colab_type": "text"
      },
      "source": [
        "<a href=\"https://colab.research.google.com/github/deepakkollala/CE888_Labs/blob/main/lab7/Exercise_3.ipynb\" target=\"_parent\"><img src=\"https://colab.research.google.com/assets/colab-badge.svg\" alt=\"Open In Colab\"/></a>"
      ]
    },
    {
      "cell_type": "code",
      "metadata": {
        "id": "2OEAdhW0qjg9",
        "colab": {
          "base_uri": "https://localhost:8080/",
          "height": 35
        },
        "outputId": "5189c1e0-7a54-409e-e43e-c4658bb17bd5"
      },
      "source": [
        "import keras\n",
        "keras.__version__"
      ],
      "execution_count": null,
      "outputs": [
        {
          "output_type": "execute_result",
          "data": {
            "application/vnd.google.colaboratory.intrinsic+json": {
              "type": "string"
            },
            "text/plain": [
              "'2.4.3'"
            ]
          },
          "metadata": {
            "tags": []
          },
          "execution_count": 27
        }
      ]
    },
    {
      "cell_type": "code",
      "metadata": {
        "id": "TYsNtFxgqjhC",
        "colab": {
          "base_uri": "https://localhost:8080/"
        },
        "outputId": "9c13cfce-ada6-4ea5-b668-f111a6794477"
      },
      "source": [
        "from keras.preprocessing.text import Tokenizer\n",
        "samples = ['The cat sat on the mat.', 'The dog ate my homework.']\n",
        "\n",
        "# We create a tokenizer, configured to only take into account the top-1000 most common words\n",
        "tokenizer = Tokenizer(num_words=1000)\n",
        "\n",
        "# This builds the word index\n",
        "tokenizer.fit_on_texts(samples)\n",
        "\n",
        "# This turns strings into lists of integer indices.\n",
        "sequences = tokenizer.texts_to_sequences(samples)\n",
        "\n",
        "# You could also directly get the one-hot binary representations.\n",
        "# Note that other vectorization modes than one-hot encoding are supported!\n",
        "one_hot_results = tokenizer.texts_to_matrix(samples, mode='binary')\n",
        "\n",
        "# This is how you can recover the word index that was computed\n",
        "word_index = tokenizer.word_index\n",
        "print('Found %s unique tokens.' % len(word_index))"
      ],
      "execution_count": null,
      "outputs": [
        {
          "output_type": "stream",
          "text": [
            "Found 9 unique tokens.\n"
          ],
          "name": "stdout"
        }
      ]
    },
    {
      "cell_type": "code",
      "metadata": {
        "id": "_1bFuvqKqjhF",
        "colab": {
          "base_uri": "https://localhost:8080/"
        },
        "outputId": "452dfc8b-2923-4b32-f506-fe52ab1b006b"
      },
      "source": [
        "one_hot_results"
      ],
      "execution_count": null,
      "outputs": [
        {
          "output_type": "execute_result",
          "data": {
            "text/plain": [
              "array([[0., 1., 1., ..., 0., 0., 0.],\n",
              "       [0., 1., 0., ..., 0., 0., 0.]])"
            ]
          },
          "metadata": {
            "tags": []
          },
          "execution_count": 29
        }
      ]
    },
    {
      "cell_type": "markdown",
      "metadata": {
        "id": "95o1mdJkqjhI"
      },
      "source": [
        "Using word-embeddings "
      ]
    },
    {
      "cell_type": "code",
      "metadata": {
        "id": "DSAIqfdoqjhJ",
        "colab": {
          "base_uri": "https://localhost:8080/"
        },
        "outputId": "5e8391ed-bef5-4329-f026-92b4d7ed7915"
      },
      "source": [
        "from keras.datasets import imdb\n",
        "from keras.preprocessing import sequence\n",
        "\n",
        "max_features = 10000\n",
        "maxlen = 500\n",
        "batch_size = 32\n",
        "print('Loading data...')\n",
        "(input_train, y_train), (input_test, y_test) = imdb.load_data(num_words=max_features)\n",
        "print(len(input_train), 'train sequences')\n",
        "print(len(input_test), 'test sequences')\n",
        "print('Pad sequences (samples x time)')\n",
        "input_train = sequence.pad_sequences(input_train, maxlen=maxlen)\n",
        "input_test = sequence.pad_sequences(input_test, maxlen=maxlen)\n",
        "print('input_train shape:', input_train.shape)\n",
        "print('input_test shape:', input_test.shape)"
      ],
      "execution_count": null,
      "outputs": [
        {
          "output_type": "stream",
          "text": [
            "Loading data...\n"
          ],
          "name": "stdout"
        },
        {
          "output_type": "stream",
          "text": [
            "<string>:6: VisibleDeprecationWarning: Creating an ndarray from ragged nested sequences (which is a list-or-tuple of lists-or-tuples-or ndarrays with different lengths or shapes) is deprecated. If you meant to do this, you must specify 'dtype=object' when creating the ndarray\n",
            "/usr/local/lib/python3.7/dist-packages/tensorflow/python/keras/datasets/imdb.py:159: VisibleDeprecationWarning: Creating an ndarray from ragged nested sequences (which is a list-or-tuple of lists-or-tuples-or ndarrays with different lengths or shapes) is deprecated. If you meant to do this, you must specify 'dtype=object' when creating the ndarray\n",
            "  x_train, y_train = np.array(xs[:idx]), np.array(labels[:idx])\n",
            "/usr/local/lib/python3.7/dist-packages/tensorflow/python/keras/datasets/imdb.py:160: VisibleDeprecationWarning: Creating an ndarray from ragged nested sequences (which is a list-or-tuple of lists-or-tuples-or ndarrays with different lengths or shapes) is deprecated. If you meant to do this, you must specify 'dtype=object' when creating the ndarray\n",
            "  x_test, y_test = np.array(xs[idx:]), np.array(labels[idx:])\n"
          ],
          "name": "stderr"
        },
        {
          "output_type": "stream",
          "text": [
            "25000 train sequences\n",
            "25000 test sequences\n",
            "Pad sequences (samples x time)\n",
            "input_train shape: (25000, 500)\n",
            "input_test shape: (25000, 500)\n"
          ],
          "name": "stdout"
        }
      ]
    },
    {
      "cell_type": "markdown",
      "metadata": {
        "id": "5ssh97qDqjhM"
      },
      "source": [
        "### Training the model with Embedding and SimpleRNN layers"
      ]
    },
    {
      "cell_type": "code",
      "metadata": {
        "id": "t_lIlBilqjhN",
        "colab": {
          "base_uri": "https://localhost:8080/"
        },
        "outputId": "cd8bfe93-03c1-4631-9b1f-3e13fdd2bc17"
      },
      "source": [
        "from keras.layers import Dense\n",
        "from keras.layers import Embedding, SimpleRNN\n",
        "from keras.models import Sequential\n",
        "\n",
        "model = Sequential()\n",
        "model.add(Embedding(max_features, 32))\n",
        "model.add(SimpleRNN(32))\n",
        "model.add(Dense(1, activation='sigmoid'))\n",
        "model.summary()\n",
        "model.compile(optimizer='rmsprop', loss='binary_crossentropy', metrics=['acc'])\n",
        "history = model.fit(input_train, y_train, \n",
        "                    epochs=10,\n",
        "                    batch_size=128,\n",
        "                    validation_split=0.2)\n"
      ],
      "execution_count": null,
      "outputs": [
        {
          "output_type": "stream",
          "text": [
            "Model: \"sequential_3\"\n",
            "_________________________________________________________________\n",
            "Layer (type)                 Output Shape              Param #   \n",
            "=================================================================\n",
            "embedding_2 (Embedding)      (None, None, 32)          320000    \n",
            "_________________________________________________________________\n",
            "simple_rnn_1 (SimpleRNN)     (None, 32)                2080      \n",
            "_________________________________________________________________\n",
            "dense_3 (Dense)              (None, 1)                 33        \n",
            "=================================================================\n",
            "Total params: 322,113\n",
            "Trainable params: 322,113\n",
            "Non-trainable params: 0\n",
            "_________________________________________________________________\n",
            "Epoch 1/10\n",
            "157/157 [==============================] - 23s 138ms/step - loss: 0.6627 - acc: 0.5831 - val_loss: 0.6985 - val_acc: 0.6140\n",
            "Epoch 2/10\n",
            "157/157 [==============================] - 21s 134ms/step - loss: 0.4105 - acc: 0.8266 - val_loss: 0.4333 - val_acc: 0.8030\n",
            "Epoch 3/10\n",
            "157/157 [==============================] - 21s 134ms/step - loss: 0.2873 - acc: 0.8878 - val_loss: 0.4004 - val_acc: 0.8314\n",
            "Epoch 4/10\n",
            "157/157 [==============================] - 21s 134ms/step - loss: 0.2064 - acc: 0.9209 - val_loss: 0.3922 - val_acc: 0.8336\n",
            "Epoch 5/10\n",
            "157/157 [==============================] - 21s 135ms/step - loss: 0.1338 - acc: 0.9539 - val_loss: 0.4109 - val_acc: 0.8488\n",
            "Epoch 6/10\n",
            "157/157 [==============================] - 21s 135ms/step - loss: 0.0871 - acc: 0.9709 - val_loss: 0.4677 - val_acc: 0.8390\n",
            "Epoch 7/10\n",
            "157/157 [==============================] - 21s 136ms/step - loss: 0.0534 - acc: 0.9848 - val_loss: 0.5177 - val_acc: 0.8232\n",
            "Epoch 8/10\n",
            "157/157 [==============================] - 21s 136ms/step - loss: 0.0311 - acc: 0.9917 - val_loss: 0.6145 - val_acc: 0.7904\n",
            "Epoch 9/10\n",
            "157/157 [==============================] - 21s 137ms/step - loss: 0.0200 - acc: 0.9946 - val_loss: 0.6764 - val_acc: 0.7926\n",
            "Epoch 10/10\n",
            "157/157 [==============================] - 21s 135ms/step - loss: 0.0144 - acc: 0.9963 - val_loss: 0.8216 - val_acc: 0.7548\n"
          ],
          "name": "stdout"
        }
      ]
    },
    {
      "cell_type": "code",
      "metadata": {
        "id": "w03gEZ2RqjhQ",
        "colab": {
          "base_uri": "https://localhost:8080/",
          "height": 544
        },
        "outputId": "2e33583b-cd2b-4c96-bf89-4f37b12f9282"
      },
      "source": [
        "import matplotlib.pyplot as plt\n",
        "\n",
        "acc = history.history['acc']\n",
        "val_acc = history.history['val_acc']\n",
        "loss = history.history['loss']\n",
        "val_loss = history.history['val_loss']\n",
        "\n",
        "epochs = range(1, len(acc) + 1)\n",
        "\n",
        "plt.plot(epochs, acc, 'bo', label='Training acc')\n",
        "plt.plot(epochs, val_acc, 'b', label='Validation acc')\n",
        "plt.title('Training and validation accuracy')\n",
        "plt.legend()\n",
        "\n",
        "plt.figure()\n",
        "\n",
        "plt.plot(epochs, loss, 'bo', label='Training loss')\n",
        "plt.plot(epochs, val_loss, 'b', label='Validation loss')\n",
        "plt.title('Training and validation loss')\n",
        "plt.legend()\n",
        "\n",
        "plt.show()"
      ],
      "execution_count": null,
      "outputs": [
        {
          "output_type": "display_data",
          "data": {
            "image/png": "[encoded data removed]",
            "text/plain": [
              "<Figure size 432x288 with 1 Axes>"
            ]
          },
          "metadata": {
            "tags": [],
            "needs_background": "light"
          }
        },
        {
          "output_type": "display_data",
          "data": {
            "image/png": "[encoded data removed]",
            "text/plain": [
              "<Figure size 432x288 with 1 Axes>"
            ]
          },
          "metadata": {
            "tags": [],
            "needs_background": "light"
          }
        }
      ]
    },
    {
      "cell_type": "markdown",
      "metadata": {
        "id": "mz8CfgKcqjhT"
      },
      "source": [
        "### Training the model with Embedding and SimpleRNN layers"
      ]
    },
    {
      "cell_type": "code",
      "metadata": {
        "id": "U_wjH-KGqjhU",
        "colab": {
          "base_uri": "https://localhost:8080/"
        },
        "outputId": "95f827e3-2f0d-4846-d990-6fe4e6c04b9d"
      },
      "source": [
        "from keras.layers import LSTM\n",
        "\n",
        "model = Sequential()\n",
        "model.add(Embedding(max_features, 32))\n",
        "model.add(LSTM(32))\n",
        "model.add(Dense(1, activation='sigmoid'))\n",
        "model.compile(optimizer='rmsprop',\n",
        "loss='binary_crossentropy',\n",
        "metrics=['acc'])\n",
        "history = model.fit(input_train, y_train,\n",
        "                    epochs=10,\n",
        "                    batch_size=128,\n",
        "                    validation_split=0.2)"
      ],
      "execution_count": null,
      "outputs": [
        {
          "output_type": "stream",
          "text": [
            "Epoch 1/10\n",
            "157/157 [==============================] - 50s 305ms/step - loss: 0.6111 - acc: 0.6587 - val_loss: 0.3579 - val_acc: 0.8574\n",
            "Epoch 2/10\n",
            "157/157 [==============================] - 56s 354ms/step - loss: 0.3350 - acc: 0.8681 - val_loss: 0.3935 - val_acc: 0.8284\n",
            "Epoch 3/10\n",
            "157/157 [==============================] - 56s 355ms/step - loss: 0.2422 - acc: 0.9104 - val_loss: 0.2877 - val_acc: 0.8790\n",
            "Epoch 4/10\n",
            "157/157 [==============================] - 56s 358ms/step - loss: 0.2007 - acc: 0.9272 - val_loss: 0.2863 - val_acc: 0.8764\n",
            "Epoch 5/10\n",
            "157/157 [==============================] - 56s 356ms/step - loss: 0.1755 - acc: 0.9387 - val_loss: 0.4582 - val_acc: 0.8582\n",
            "Epoch 6/10\n",
            "157/157 [==============================] - 56s 355ms/step - loss: 0.1609 - acc: 0.9440 - val_loss: 0.3161 - val_acc: 0.8848\n",
            "Epoch 7/10\n",
            "157/157 [==============================] - 56s 356ms/step - loss: 0.1322 - acc: 0.9555 - val_loss: 0.3689 - val_acc: 0.8590\n",
            "Epoch 8/10\n",
            "157/157 [==============================] - 56s 358ms/step - loss: 0.1232 - acc: 0.9591 - val_loss: 0.3368 - val_acc: 0.8798\n",
            "Epoch 9/10\n",
            "157/157 [==============================] - 56s 359ms/step - loss: 0.1231 - acc: 0.9594 - val_loss: 0.3493 - val_acc: 0.8754\n",
            "Epoch 10/10\n",
            "157/157 [==============================] - 56s 356ms/step - loss: 0.1042 - acc: 0.9650 - val_loss: 0.4978 - val_acc: 0.8626\n"
          ],
          "name": "stdout"
        }
      ]
    },
    {
      "cell_type": "code",
      "metadata": {
        "id": "HU4eGq-DqjhX",
        "colab": {
          "base_uri": "https://localhost:8080/",
          "height": 544
        },
        "outputId": "851cd738-9ddc-493f-fb50-7722163744d4"
      },
      "source": [
        "import matplotlib.pyplot as plt\n",
        "\n",
        "acc = history.history['acc']\n",
        "val_acc = history.history['val_acc']\n",
        "loss = history.history['loss']\n",
        "val_loss = history.history['val_loss']\n",
        "\n",
        "epochs = range(1, len(acc) + 1)\n",
        "\n",
        "plt.plot(epochs, acc, 'bo', label='Training acc')\n",
        "plt.plot(epochs, val_acc, 'b', label='Validation acc')\n",
        "plt.title('Training and validation accuracy')\n",
        "plt.legend()\n",
        "\n",
        "plt.figure()\n",
        "\n",
        "plt.plot(epochs, loss, 'bo', label='Training loss')\n",
        "plt.plot(epochs, val_loss, 'b', label='Validation loss')\n",
        "plt.title('Training and validation loss')\n",
        "plt.legend()\n",
        "\n",
        "plt.show()"
      ],
      "execution_count": null,
      "outputs": [
        {
          "output_type": "display_data",
          "data": {
            "image/png": "[encoded data removed]",
            "text/plain": [
              "<Figure size 432x288 with 1 Axes>"
            ]
          },
          "metadata": {
            "tags": [],
            "needs_background": "light"
          }
        },
        {
          "output_type": "display_data",
          "data": {
            "image/png": "[encoded data removed]",
            "text/plain": [
              "<Figure size 432x288 with 1 Axes>"
            ]
          },
          "metadata": {
            "tags": [],
            "needs_background": "light"
          }
        }
      ]
    },
    {
      "cell_type": "markdown",
      "metadata": {
        "id": "r69U5tFUZ82R"
      },
      "source": [
        "### Task 3: \n",
        "\n",
        "Please consider this Time Series Prediction with LSTM Recurrent Neural Networks. We can see that the LSTM model in the code below has an average error of about 23 passengers (in thousands) on the training dataset, and about 53 passengers (in thousands) on the test dataset. Not that bad. Can you please improve the performance?\n",
        "\n",
        "#### Dataset Discription\n",
        "The problem we are going to look at in this post is the International Airline Passengers prediction problem.\n",
        "This is a problem where, given a year and a month, the task is to predict the number of international airline passengers in units of 1,000. The data ranges from January 1949 to December 1960, or 12 years, with 144 observations.\n",
        "\n"
      ]
    },
    {
      "cell_type": "code",
      "metadata": {
        "id": "hEqHuvzLvU5O"
      },
      "source": [
        "import numpy\n",
        "import math\n",
        "import matplotlib.pyplot as plt\n",
        "from pandas import read_csv\n",
        "from keras.models import Sequential\n",
        "from keras.layers import Dense\n",
        "from keras.layers import LSTM\n",
        "from sklearn.preprocessing import MinMaxScaler\n",
        "from sklearn.metrics import mean_squared_error"
      ],
      "execution_count": null,
      "outputs": []
    },
    {
      "cell_type": "code",
      "metadata": {
        "id": "zu3d3V0rvYR3"
      },
      "source": [
        "# convert an array of values into a dataset matrix\n",
        "def create_dataset(dataset, look_back=1):\n",
        "\tdataX, dataY = [], []\n",
        "\tfor i in range(len(dataset)-look_back-1):\n",
        "\t\ta = dataset[i:(i+look_back), 0]\n",
        "\t\tdataX.append(a)\n",
        "\t\tdataY.append(dataset[i + look_back, 0])\n",
        "\treturn numpy.array(dataX), numpy.array(dataY)"
      ],
      "execution_count": null,
      "outputs": []
    },
    {
      "cell_type": "code",
      "metadata": {
        "id": "4324VKIbze5b"
      },
      "source": [
        "# fix random seed for reproducibility\n",
        "numpy.random.seed(7)\n",
        "# load the dataset\n",
        "dataframe = read_csv('https://raw.githubusercontent.com/jbrownlee/Datasets/master/airline-passengers.csv', usecols=[1], engine='python')\n",
        "\n",
        "\n",
        "dataset = dataframe.values\n",
        "dataset = dataset.astype('float32')\n",
        "# normalize the dataset\n",
        "scaler = MinMaxScaler(feature_range=(0, 1))\n",
        "dataset = scaler.fit_transform(dataset)\n",
        "# split into train and test sets\n",
        "train_size = int(len(dataset) * 0.67)\n",
        "test_size = len(dataset) - train_size\n",
        "train, test = dataset[0:train_size,:], dataset[train_size:len(dataset),:]\n",
        "\n",
        "\n",
        "# reshape into X=t and Y=t+1\n",
        "look_back = 1\n",
        "trainX, trainY = create_dataset(train, look_back)\n",
        "testX, testY = create_dataset(test, look_back)\n",
        "# reshape input to be [samples, time steps, features]\n",
        "trainX = numpy.reshape(trainX, (trainX.shape[0], 1, trainX.shape[1]))\n",
        "testX = numpy.reshape(testX, (testX.shape[0], 1, testX.shape[1]))\n",
        "# create and fit the LSTM network\n",
        "\n",
        "\n",
        "model = Sequential()\n",
        "model.add(LSTM(4, input_shape=(1, look_back),return_sequences=False,dropout=0.2))\n",
        "#model.add(LSTM(4,return_sequences=False,dropout=0.2))\n",
        "model.add(Dense(1))\n",
        "model.compile(loss='mean_squared_error', optimizer='adam')\n"
      ],
      "execution_count": null,
      "outputs": []
    },
    {
      "cell_type": "code",
      "metadata": {
        "colab": {
          "base_uri": "https://localhost:8080/"
        },
        "id": "VBRkAgQ4zgUn",
        "outputId": "89cf6af4-694e-4829-f94f-09b95d5beab7"
      },
      "source": [
        "model.fit(trainX, trainY, epochs=200, batch_size=1, verbose=1)"
      ],
      "execution_count": null,
      "outputs": [
        {
          "output_type": "stream",
          "text": [
            "Epoch 1/200\n",
            "94/94 [==============================] - 2s 1ms/step - loss: 0.0463\n",
            "Epoch 2/200\n",
            "94/94 [==============================] - 0s 1ms/step - loss: 0.0254\n",
            "Epoch 3/200\n",
            "94/94 [==============================] - 0s 1ms/step - loss: 0.0124\n",
            "Epoch 4/200\n",
            "94/94 [==============================] - 0s 1ms/step - loss: 0.0143\n",
            "Epoch 5/200\n",
            "94/94 [==============================] - 0s 1ms/step - loss: 0.0140\n",
            "Epoch 6/200\n",
            "94/94 [==============================] - 0s 1ms/step - loss: 0.0135\n",
            "Epoch 7/200\n",
            "94/94 [==============================] - 0s 2ms/step - loss: 0.0139\n",
            "Epoch 8/200\n",
            "94/94 [==============================] - 0s 1ms/step - loss: 0.0106\n",
            "Epoch 9/200\n",
            "94/94 [==============================] - 0s 1ms/step - loss: 0.0095\n",
            "Epoch 10/200\n",
            "94/94 [==============================] - 0s 1ms/step - loss: 0.0103\n",
            "Epoch 11/200\n",
            "94/94 [==============================] - 0s 1ms/step - loss: 0.0089\n",
            "Epoch 12/200\n",
            "94/94 [==============================] - 0s 1ms/step - loss: 0.0074\n",
            "Epoch 13/200\n",
            "94/94 [==============================] - 0s 1ms/step - loss: 0.0070\n",
            "Epoch 14/200\n",
            "94/94 [==============================] - 0s 1ms/step - loss: 0.0101\n",
            "Epoch 15/200\n",
            "94/94 [==============================] - 0s 1ms/step - loss: 0.0100\n",
            "Epoch 16/200\n",
            "94/94 [==============================] - 0s 1ms/step - loss: 0.0067\n",
            "Epoch 17/200\n",
            "94/94 [==============================] - 0s 1ms/step - loss: 0.0088\n",
            "Epoch 18/200\n",
            "94/94 [==============================] - 0s 1ms/step - loss: 0.0078\n",
            "Epoch 19/200\n",
            "94/94 [==============================] - 0s 1ms/step - loss: 0.0117\n",
            "Epoch 20/200\n",
            "94/94 [==============================] - 0s 1ms/step - loss: 0.0089\n",
            "Epoch 21/200\n",
            "94/94 [==============================] - 0s 1ms/step - loss: 0.0121\n",
            "Epoch 22/200\n",
            "94/94 [==============================] - 0s 1ms/step - loss: 0.0042\n",
            "Epoch 23/200\n",
            "94/94 [==============================] - 0s 1ms/step - loss: 0.0161\n",
            "Epoch 24/200\n",
            "94/94 [==============================] - 0s 1ms/step - loss: 0.0073\n",
            "Epoch 25/200\n",
            "94/94 [==============================] - 0s 1ms/step - loss: 0.0077\n",
            "Epoch 26/200\n",
            "94/94 [==============================] - 0s 1ms/step - loss: 0.0068\n",
            "Epoch 27/200\n",
            "94/94 [==============================] - 0s 1ms/step - loss: 0.0136\n",
            "Epoch 28/200\n",
            "94/94 [==============================] - 0s 1ms/step - loss: 0.0131\n",
            "Epoch 29/200\n",
            "94/94 [==============================] - 0s 1ms/step - loss: 0.0158\n",
            "Epoch 30/200\n",
            "94/94 [==============================] - 0s 2ms/step - loss: 0.0067\n",
            "Epoch 31/200\n",
            "94/94 [==============================] - 0s 1ms/step - loss: 0.0124\n",
            "Epoch 32/200\n",
            "94/94 [==============================] - 0s 1ms/step - loss: 0.0117\n",
            "Epoch 33/200\n",
            "94/94 [==============================] - 0s 1ms/step - loss: 0.0070\n",
            "Epoch 34/200\n",
            "94/94 [==============================] - 0s 1ms/step - loss: 0.0107\n",
            "Epoch 35/200\n",
            "94/94 [==============================] - 0s 1ms/step - loss: 0.0161\n",
            "Epoch 36/200\n",
            "94/94 [==============================] - 0s 1ms/step - loss: 0.0135\n",
            "Epoch 37/200\n",
            "94/94 [==============================] - 0s 1ms/step - loss: 0.0079\n",
            "Epoch 38/200\n",
            "94/94 [==============================] - 0s 1ms/step - loss: 0.0093\n",
            "Epoch 39/200\n",
            "94/94 [==============================] - 0s 1ms/step - loss: 0.0058\n",
            "Epoch 40/200\n",
            "94/94 [==============================] - 0s 2ms/step - loss: 0.0102\n",
            "Epoch 41/200\n",
            "94/94 [==============================] - 0s 2ms/step - loss: 0.0041\n",
            "Epoch 42/200\n",
            "94/94 [==============================] - 0s 1ms/step - loss: 0.0164\n",
            "Epoch 43/200\n",
            "94/94 [==============================] - 0s 1ms/step - loss: 0.0079\n",
            "Epoch 44/200\n",
            "94/94 [==============================] - 0s 1ms/step - loss: 0.0058\n",
            "Epoch 45/200\n",
            "94/94 [==============================] - 0s 1ms/step - loss: 0.0099\n",
            "Epoch 46/200\n",
            "94/94 [==============================] - 0s 1ms/step - loss: 0.0102\n",
            "Epoch 47/200\n",
            "94/94 [==============================] - 0s 1ms/step - loss: 0.0096\n",
            "Epoch 48/200\n",
            "94/94 [==============================] - 0s 1ms/step - loss: 0.0074\n",
            "Epoch 49/200\n",
            "94/94 [==============================] - 0s 1ms/step - loss: 0.0102\n",
            "Epoch 50/200\n",
            "94/94 [==============================] - 0s 1ms/step - loss: 0.0051\n",
            "Epoch 51/200\n",
            "94/94 [==============================] - 0s 1ms/step - loss: 0.0086\n",
            "Epoch 52/200\n",
            "94/94 [==============================] - 0s 1ms/step - loss: 0.0081\n",
            "Epoch 53/200\n",
            "94/94 [==============================] - 0s 1ms/step - loss: 0.0063\n",
            "Epoch 54/200\n",
            "94/94 [==============================] - 0s 1ms/step - loss: 0.0088\n",
            "Epoch 55/200\n",
            "94/94 [==============================] - 0s 1ms/step - loss: 0.0105\n",
            "Epoch 56/200\n",
            "94/94 [==============================] - 0s 1ms/step - loss: 0.0058\n",
            "Epoch 57/200\n",
            "94/94 [==============================] - 0s 1ms/step - loss: 0.0080\n",
            "Epoch 58/200\n",
            "94/94 [==============================] - 0s 1ms/step - loss: 0.0104\n",
            "Epoch 59/200\n",
            "94/94 [==============================] - 0s 1ms/step - loss: 0.0097\n",
            "Epoch 60/200\n",
            "94/94 [==============================] - 0s 1ms/step - loss: 0.0067\n",
            "Epoch 61/200\n",
            "94/94 [==============================] - 0s 1ms/step - loss: 0.0116\n",
            "Epoch 62/200\n",
            "94/94 [==============================] - 0s 1ms/step - loss: 0.0080\n",
            "Epoch 63/200\n",
            "94/94 [==============================] - 0s 1ms/step - loss: 0.0051\n",
            "Epoch 64/200\n",
            "94/94 [==============================] - 0s 1ms/step - loss: 0.0074\n",
            "Epoch 65/200\n",
            "94/94 [==============================] - 0s 1ms/step - loss: 0.0124\n",
            "Epoch 66/200\n",
            "94/94 [==============================] - 0s 1ms/step - loss: 0.0067\n",
            "Epoch 67/200\n",
            "94/94 [==============================] - 0s 1ms/step - loss: 0.0076\n",
            "Epoch 68/200\n",
            "94/94 [==============================] - 0s 2ms/step - loss: 0.0078\n",
            "Epoch 69/200\n",
            "94/94 [==============================] - 0s 1ms/step - loss: 0.0085\n",
            "Epoch 70/200\n",
            "94/94 [==============================] - 0s 1ms/step - loss: 0.0110\n",
            "Epoch 71/200\n",
            "94/94 [==============================] - 0s 1ms/step - loss: 0.0074\n",
            "Epoch 72/200\n",
            "94/94 [==============================] - 0s 1ms/step - loss: 0.0107\n",
            "Epoch 73/200\n",
            "94/94 [==============================] - 0s 1ms/step - loss: 0.0054\n",
            "Epoch 74/200\n",
            "94/94 [==============================] - 0s 1ms/step - loss: 0.0070\n",
            "Epoch 75/200\n",
            "94/94 [==============================] - 0s 1ms/step - loss: 0.0098\n",
            "Epoch 76/200\n",
            "94/94 [==============================] - 0s 1ms/step - loss: 0.0094\n",
            "Epoch 77/200\n",
            "94/94 [==============================] - 0s 1ms/step - loss: 0.0160\n",
            "Epoch 78/200\n",
            "94/94 [==============================] - 0s 1ms/step - loss: 0.0178\n",
            "Epoch 79/200\n",
            "94/94 [==============================] - 0s 1ms/step - loss: 0.0055\n",
            "Epoch 80/200\n",
            "94/94 [==============================] - 0s 1ms/step - loss: 0.0081\n",
            "Epoch 81/200\n",
            "94/94 [==============================] - 0s 1ms/step - loss: 0.0085\n",
            "Epoch 82/200\n",
            "94/94 [==============================] - 0s 1ms/step - loss: 0.0074\n",
            "Epoch 83/200\n",
            "94/94 [==============================] - 0s 1ms/step - loss: 0.0067\n",
            "Epoch 84/200\n",
            "94/94 [==============================] - 0s 1ms/step - loss: 0.0038\n",
            "Epoch 85/200\n",
            "94/94 [==============================] - 0s 1ms/step - loss: 0.0141\n",
            "Epoch 86/200\n",
            "94/94 [==============================] - 0s 1ms/step - loss: 0.0061\n",
            "Epoch 87/200\n",
            "94/94 [==============================] - 0s 1ms/step - loss: 0.0041\n",
            "Epoch 88/200\n",
            "94/94 [==============================] - 0s 1ms/step - loss: 0.0095\n",
            "Epoch 89/200\n",
            "94/94 [==============================] - 0s 1ms/step - loss: 0.0095\n",
            "Epoch 90/200\n",
            "94/94 [==============================] - 0s 1ms/step - loss: 0.0103\n",
            "Epoch 91/200\n",
            "94/94 [==============================] - 0s 1ms/step - loss: 0.0076\n",
            "Epoch 92/200\n",
            "94/94 [==============================] - 0s 1ms/step - loss: 0.0079\n",
            "Epoch 93/200\n",
            "94/94 [==============================] - 0s 1ms/step - loss: 0.0094\n",
            "Epoch 94/200\n",
            "94/94 [==============================] - 0s 1ms/step - loss: 0.0072\n",
            "Epoch 95/200\n",
            "94/94 [==============================] - 0s 1ms/step - loss: 0.0088\n",
            "Epoch 96/200\n",
            "94/94 [==============================] - 0s 1ms/step - loss: 0.0052\n",
            "Epoch 97/200\n",
            "94/94 [==============================] - 0s 1ms/step - loss: 0.0137\n",
            "Epoch 98/200\n",
            "94/94 [==============================] - 0s 1ms/step - loss: 0.0090\n",
            "Epoch 99/200\n",
            "94/94 [==============================] - 0s 1ms/step - loss: 0.0101\n",
            "Epoch 100/200\n",
            "94/94 [==============================] - 0s 1ms/step - loss: 0.0206\n",
            "Epoch 101/200\n",
            "94/94 [==============================] - 0s 1ms/step - loss: 0.0068\n",
            "Epoch 102/200\n",
            "94/94 [==============================] - 0s 1ms/step - loss: 0.0073\n",
            "Epoch 103/200\n",
            "94/94 [==============================] - 0s 1ms/step - loss: 0.0096\n",
            "Epoch 104/200\n",
            "94/94 [==============================] - 0s 1ms/step - loss: 0.0112\n",
            "Epoch 105/200\n",
            "94/94 [==============================] - 0s 1ms/step - loss: 0.0060\n",
            "Epoch 106/200\n",
            "94/94 [==============================] - 0s 2ms/step - loss: 0.0072\n",
            "Epoch 107/200\n",
            "94/94 [==============================] - 0s 2ms/step - loss: 0.0088\n",
            "Epoch 108/200\n",
            "94/94 [==============================] - 0s 1ms/step - loss: 0.0076\n",
            "Epoch 109/200\n",
            "94/94 [==============================] - 0s 1ms/step - loss: 0.0136\n",
            "Epoch 110/200\n",
            "94/94 [==============================] - 0s 1ms/step - loss: 0.0060\n",
            "Epoch 111/200\n",
            "94/94 [==============================] - 0s 1ms/step - loss: 0.0108\n",
            "Epoch 112/200\n",
            "94/94 [==============================] - 0s 1ms/step - loss: 0.0064\n",
            "Epoch 113/200\n",
            "94/94 [==============================] - 0s 1ms/step - loss: 0.0068\n",
            "Epoch 114/200\n",
            "94/94 [==============================] - 0s 1ms/step - loss: 0.0081\n",
            "Epoch 115/200\n",
            "94/94 [==============================] - 0s 1ms/step - loss: 0.0049\n",
            "Epoch 116/200\n",
            "94/94 [==============================] - 0s 1ms/step - loss: 0.0075\n",
            "Epoch 117/200\n",
            "94/94 [==============================] - 0s 1ms/step - loss: 0.0089\n",
            "Epoch 118/200\n",
            "94/94 [==============================] - 0s 1ms/step - loss: 0.0095\n",
            "Epoch 119/200\n",
            "94/94 [==============================] - 0s 1ms/step - loss: 0.0061\n",
            "Epoch 120/200\n",
            "94/94 [==============================] - 0s 1ms/step - loss: 0.0069\n",
            "Epoch 121/200\n",
            "94/94 [==============================] - 0s 1ms/step - loss: 0.0127\n",
            "Epoch 122/200\n",
            "94/94 [==============================] - 0s 1ms/step - loss: 0.0072\n",
            "Epoch 123/200\n",
            "94/94 [==============================] - 0s 1ms/step - loss: 0.0083\n",
            "Epoch 124/200\n",
            "94/94 [==============================] - 0s 1ms/step - loss: 0.0117\n",
            "Epoch 125/200\n",
            "94/94 [==============================] - 0s 1ms/step - loss: 0.0051\n",
            "Epoch 126/200\n",
            "94/94 [==============================] - 0s 2ms/step - loss: 0.0074\n",
            "Epoch 127/200\n",
            "94/94 [==============================] - 0s 1ms/step - loss: 0.0080\n",
            "Epoch 128/200\n",
            "94/94 [==============================] - 0s 1ms/step - loss: 0.0067\n",
            "Epoch 129/200\n",
            "94/94 [==============================] - 0s 2ms/step - loss: 0.0125\n",
            "Epoch 130/200\n",
            "94/94 [==============================] - 0s 1ms/step - loss: 0.0146\n",
            "Epoch 131/200\n",
            "94/94 [==============================] - 0s 1ms/step - loss: 0.0060\n",
            "Epoch 132/200\n",
            "94/94 [==============================] - 0s 1ms/step - loss: 0.0139\n",
            "Epoch 133/200\n",
            "94/94 [==============================] - 0s 1ms/step - loss: 0.0088\n",
            "Epoch 134/200\n",
            "94/94 [==============================] - 0s 1ms/step - loss: 0.0060\n",
            "Epoch 135/200\n",
            "94/94 [==============================] - 0s 1ms/step - loss: 0.0055\n",
            "Epoch 136/200\n",
            "94/94 [==============================] - 0s 1ms/step - loss: 0.0056\n",
            "Epoch 137/200\n",
            "94/94 [==============================] - 0s 1ms/step - loss: 0.0052\n",
            "Epoch 138/200\n",
            "94/94 [==============================] - 0s 1ms/step - loss: 0.0074\n",
            "Epoch 139/200\n",
            "94/94 [==============================] - 0s 1ms/step - loss: 0.0072\n",
            "Epoch 140/200\n",
            "94/94 [==============================] - 0s 1ms/step - loss: 0.0071\n",
            "Epoch 141/200\n",
            "94/94 [==============================] - 0s 1ms/step - loss: 0.0060\n",
            "Epoch 142/200\n",
            "94/94 [==============================] - 0s 1ms/step - loss: 0.0069\n",
            "Epoch 143/200\n",
            "94/94 [==============================] - 0s 1ms/step - loss: 0.0065\n",
            "Epoch 144/200\n",
            "94/94 [==============================] - 0s 2ms/step - loss: 0.0128\n",
            "Epoch 145/200\n",
            "94/94 [==============================] - 0s 1ms/step - loss: 0.0082\n",
            "Epoch 146/200\n",
            "94/94 [==============================] - 0s 1ms/step - loss: 0.0082\n",
            "Epoch 147/200\n",
            "94/94 [==============================] - 0s 1ms/step - loss: 0.0068\n",
            "Epoch 148/200\n",
            "94/94 [==============================] - 0s 1ms/step - loss: 0.0051\n",
            "Epoch 149/200\n",
            "94/94 [==============================] - 0s 1ms/step - loss: 0.0053\n",
            "Epoch 150/200\n",
            "94/94 [==============================] - 0s 1ms/step - loss: 0.0054\n",
            "Epoch 151/200\n",
            "94/94 [==============================] - 0s 1ms/step - loss: 0.0092\n",
            "Epoch 152/200\n",
            "94/94 [==============================] - 0s 1ms/step - loss: 0.0154\n",
            "Epoch 153/200\n",
            "94/94 [==============================] - 0s 1ms/step - loss: 0.0097\n",
            "Epoch 154/200\n",
            "94/94 [==============================] - 0s 1ms/step - loss: 0.0090\n",
            "Epoch 155/200\n",
            "94/94 [==============================] - 0s 1ms/step - loss: 0.0075\n",
            "Epoch 156/200\n",
            "94/94 [==============================] - 0s 1ms/step - loss: 0.0072\n",
            "Epoch 157/200\n",
            "94/94 [==============================] - 0s 1ms/step - loss: 0.0059\n",
            "Epoch 158/200\n",
            "94/94 [==============================] - 0s 1ms/step - loss: 0.0045\n",
            "Epoch 159/200\n",
            "94/94 [==============================] - 0s 1ms/step - loss: 0.0062\n",
            "Epoch 160/200\n",
            "94/94 [==============================] - 0s 1ms/step - loss: 0.0051\n",
            "Epoch 161/200\n",
            "94/94 [==============================] - 0s 1ms/step - loss: 0.0072\n",
            "Epoch 162/200\n",
            "94/94 [==============================] - 0s 1ms/step - loss: 0.0076\n",
            "Epoch 163/200\n",
            "94/94 [==============================] - 0s 1ms/step - loss: 0.0108\n",
            "Epoch 164/200\n",
            "94/94 [==============================] - 0s 2ms/step - loss: 0.0061\n",
            "Epoch 165/200\n",
            "94/94 [==============================] - 0s 1ms/step - loss: 0.0089\n",
            "Epoch 166/200\n",
            "94/94 [==============================] - 0s 2ms/step - loss: 0.0061\n",
            "Epoch 167/200\n",
            "94/94 [==============================] - 0s 1ms/step - loss: 0.0081\n",
            "Epoch 168/200\n",
            "94/94 [==============================] - 0s 1ms/step - loss: 0.0088\n",
            "Epoch 169/200\n",
            "94/94 [==============================] - 0s 1ms/step - loss: 0.0057\n",
            "Epoch 170/200\n",
            "94/94 [==============================] - 0s 1ms/step - loss: 0.0099\n",
            "Epoch 171/200\n",
            "94/94 [==============================] - 0s 1ms/step - loss: 0.0056\n",
            "Epoch 172/200\n",
            "94/94 [==============================] - 0s 1ms/step - loss: 0.0072\n",
            "Epoch 173/200\n",
            "94/94 [==============================] - 0s 1ms/step - loss: 0.0073\n",
            "Epoch 174/200\n",
            "94/94 [==============================] - 0s 1ms/step - loss: 0.0087\n",
            "Epoch 175/200\n",
            "94/94 [==============================] - 0s 1ms/step - loss: 0.0051\n",
            "Epoch 176/200\n",
            "94/94 [==============================] - 0s 1ms/step - loss: 0.0075\n",
            "Epoch 177/200\n",
            "94/94 [==============================] - 0s 1ms/step - loss: 0.0092\n",
            "Epoch 178/200\n",
            "94/94 [==============================] - 0s 1ms/step - loss: 0.0075\n",
            "Epoch 179/200\n",
            "94/94 [==============================] - 0s 1ms/step - loss: 0.0076\n",
            "Epoch 180/200\n",
            "94/94 [==============================] - 0s 2ms/step - loss: 0.0083\n",
            "Epoch 181/200\n",
            "94/94 [==============================] - 0s 2ms/step - loss: 0.0081\n",
            "Epoch 182/200\n",
            "94/94 [==============================] - 0s 1ms/step - loss: 0.0062\n",
            "Epoch 183/200\n",
            "94/94 [==============================] - 0s 1ms/step - loss: 0.0105\n",
            "Epoch 184/200\n",
            "94/94 [==============================] - 0s 1ms/step - loss: 0.0062\n",
            "Epoch 185/200\n",
            "94/94 [==============================] - 0s 1ms/step - loss: 0.0110\n",
            "Epoch 186/200\n",
            "94/94 [==============================] - 0s 1ms/step - loss: 0.0062\n",
            "Epoch 187/200\n",
            "94/94 [==============================] - 0s 1ms/step - loss: 0.0051\n",
            "Epoch 188/200\n",
            "94/94 [==============================] - 0s 1ms/step - loss: 0.0071\n",
            "Epoch 189/200\n",
            "94/94 [==============================] - 0s 1ms/step - loss: 0.0073\n",
            "Epoch 190/200\n",
            "94/94 [==============================] - 0s 1ms/step - loss: 0.0067\n",
            "Epoch 191/200\n",
            "94/94 [==============================] - 0s 1ms/step - loss: 0.0058\n",
            "Epoch 192/200\n",
            "94/94 [==============================] - 0s 1ms/step - loss: 0.0078\n",
            "Epoch 193/200\n",
            "94/94 [==============================] - 0s 1ms/step - loss: 0.0061\n",
            "Epoch 194/200\n",
            "94/94 [==============================] - 0s 1ms/step - loss: 0.0129\n",
            "Epoch 195/200\n",
            "94/94 [==============================] - 0s 1ms/step - loss: 0.0044\n",
            "Epoch 196/200\n",
            "94/94 [==============================] - 0s 1ms/step - loss: 0.0074\n",
            "Epoch 197/200\n",
            "94/94 [==============================] - 0s 1ms/step - loss: 0.0129\n",
            "Epoch 198/200\n",
            "94/94 [==============================] - 0s 1ms/step - loss: 0.0175\n",
            "Epoch 199/200\n",
            "94/94 [==============================] - 0s 1ms/step - loss: 0.0100\n",
            "Epoch 200/200\n",
            "94/94 [==============================] - 0s 1ms/step - loss: 0.0069\n"
          ],
          "name": "stdout"
        },
        {
          "output_type": "execute_result",
          "data": {
            "text/plain": [
              "<tensorflow.python.keras.callbacks.History at 0x7fce0a233a90>"
            ]
          },
          "metadata": {
            "tags": []
          },
          "execution_count": 97
        }
      ]
    },
    {
      "cell_type": "code",
      "metadata": {
        "colab": {
          "base_uri": "https://localhost:8080/",
          "height": 300
        },
        "id": "w1vSusoyatCW",
        "outputId": "4ac71095-e761-4b17-9062-30ca6abb221b"
      },
      "source": [
        "\n",
        "# make predictions\n",
        "trainPredict = model.predict(trainX)\n",
        "testPredict = model.predict(testX)\n",
        "# invert predictions\n",
        "trainPredict = scaler.inverse_transform(trainPredict)\n",
        "trainY = scaler.inverse_transform([trainY])\n",
        "testPredict = scaler.inverse_transform(testPredict)\n",
        "testY = scaler.inverse_transform([testY])\n",
        "# calculate root mean squared error\n",
        "trainScore = math.sqrt(mean_squared_error(trainY[0], trainPredict[:,0]))\n",
        "print('Train Score: %.2f RMSE' % (trainScore))\n",
        "testScore = math.sqrt(mean_squared_error(testY[0], testPredict[:,0]))\n",
        "print('Test Score: %.2f RMSE' % (testScore))\n",
        "# shift train predictions for plotting\n",
        "trainPredictPlot = numpy.empty_like(dataset)\n",
        "trainPredictPlot[:, :] = numpy.nan\n",
        "trainPredictPlot[look_back:len(trainPredict)+look_back, :] = trainPredict\n",
        "# shift test predictions for plotting\n",
        "testPredictPlot = numpy.empty_like(dataset)\n",
        "testPredictPlot[:, :] = numpy.nan\n",
        "testPredictPlot[len(trainPredict)+(look_back*2)+1:len(dataset)-1, :] = testPredict\n",
        "# plot baseline and predictions\n",
        "plt.plot(scaler.inverse_transform(dataset))\n",
        "plt.plot(trainPredictPlot)\n",
        "plt.plot(testPredictPlot)\n",
        "plt.show()"
      ],
      "execution_count": null,
      "outputs": [
        {
          "output_type": "stream",
          "text": [
            "Train Score: 42.59 RMSE\n",
            "Test Score: 81.92 RMSE\n"
          ],
          "name": "stdout"
        },
        {
          "output_type": "display_data",
          "data": {
            "image/png": "[encoded data removed]",
            "text/plain": [
              "<Figure size 432x288 with 1 Axes>"
            ]
          },
          "metadata": {
            "tags": [],
            "needs_background": "light"
          }
        }
      ]
    },
    {
      "cell_type": "markdown",
      "metadata": {
        "id": "ZSz24HhlbUPF"
      },
      "source": [
        ""
      ]
    }
  ]
}