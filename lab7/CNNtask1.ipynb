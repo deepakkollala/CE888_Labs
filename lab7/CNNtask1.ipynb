{
  "nbformat": 4,
  "nbformat_minor": 0,
  "metadata": {
    "kernelspec": {
      "display_name": "Python 3",
      "language": "python",
      "name": "python3"
    },
    "language_info": {
      "codemirror_mode": {
        "name": "ipython",
        "version": 3
      },
      "file_extension": ".py",
      "mimetype": "text/x-python",
      "name": "python",
      "nbconvert_exporter": "python",
      "pygments_lexer": "ipython3",
      "version": "3.6.5"
    },
    "colab": {
      "name": "CNNtask1.ipynb",
      "provenance": [],
      "collapsed_sections": [],
      "include_colab_link": true
    },
    "accelerator": "GPU"
  },
  "cells": [
    {
      "cell_type": "markdown",
      "metadata": {
        "id": "view-in-github",
        "colab_type": "text"
      },
      "source": [
        "<a href=\"https://colab.research.google.com/github/deepakkollala/CE888_Labs/blob/main/lab7/CNNtask1.ipynb\" target=\"_parent\"><img src=\"https://colab.research.google.com/assets/colab-badge.svg\" alt=\"Open In Colab\"/></a>"
      ]
    },
    {
      "cell_type": "markdown",
      "metadata": {
        "id": "vwRGEQbzGpYQ"
      },
      "source": [
        "# First CNN model for MNIST Dataset\n",
        "\n",
        "* MNIST Dataset is ''Hello World'' of Image Recognition\n",
        "\n",
        "* [Dataset HomePage](http://yann.lecun.com/exdb/mnist/)\n",
        "\n",
        "* History of MNIST Dataset [Watch here](https://www.youtube.com/watch?v=oKzNUGz21JM)\n",
        "\n",
        "\n",
        "---\n",
        "The MNIST database of handwritten digits, available from this page, has a training set of 60,000 examples, and a \n",
        "test set of 10,000 examples. It is a subset of a larger set available from NIST. The digits have been size-normalized and centered in a fixed-size image.\n",
        "\n",
        "![Kitten](https://camo.githubusercontent.com/01c057a753e92a9bc70b8c45d62b295431851c09cffadf53106fc0aea7e2843f/687474703a2f2f692e7974696d672e636f6d2f76692f3051493378675875422d512f687164656661756c742e6a7067)\n"
      ]
    },
    {
      "cell_type": "markdown",
      "metadata": {
        "id": "PhmJOHCpJD_w"
      },
      "source": [
        "# Let's start building our first CNN Model"
      ]
    },
    {
      "cell_type": "code",
      "metadata": {
        "id": "lSyHCSV7jymI"
      },
      "source": [
        "from keras import layers\n",
        "from keras import models"
      ],
      "execution_count": 6,
      "outputs": []
    },
    {
      "cell_type": "markdown",
      "metadata": {
        "id": "oWNzCYUUjymN"
      },
      "source": [
        "Importantly, a convnet takes as input tensors of shape (image_height, image_width,\n",
        "image_channels) (not including the batch dimension). In this case, we’ll configure\n",
        "the convnet to process inputs of size (28, 28, 1), which is the format of MNIST\n",
        "images. We’ll do this by passing the argument input_shape=(28, 28, 1) to the first\n",
        "layer."
      ]
    },
    {
      "cell_type": "markdown",
      "metadata": {
        "id": "dM4JLEpwjymN"
      },
      "source": [
        "#### Instantiating a small convnet"
      ]
    },
    {
      "cell_type": "code",
      "metadata": {
        "id": "p-OnpExGjymO",
        "colab": {
          "base_uri": "https://localhost:8080/"
        },
        "outputId": "6dd282d6-d0b4-4dac-fb2a-205953091701"
      },
      "source": [
        "model = models.Sequential()\n",
        "model.add(layers.Conv2D(32, (3, 3), activation='relu', input_shape=(28, 28, 1)))\n",
        "model.add(layers.MaxPooling2D((2, 2)))\n",
        "model.add(layers.Conv2D(64, (3, 3), activation='relu'))\n",
        "model.add(layers.MaxPooling2D((2, 2)))\n",
        "model.add(layers.Conv2D(64, (3, 3), activation='relu'))\n",
        "model.summary()"
      ],
      "execution_count": 7,
      "outputs": [
        {
          "output_type": "stream",
          "text": [
            "Model: \"sequential\"\n",
            "_________________________________________________________________\n",
            "Layer (type)                 Output Shape              Param #   \n",
            "=================================================================\n",
            "conv2d (Conv2D)              (None, 26, 26, 32)        320       \n",
            "_________________________________________________________________\n",
            "max_pooling2d (MaxPooling2D) (None, 13, 13, 32)        0         \n",
            "_________________________________________________________________\n",
            "conv2d_1 (Conv2D)            (None, 11, 11, 64)        18496     \n",
            "_________________________________________________________________\n",
            "max_pooling2d_1 (MaxPooling2 (None, 5, 5, 64)          0         \n",
            "_________________________________________________________________\n",
            "conv2d_2 (Conv2D)            (None, 3, 3, 64)          36928     \n",
            "=================================================================\n",
            "Total params: 55,744\n",
            "Trainable params: 55,744\n",
            "Non-trainable params: 0\n",
            "_________________________________________________________________\n"
          ],
          "name": "stdout"
        }
      ]
    },
    {
      "cell_type": "markdown",
      "metadata": {
        "id": "7gcVG3xkjymR"
      },
      "source": [
        "#### Adding a classifier on top of the convnet"
      ]
    },
    {
      "cell_type": "code",
      "metadata": {
        "id": "C2DfhDJYjymR",
        "colab": {
          "base_uri": "https://localhost:8080/"
        },
        "outputId": "6b8d58d1-b88d-4d51-9268-e752790e22d8"
      },
      "source": [
        "model.add(layers.Flatten())\n",
        "model.add(layers.Dense(64, activation='relu'))\n",
        "model.add(layers.Dense(10, activation='softmax'))\n",
        "model.summary()"
      ],
      "execution_count": 8,
      "outputs": [
        {
          "output_type": "stream",
          "text": [
            "Model: \"sequential\"\n",
            "_________________________________________________________________\n",
            "Layer (type)                 Output Shape              Param #   \n",
            "=================================================================\n",
            "conv2d (Conv2D)              (None, 26, 26, 32)        320       \n",
            "_________________________________________________________________\n",
            "max_pooling2d (MaxPooling2D) (None, 13, 13, 32)        0         \n",
            "_________________________________________________________________\n",
            "conv2d_1 (Conv2D)            (None, 11, 11, 64)        18496     \n",
            "_________________________________________________________________\n",
            "max_pooling2d_1 (MaxPooling2 (None, 5, 5, 64)          0         \n",
            "_________________________________________________________________\n",
            "conv2d_2 (Conv2D)            (None, 3, 3, 64)          36928     \n",
            "_________________________________________________________________\n",
            "flatten (Flatten)            (None, 576)               0         \n",
            "_________________________________________________________________\n",
            "dense (Dense)                (None, 64)                36928     \n",
            "_________________________________________________________________\n",
            "dense_1 (Dense)              (None, 10)                650       \n",
            "=================================================================\n",
            "Total params: 93,322\n",
            "Trainable params: 93,322\n",
            "Non-trainable params: 0\n",
            "_________________________________________________________________\n"
          ],
          "name": "stdout"
        }
      ]
    },
    {
      "cell_type": "markdown",
      "metadata": {
        "id": "NOKVF4nKjymU"
      },
      "source": [
        "### Training the convnet on MNIST images"
      ]
    },
    {
      "cell_type": "code",
      "metadata": {
        "id": "oIcgUbbUjymV"
      },
      "source": [
        "from keras.datasets import mnist\n",
        "from keras.utils import to_categorical"
      ],
      "execution_count": 9,
      "outputs": []
    },
    {
      "cell_type": "markdown",
      "metadata": {
        "id": "ZnJ2Pfs_jymX"
      },
      "source": [
        "#### Load Data"
      ]
    },
    {
      "cell_type": "code",
      "metadata": {
        "id": "JpHGHE9MjymY"
      },
      "source": [
        "(train_images, train_labels), (test_images, test_labels) = mnist.load_data()\n",
        "train_images = train_images.reshape((60000, 28, 28, 1))\n",
        "train_images = train_images.astype('float32') / 255\n",
        "test_images = test_images.reshape((10000, 28, 28, 1))\n",
        "test_images = test_images.astype('float32') / 255\n",
        "train_labels = to_categorical(train_labels)\n",
        "test_labels = to_categorical(test_labels)"
      ],
      "execution_count": 10,
      "outputs": []
    },
    {
      "cell_type": "markdown",
      "metadata": {
        "id": "4HoTLrfSjymd"
      },
      "source": [
        "#### compile and fit model "
      ]
    },
    {
      "cell_type": "code",
      "metadata": {
        "id": "i23FDtC9jyme",
        "colab": {
          "base_uri": "https://localhost:8080/"
        },
        "outputId": "6ec5f7f4-2e65-4f02-a0bf-06cbbad5fb20"
      },
      "source": [
        "model.compile(optimizer='rmsprop', \n",
        "              loss='categorical_crossentropy',\n",
        "              metrics=['accuracy'])\n",
        "history = model.fit(train_images, train_labels, epochs=5, batch_size=64, validation_split=0.2)"
      ],
      "execution_count": 11,
      "outputs": [
        {
          "output_type": "stream",
          "text": [
            "Epoch 1/5\n",
            "750/750 [==============================] - 36s 5ms/step - loss: 0.4558 - accuracy: 0.8553 - val_loss: 0.0777 - val_accuracy: 0.9780\n",
            "Epoch 2/5\n",
            "750/750 [==============================] - 3s 4ms/step - loss: 0.0570 - accuracy: 0.9816 - val_loss: 0.0531 - val_accuracy: 0.9848\n",
            "Epoch 3/5\n",
            "750/750 [==============================] - 3s 4ms/step - loss: 0.0373 - accuracy: 0.9881 - val_loss: 0.0423 - val_accuracy: 0.9882\n",
            "Epoch 4/5\n",
            "750/750 [==============================] - 3s 4ms/step - loss: 0.0268 - accuracy: 0.9921 - val_loss: 0.0425 - val_accuracy: 0.9877\n",
            "Epoch 5/5\n",
            "750/750 [==============================] - 3s 4ms/step - loss: 0.0200 - accuracy: 0.9938 - val_loss: 0.0408 - val_accuracy: 0.9893\n"
          ],
          "name": "stdout"
        }
      ]
    },
    {
      "cell_type": "markdown",
      "metadata": {
        "id": "9zU8iI5ojymg"
      },
      "source": [
        "#### evaluate model"
      ]
    },
    {
      "cell_type": "code",
      "metadata": {
        "id": "Z3VeaL1Njymh",
        "colab": {
          "base_uri": "https://localhost:8080/"
        },
        "outputId": "fa8fe8e8-9cc8-4610-930a-1ab88dcae3df"
      },
      "source": [
        "test_loss, test_acc = model.evaluate(test_images, test_labels)\n",
        "test_acc"
      ],
      "execution_count": 12,
      "outputs": [
        {
          "output_type": "stream",
          "text": [
            "313/313 [==============================] - 1s 3ms/step - loss: 0.0319 - accuracy: 0.9901\n"
          ],
          "name": "stdout"
        },
        {
          "output_type": "execute_result",
          "data": {
            "text/plain": [
              "0.9901000261306763"
            ]
          },
          "metadata": {
            "tags": []
          },
          "execution_count": 12
        }
      ]
    },
    {
      "cell_type": "code",
      "metadata": {
        "id": "coO64fYljGm8"
      },
      "source": [
        "history.history\n"
      ],
      "execution_count": null,
      "outputs": []
    },
    {
      "cell_type": "code",
      "metadata": {
        "id": "wXNZOY7Sjymj",
        "colab": {
          "base_uri": "https://localhost:8080/",
          "height": 545
        },
        "outputId": "c44b0191-92fe-4618-8ec9-5b76d930fdfb"
      },
      "source": [
        "import matplotlib.pyplot as plt\n",
        "\n",
        "acc = history.history['accuracy']\n",
        "val_acc = history.history['val_accuracy']\n",
        "loss = history.history['loss']\n",
        "val_loss = history.history['val_loss']\n",
        "\n",
        "epochs = range(1, len(acc) + 1)\n",
        "\n",
        "plt.plot(epochs, acc, 'bo', label='Training acc')\n",
        "plt.plot(epochs, val_acc, 'b', label='Validation acc')\n",
        "plt.title('Training and validation accuracy')\n",
        "plt.legend()\n",
        "\n",
        "plt.figure()\n",
        "\n",
        "plt.plot(epochs, loss, 'bo', label='Training loss')\n",
        "plt.plot(epochs, val_loss, 'b', label='Validation loss')\n",
        "plt.title('Training and validation loss')\n",
        "plt.legend()\n",
        "\n",
        "plt.show()"
      ],
      "execution_count": 13,
      "outputs": [
        {
          "output_type": "display_data",
          "data": {
            "image/png": "[encoded data removed]",
            "text/plain": [
              "<Figure size 432x288 with 1 Axes>"
            ]
          },
          "metadata": {
            "tags": [],
            "needs_background": "light"
          }
        },
        {
          "output_type": "display_data",
          "data": {
            "image/png": "[encoded data removed]",
            "text/plain": [
              "<Figure size 432x288 with 1 Axes>"
            ]
          },
          "metadata": {
            "tags": [],
            "needs_background": "light"
          }
        }
      ]
    },
    {
      "cell_type": "markdown",
      "metadata": {
        "id": "dsQMc0Iojyml"
      },
      "source": [
        "## Task 1\n",
        "\n",
        "Change the activation function and other parameters such as optimizer to see the effect on the network and it's performance. If possible create a grid search. "
      ]
    },
    {
      "cell_type": "code",
      "metadata": {
        "id": "-fIK8ECuogzX"
      },
      "source": [
        "\n",
        "\n",
        "(train_images, train_labels), (test_images, test_labels) = mnist.load_data()\n",
        "train_images = train_images.reshape((60000, 28, 28, 1))\n",
        "train_images = train_images.astype('float32') / 255\n",
        "test_images = test_images.reshape((10000, 28, 28, 1))\n",
        "test_images = test_images.astype('float32') / 255\n",
        "#train_labels = to_categorical(train_labels)\n",
        "#test_labels = to_categorical(test_labels)\n",
        "\n"
      ],
      "execution_count": 14,
      "outputs": []
    },
    {
      "cell_type": "code",
      "metadata": {
        "colab": {
          "base_uri": "https://localhost:8080/"
        },
        "id": "Qpaj7c4jBAtX",
        "outputId": "9184ae51-5db6-4270-a3d0-2e6d8cf41fde"
      },
      "source": [
        "from keras.wrappers.scikit_learn import KerasClassifier\n",
        "from sklearn.model_selection import GridSearchCV\n",
        "def build_classifier(optimizer='Adam',activation='relu'):\n",
        "  model = models.Sequential()\n",
        "  model.add(layers.Conv2D(32, (3, 3), activation=activation, input_shape=(28, 28, 1)))\n",
        "  model.add(layers.MaxPooling2D((2, 2)))\n",
        "  model.add(layers.Conv2D(64, (3, 3), activation=activation))\n",
        "  model.add(layers.MaxPooling2D((2, 2)))\n",
        "  model.add(layers.Conv2D(64, (3, 3), activation=activation))\n",
        "  model.add(layers.Flatten())\n",
        "  model.add(layers.Dense(64, activation=activation))\n",
        "  model.add(layers.Dense(10, activation='softmax'))\n",
        "  model.compile(optimizer=optimizer, loss='categorical_crossentropy', metrics=['accuracy'])\n",
        "\n",
        "  return model\n",
        "\n",
        "KC = KerasClassifier(build_fn=build_classifier)\n",
        "\n",
        "#epochs=5, batch_size=64, validation_split=0.2\n",
        "\n",
        "parameters = {'optimizer':['adam','SGD'],'epochs':[3] ,'batch_size':[64],'validation_split':[0.3], 'activation': ['softmax', 'sigmoid']}\n",
        "grid_search = GridSearchCV(estimator=KC ,param_grid=parameters,scoring='accuracy')\n",
        "grid_search.fit(train_images, train_labels)"
      ],
      "execution_count": 20,
      "outputs": [
        {
          "output_type": "stream",
          "text": [
            "Epoch 1/3\n",
            "525/525 [==============================] - 4s 7ms/step - loss: 2.3018 - accuracy: 0.1157 - val_loss: 2.3021 - val_accuracy: 0.1077\n",
            "Epoch 2/3\n",
            "525/525 [==============================] - 3s 6ms/step - loss: 2.3009 - accuracy: 0.1174 - val_loss: 2.3020 - val_accuracy: 0.1077\n",
            "Epoch 3/3\n",
            "525/525 [==============================] - 3s 6ms/step - loss: 2.3013 - accuracy: 0.1150 - val_loss: 2.3018 - val_accuracy: 0.1077\n"
          ],
          "name": "stdout"
        },
        {
          "output_type": "stream",
          "text": [
            "/usr/local/lib/python3.7/dist-packages/tensorflow/python/keras/engine/sequential.py:450: UserWarning: `model.predict_classes()` is deprecated and will be removed after 2021-01-01. Please use instead:* `np.argmax(model.predict(x), axis=-1)`,   if your model does multi-class classification   (e.g. if it uses a `softmax` last-layer activation).* `(model.predict(x) > 0.5).astype(\"int32\")`,   if your model does binary classification   (e.g. if it uses a `sigmoid` last-layer activation).\n",
            "  warnings.warn('`model.predict_classes()` is deprecated and '\n"
          ],
          "name": "stderr"
        },
        {
          "output_type": "stream",
          "text": [
            "Epoch 1/3\n",
            "525/525 [==============================] - 4s 6ms/step - loss: 2.3018 - accuracy: 0.1056 - val_loss: 2.3018 - val_accuracy: 0.1077\n",
            "Epoch 2/3\n",
            "525/525 [==============================] - 3s 6ms/step - loss: 2.3017 - accuracy: 0.1096 - val_loss: 2.3020 - val_accuracy: 0.1077\n",
            "Epoch 3/3\n",
            "525/525 [==============================] - 3s 6ms/step - loss: 2.3016 - accuracy: 0.1127 - val_loss: 2.3022 - val_accuracy: 0.1077\n",
            "Epoch 1/3\n",
            "525/525 [==============================] - 4s 6ms/step - loss: 2.3020 - accuracy: 0.1118 - val_loss: 2.3018 - val_accuracy: 0.1077\n",
            "Epoch 2/3\n",
            "525/525 [==============================] - 3s 6ms/step - loss: 2.3010 - accuracy: 0.1130 - val_loss: 2.3021 - val_accuracy: 0.1077\n",
            "Epoch 3/3\n",
            "525/525 [==============================] - 3s 6ms/step - loss: 2.3015 - accuracy: 0.1127 - val_loss: 2.3019 - val_accuracy: 0.1077\n",
            "Epoch 1/3\n",
            "525/525 [==============================] - 4s 6ms/step - loss: 2.3018 - accuracy: 0.1085 - val_loss: 2.3023 - val_accuracy: 0.1067\n",
            "Epoch 2/3\n",
            "525/525 [==============================] - 3s 6ms/step - loss: 2.3007 - accuracy: 0.1173 - val_loss: 2.3021 - val_accuracy: 0.1067\n",
            "Epoch 3/3\n",
            "525/525 [==============================] - 3s 6ms/step - loss: 2.3017 - accuracy: 0.1145 - val_loss: 2.3019 - val_accuracy: 0.1067\n",
            "Epoch 1/3\n",
            "525/525 [==============================] - 4s 6ms/step - loss: 2.3015 - accuracy: 0.1121 - val_loss: 2.3014 - val_accuracy: 0.1126\n",
            "Epoch 2/3\n",
            "525/525 [==============================] - 3s 6ms/step - loss: 2.3014 - accuracy: 0.1141 - val_loss: 2.3014 - val_accuracy: 0.1126\n",
            "Epoch 3/3\n",
            "525/525 [==============================] - 3s 6ms/step - loss: 2.3018 - accuracy: 0.1114 - val_loss: 2.3012 - val_accuracy: 0.1126\n",
            "Epoch 1/3\n",
            "525/525 [==============================] - 4s 6ms/step - loss: 2.3022 - accuracy: 0.1021 - val_loss: 2.3021 - val_accuracy: 0.1077\n",
            "Epoch 2/3\n",
            "525/525 [==============================] - 3s 6ms/step - loss: 2.3014 - accuracy: 0.1154 - val_loss: 2.3019 - val_accuracy: 0.1077\n",
            "Epoch 3/3\n",
            "525/525 [==============================] - 3s 6ms/step - loss: 2.3011 - accuracy: 0.1145 - val_loss: 2.3019 - val_accuracy: 0.1077\n",
            "Epoch 1/3\n",
            "525/525 [==============================] - 4s 6ms/step - loss: 2.3028 - accuracy: 0.0987 - val_loss: 2.3021 - val_accuracy: 0.1077\n",
            "Epoch 2/3\n",
            "525/525 [==============================] - 3s 6ms/step - loss: 2.3015 - accuracy: 0.1147 - val_loss: 2.3018 - val_accuracy: 0.1077\n",
            "Epoch 3/3\n",
            "525/525 [==============================] - 3s 6ms/step - loss: 2.3013 - accuracy: 0.1138 - val_loss: 2.3018 - val_accuracy: 0.1077\n",
            "Epoch 1/3\n",
            "525/525 [==============================] - 4s 6ms/step - loss: 2.3026 - accuracy: 0.1007 - val_loss: 2.3019 - val_accuracy: 0.1077\n",
            "Epoch 2/3\n",
            "525/525 [==============================] - 3s 6ms/step - loss: 2.3015 - accuracy: 0.1129 - val_loss: 2.3018 - val_accuracy: 0.1077\n",
            "Epoch 3/3\n",
            "525/525 [==============================] - 3s 6ms/step - loss: 2.3013 - accuracy: 0.1117 - val_loss: 2.3018 - val_accuracy: 0.1077\n",
            "Epoch 1/3\n",
            "525/525 [==============================] - 4s 6ms/step - loss: 2.3029 - accuracy: 0.0993 - val_loss: 2.3023 - val_accuracy: 0.1067\n",
            "Epoch 2/3\n",
            "525/525 [==============================] - 3s 6ms/step - loss: 2.3016 - accuracy: 0.1139 - val_loss: 2.3019 - val_accuracy: 0.1067\n",
            "Epoch 3/3\n",
            "525/525 [==============================] - 3s 6ms/step - loss: 2.3013 - accuracy: 0.1154 - val_loss: 2.3019 - val_accuracy: 0.1067\n",
            "Epoch 1/3\n",
            "525/525 [==============================] - 4s 6ms/step - loss: 2.3019 - accuracy: 0.1140 - val_loss: 2.3015 - val_accuracy: 0.1126\n",
            "Epoch 2/3\n",
            "525/525 [==============================] - 3s 6ms/step - loss: 2.3013 - accuracy: 0.1136 - val_loss: 2.3013 - val_accuracy: 0.1126\n",
            "Epoch 3/3\n",
            "525/525 [==============================] - 3s 6ms/step - loss: 2.3010 - accuracy: 0.1153 - val_loss: 2.3012 - val_accuracy: 0.1126\n",
            "Epoch 1/3\n",
            "525/525 [==============================] - 3s 5ms/step - loss: 2.0316 - accuracy: 0.2465 - val_loss: 0.3747 - val_accuracy: 0.9040\n",
            "Epoch 2/3\n",
            "525/525 [==============================] - 2s 4ms/step - loss: 0.3161 - accuracy: 0.9194 - val_loss: 0.1681 - val_accuracy: 0.9538\n",
            "Epoch 3/3\n",
            "525/525 [==============================] - 2s 4ms/step - loss: 0.1497 - accuracy: 0.9591 - val_loss: 0.1158 - val_accuracy: 0.9672\n",
            "Epoch 1/3\n",
            "525/525 [==============================] - 3s 5ms/step - loss: 1.9439 - accuracy: 0.2955 - val_loss: 0.3596 - val_accuracy: 0.9101\n",
            "Epoch 2/3\n",
            "525/525 [==============================] - 2s 4ms/step - loss: 0.3121 - accuracy: 0.9196 - val_loss: 0.1804 - val_accuracy: 0.9503\n",
            "Epoch 3/3\n",
            "525/525 [==============================] - 2s 4ms/step - loss: 0.1578 - accuracy: 0.9583 - val_loss: 0.1159 - val_accuracy: 0.9675\n",
            "Epoch 1/3\n",
            "525/525 [==============================] - 3s 5ms/step - loss: 2.0277 - accuracy: 0.2478 - val_loss: 0.3398 - val_accuracy: 0.9176\n",
            "Epoch 2/3\n",
            "525/525 [==============================] - 2s 4ms/step - loss: 0.2834 - accuracy: 0.9287 - val_loss: 0.1609 - val_accuracy: 0.9567\n",
            "Epoch 3/3\n",
            "525/525 [==============================] - 2s 4ms/step - loss: 0.1489 - accuracy: 0.9592 - val_loss: 0.1129 - val_accuracy: 0.9685\n",
            "Epoch 1/3\n",
            "525/525 [==============================] - 3s 5ms/step - loss: 1.9801 - accuracy: 0.2711 - val_loss: 0.3550 - val_accuracy: 0.9111\n",
            "Epoch 2/3\n",
            "525/525 [==============================] - 2s 4ms/step - loss: 0.3089 - accuracy: 0.9189 - val_loss: 0.1607 - val_accuracy: 0.9558\n",
            "Epoch 3/3\n",
            "525/525 [==============================] - 2s 4ms/step - loss: 0.1519 - accuracy: 0.9590 - val_loss: 0.1045 - val_accuracy: 0.9704\n",
            "Epoch 1/3\n",
            "525/525 [==============================] - 3s 5ms/step - loss: 2.0094 - accuracy: 0.2596 - val_loss: 0.4015 - val_accuracy: 0.8976\n",
            "Epoch 2/3\n",
            "525/525 [==============================] - 2s 4ms/step - loss: 0.3198 - accuracy: 0.9165 - val_loss: 0.1832 - val_accuracy: 0.9479\n",
            "Epoch 3/3\n",
            "525/525 [==============================] - 2s 4ms/step - loss: 0.1621 - accuracy: 0.9545 - val_loss: 0.1234 - val_accuracy: 0.9658\n",
            "Epoch 1/3\n",
            "525/525 [==============================] - 3s 5ms/step - loss: 2.3234 - accuracy: 0.1046 - val_loss: 2.3021 - val_accuracy: 0.1077\n",
            "Epoch 2/3\n",
            "525/525 [==============================] - 2s 4ms/step - loss: 2.3028 - accuracy: 0.1116 - val_loss: 2.3042 - val_accuracy: 0.1077\n",
            "Epoch 3/3\n",
            "525/525 [==============================] - 2s 4ms/step - loss: 2.3026 - accuracy: 0.1086 - val_loss: 2.3025 - val_accuracy: 0.1077\n",
            "Epoch 1/3\n",
            "525/525 [==============================] - 3s 5ms/step - loss: 2.3095 - accuracy: 0.1047 - val_loss: 2.3029 - val_accuracy: 0.1077\n",
            "Epoch 2/3\n",
            "525/525 [==============================] - 2s 4ms/step - loss: 2.3022 - accuracy: 0.1122 - val_loss: 2.3035 - val_accuracy: 0.1077\n",
            "Epoch 3/3\n",
            "525/525 [==============================] - 2s 4ms/step - loss: 2.3016 - accuracy: 0.1133 - val_loss: 2.3016 - val_accuracy: 0.1077\n",
            "Epoch 1/3\n",
            "525/525 [==============================] - 3s 5ms/step - loss: 2.3344 - accuracy: 0.1040 - val_loss: 2.3030 - val_accuracy: 0.1077\n",
            "Epoch 2/3\n",
            "525/525 [==============================] - 2s 4ms/step - loss: 2.3017 - accuracy: 0.1171 - val_loss: 2.3046 - val_accuracy: 0.0948\n",
            "Epoch 3/3\n",
            "525/525 [==============================] - 2s 4ms/step - loss: 2.3025 - accuracy: 0.1100 - val_loss: 2.3021 - val_accuracy: 0.1077\n",
            "Epoch 1/3\n",
            "525/525 [==============================] - 3s 4ms/step - loss: 2.3274 - accuracy: 0.1131 - val_loss: 2.3026 - val_accuracy: 0.1067\n",
            "Epoch 2/3\n",
            "525/525 [==============================] - 2s 4ms/step - loss: 2.3012 - accuracy: 0.1168 - val_loss: 2.3061 - val_accuracy: 0.0969\n",
            "Epoch 3/3\n",
            "525/525 [==============================] - 2s 4ms/step - loss: 2.3030 - accuracy: 0.1083 - val_loss: 2.3022 - val_accuracy: 0.1067\n",
            "Epoch 1/3\n",
            "525/525 [==============================] - 3s 5ms/step - loss: 2.3222 - accuracy: 0.1097 - val_loss: 2.3021 - val_accuracy: 0.1318\n",
            "Epoch 2/3\n",
            "525/525 [==============================] - 2s 4ms/step - loss: 2.3019 - accuracy: 0.1131 - val_loss: 2.3015 - val_accuracy: 0.1126\n",
            "Epoch 3/3\n",
            "525/525 [==============================] - 2s 4ms/step - loss: 2.3015 - accuracy: 0.1140 - val_loss: 2.3017 - val_accuracy: 0.1126\n",
            "Epoch 1/3\n",
            "657/657 [==============================] - 4s 5ms/step - loss: 1.8812 - accuracy: 0.3147 - val_loss: 0.2902 - val_accuracy: 0.9264\n",
            "Epoch 2/3\n",
            "657/657 [==============================] - 3s 5ms/step - loss: 0.2378 - accuracy: 0.9359 - val_loss: 0.1376 - val_accuracy: 0.9621\n",
            "Epoch 3/3\n",
            "657/657 [==============================] - 3s 5ms/step - loss: 0.1202 - accuracy: 0.9665 - val_loss: 0.1162 - val_accuracy: 0.9662\n"
          ],
          "name": "stdout"
        },
        {
          "output_type": "execute_result",
          "data": {
            "text/plain": [
              "GridSearchCV(cv=None, error_score=nan,\n",
              "             estimator=<tensorflow.python.keras.wrappers.scikit_learn.KerasClassifier object at 0x7f1ccb859090>,\n",
              "             iid='deprecated', n_jobs=None,\n",
              "             param_grid={'activation': ['softmax', 'sigmoid'],\n",
              "                         'batch_size': [64], 'epochs': [3],\n",
              "                         'optimizer': ['adam', 'SGD'],\n",
              "                         'validation_split': [0.3]},\n",
              "             pre_dispatch='2*n_jobs', refit=True, return_train_score=False,\n",
              "             scoring='accuracy', verbose=0)"
            ]
          },
          "metadata": {
            "tags": []
          },
          "execution_count": 20
        }
      ]
    },
    {
      "cell_type": "code",
      "metadata": {
        "colab": {
          "base_uri": "https://localhost:8080/",
          "height": 545
        },
        "id": "OcXJ-udYkCju",
        "outputId": "37548c3c-f7ea-4bde-9bb8-6d8040370c2d"
      },
      "source": [
        "import matplotlib.pyplot as plt\n",
        "\n",
        "acc = grid_search.best_estimator_.model.history.history['accuracy']\n",
        "val_acc = grid_search.best_estimator_.model.history.history['val_accuracy']\n",
        "loss = grid_search.best_estimator_.model.history.history['loss']\n",
        "val_loss = grid_search.best_estimator_.model.history.history['val_loss']\n",
        "\n",
        "epochs = range(1, len(acc) + 1)\n",
        "\n",
        "plt.plot(epochs, acc, 'bo', label='Training acc')\n",
        "plt.plot(epochs, val_acc, 'b', label='Validation acc')\n",
        "plt.title('Training and validation accuracy')\n",
        "plt.legend()\n",
        "\n",
        "plt.figure()\n",
        "\n",
        "plt.plot(epochs, loss, 'bo', label='Training loss')\n",
        "plt.plot(epochs, val_loss, 'b', label='Validation loss')\n",
        "plt.title('Training and validation loss')\n",
        "plt.legend()\n",
        "\n",
        "plt.show()"
      ],
      "execution_count": 21,
      "outputs": [
        {
          "output_type": "display_data",
          "data": {
            "image/png": "[encoded data removed]",
            "text/plain": [
              "<Figure size 432x288 with 1 Axes>"
            ]
          },
          "metadata": {
            "tags": [],
            "needs_background": "light"
          }
        },
        {
          "output_type": "display_data",
          "data": {
            "image/png": "[encoded data removed]",
            "text/plain": [
              "<Figure size 432x288 with 1 Axes>"
            ]
          },
          "metadata": {
            "tags": [],
            "needs_background": "light"
          }
        }
      ]
    }
  ]
}