{
  "nbformat": 4,
  "nbformat_minor": 0,
  "metadata": {
    "kernelspec": {
      "display_name": "Python 3",
      "language": "python",
      "name": "python3"
    },
    "language_info": {
      "codemirror_mode": {
        "name": "ipython",
        "version": 3
      },
      "file_extension": ".py",
      "mimetype": "text/x-python",
      "name": "python",
      "nbconvert_exporter": "python",
      "pygments_lexer": "ipython3",
      "version": "3.6.5"
    },
    "colab": {
      "name": "CNNtask1.ipynb",
      "provenance": [],
      "collapsed_sections": [],
      "include_colab_link": true
    },
    "accelerator": "GPU"
  },
  "cells": [
    {
      "cell_type": "markdown",
      "metadata": {
        "id": "view-in-github",
        "colab_type": "text"
      },
      "source": [
        "<a href=\"https://colab.research.google.com/github/deepakkollala/CE888_Labs/blob/main/lab7/CNNtask1.ipynb\" target=\"_parent\"><img src=\"https://colab.research.google.com/assets/colab-badge.svg\" alt=\"Open In Colab\"/></a>"
      ]
    },
    {
      "cell_type": "markdown",
      "metadata": {
        "id": "vwRGEQbzGpYQ"
      },
      "source": [
        "# First CNN model for MNIST Dataset\n",
        "\n",
        "* MNIST Dataset is ''Hello World'' of Image Recognition\n",
        "\n",
        "* [Dataset HomePage](http://yann.lecun.com/exdb/mnist/)\n",
        "\n",
        "* History of MNIST Dataset [Watch here](https://www.youtube.com/watch?v=oKzNUGz21JM)\n",
        "\n",
        "\n",
        "---\n",
        "The MNIST database of handwritten digits, available from this page, has a training set of 60,000 examples, and a \n",
        "test set of 10,000 examples. It is a subset of a larger set available from NIST. The digits have been size-normalized and centered in a fixed-size image.\n",
        "\n",
        "![Kitten](https://camo.githubusercontent.com/01c057a753e92a9bc70b8c45d62b295431851c09cffadf53106fc0aea7e2843f/687474703a2f2f692e7974696d672e636f6d2f76692f3051493378675875422d512f687164656661756c742e6a7067)\n"
      ]
    },
    {
      "cell_type": "markdown",
      "metadata": {
        "id": "PhmJOHCpJD_w"
      },
      "source": [
        "# Let's start building our first CNN Model"
      ]
    },
    {
      "cell_type": "code",
      "metadata": {
        "id": "lSyHCSV7jymI"
      },
      "source": [
        "from keras import layers\n",
        "from keras import models"
      ],
      "execution_count": null,
      "outputs": []
    },
    {
      "cell_type": "markdown",
      "metadata": {
        "id": "oWNzCYUUjymN"
      },
      "source": [
        "Importantly, a convnet takes as input tensors of shape (image_height, image_width,\n",
        "image_channels) (not including the batch dimension). In this case, we’ll configure\n",
        "the convnet to process inputs of size (28, 28, 1), which is the format of MNIST\n",
        "images. We’ll do this by passing the argument input_shape=(28, 28, 1) to the first\n",
        "layer."
      ]
    },
    {
      "cell_type": "markdown",
      "metadata": {
        "id": "dM4JLEpwjymN"
      },
      "source": [
        "#### Instantiating a small convnet"
      ]
    },
    {
      "cell_type": "code",
      "metadata": {
        "id": "p-OnpExGjymO",
        "colab": {
          "base_uri": "https://localhost:8080/"
        },
        "outputId": "3d624dc4-2ee4-40bf-ccd2-ac17690d5ee8"
      },
      "source": [
        "model = models.Sequential()\n",
        "model.add(layers.Conv2D(32, (3, 3), activation='relu', input_shape=(28, 28, 1)))\n",
        "model.add(layers.MaxPooling2D((2, 2)))\n",
        "model.add(layers.Conv2D(64, (3, 3), activation='relu'))\n",
        "model.add(layers.MaxPooling2D((2, 2)))\n",
        "model.add(layers.Conv2D(64, (3, 3), activation='relu'))\n",
        "model.summary()"
      ],
      "execution_count": null,
      "outputs": [
        {
          "output_type": "stream",
          "text": [
            "Model: \"sequential_3\"\n",
            "_________________________________________________________________\n",
            "Layer (type)                 Output Shape              Param #   \n",
            "=================================================================\n",
            "conv2d_9 (Conv2D)            (None, 26, 26, 32)        320       \n",
            "_________________________________________________________________\n",
            "max_pooling2d_6 (MaxPooling2 (None, 13, 13, 32)        0         \n",
            "_________________________________________________________________\n",
            "conv2d_10 (Conv2D)           (None, 11, 11, 64)        18496     \n",
            "_________________________________________________________________\n",
            "max_pooling2d_7 (MaxPooling2 (None, 5, 5, 64)          0         \n",
            "_________________________________________________________________\n",
            "conv2d_11 (Conv2D)           (None, 3, 3, 64)          36928     \n",
            "=================================================================\n",
            "Total params: 55,744\n",
            "Trainable params: 55,744\n",
            "Non-trainable params: 0\n",
            "_________________________________________________________________\n"
          ],
          "name": "stdout"
        }
      ]
    },
    {
      "cell_type": "markdown",
      "metadata": {
        "id": "7gcVG3xkjymR"
      },
      "source": [
        "#### Adding a classifier on top of the convnet"
      ]
    },
    {
      "cell_type": "code",
      "metadata": {
        "id": "C2DfhDJYjymR",
        "colab": {
          "base_uri": "https://localhost:8080/"
        },
        "outputId": "5620bf8d-569c-4576-8fe3-40d5407c2096"
      },
      "source": [
        "model.add(layers.Flatten())\n",
        "model.add(layers.Dense(64, activation='relu'))\n",
        "model.add(layers.Dense(10, activation='softmax'))\n",
        "model.summary()"
      ],
      "execution_count": null,
      "outputs": [
        {
          "output_type": "stream",
          "text": [
            "Model: \"sequential_3\"\n",
            "_________________________________________________________________\n",
            "Layer (type)                 Output Shape              Param #   \n",
            "=================================================================\n",
            "conv2d_9 (Conv2D)            (None, 26, 26, 32)        320       \n",
            "_________________________________________________________________\n",
            "max_pooling2d_6 (MaxPooling2 (None, 13, 13, 32)        0         \n",
            "_________________________________________________________________\n",
            "conv2d_10 (Conv2D)           (None, 11, 11, 64)        18496     \n",
            "_________________________________________________________________\n",
            "max_pooling2d_7 (MaxPooling2 (None, 5, 5, 64)          0         \n",
            "_________________________________________________________________\n",
            "conv2d_11 (Conv2D)           (None, 3, 3, 64)          36928     \n",
            "_________________________________________________________________\n",
            "flatten_1 (Flatten)          (None, 576)               0         \n",
            "_________________________________________________________________\n",
            "dense_2 (Dense)              (None, 64)                36928     \n",
            "_________________________________________________________________\n",
            "dense_3 (Dense)              (None, 10)                650       \n",
            "=================================================================\n",
            "Total params: 93,322\n",
            "Trainable params: 93,322\n",
            "Non-trainable params: 0\n",
            "_________________________________________________________________\n"
          ],
          "name": "stdout"
        }
      ]
    },
    {
      "cell_type": "markdown",
      "metadata": {
        "id": "NOKVF4nKjymU"
      },
      "source": [
        "### Training the convnet on MNIST images"
      ]
    },
    {
      "cell_type": "code",
      "metadata": {
        "id": "oIcgUbbUjymV"
      },
      "source": [
        "from keras.datasets import mnist\n",
        "from keras.utils import to_categorical"
      ],
      "execution_count": null,
      "outputs": []
    },
    {
      "cell_type": "markdown",
      "metadata": {
        "id": "ZnJ2Pfs_jymX"
      },
      "source": [
        "#### Load Data"
      ]
    },
    {
      "cell_type": "code",
      "metadata": {
        "id": "JpHGHE9MjymY"
      },
      "source": [
        "(train_images, train_labels), (test_images, test_labels) = mnist.load_data()\n",
        "train_images = train_images.reshape((60000, 28, 28, 1))\n",
        "train_images = train_images.astype('float32') / 255\n",
        "test_images = test_images.reshape((10000, 28, 28, 1))\n",
        "test_images = test_images.astype('float32') / 255\n",
        "train_labels = to_categorical(train_labels)\n",
        "test_labels = to_categorical(test_labels)"
      ],
      "execution_count": null,
      "outputs": []
    },
    {
      "cell_type": "markdown",
      "metadata": {
        "id": "4HoTLrfSjymd"
      },
      "source": [
        "#### compile and fit model "
      ]
    },
    {
      "cell_type": "code",
      "metadata": {
        "id": "i23FDtC9jyme"
      },
      "source": [
        "model.compile(optimizer='rmsprop', \n",
        "              loss='categorical_crossentropy',\n",
        "              metrics=['accuracy'])\n",
        "history = model.fit(train_images, train_labels, epochs=5, batch_size=64, validation_split=0.2)"
      ],
      "execution_count": null,
      "outputs": []
    },
    {
      "cell_type": "markdown",
      "metadata": {
        "id": "9zU8iI5ojymg"
      },
      "source": [
        "#### evaluate model"
      ]
    },
    {
      "cell_type": "code",
      "metadata": {
        "id": "Z3VeaL1Njymh",
        "colab": {
          "base_uri": "https://localhost:8080/"
        },
        "outputId": "83685a3f-8224-4dff-b20d-e3d00e6b0b30"
      },
      "source": [
        "test_loss, test_acc = model.evaluate(test_images, test_labels)\n",
        "test_acc"
      ],
      "execution_count": null,
      "outputs": [
        {
          "output_type": "stream",
          "text": [
            "313/313 [==============================] - 1s 2ms/step - loss: 0.0324 - accuracy: 0.9904\n"
          ],
          "name": "stdout"
        },
        {
          "output_type": "execute_result",
          "data": {
            "text/plain": [
              "0.9904000163078308"
            ]
          },
          "metadata": {
            "tags": []
          },
          "execution_count": 21
        }
      ]
    },
    {
      "cell_type": "code",
      "metadata": {
        "colab": {
          "base_uri": "https://localhost:8080/"
        },
        "id": "coO64fYljGm8",
        "outputId": "ee0dea79-963f-4acd-f781-1edbd0af2df2"
      },
      "source": [
        "history.history\n"
      ],
      "execution_count": null,
      "outputs": [
        {
          "output_type": "execute_result",
          "data": {
            "text/plain": [
              "{'accuracy': [0.9369583129882812,\n",
              "  0.9831249713897705,\n",
              "  0.9880416393280029,\n",
              "  0.9911041855812073,\n",
              "  0.9932083487510681],\n",
              " 'loss': [0.2016746997833252,\n",
              "  0.05554654449224472,\n",
              "  0.03873632475733757,\n",
              "  0.028822580352425575,\n",
              "  0.02148374356329441],\n",
              " 'val_accuracy': [0.9800833463668823,\n",
              "  0.9851666688919067,\n",
              "  0.9884999990463257,\n",
              "  0.9884166717529297,\n",
              "  0.9898333549499512],\n",
              " 'val_loss': [0.06977712363004684,\n",
              "  0.05062410607933998,\n",
              "  0.04211914539337158,\n",
              "  0.04568742215633392,\n",
              "  0.04177851229906082]}"
            ]
          },
          "metadata": {
            "tags": []
          },
          "execution_count": 22
        }
      ]
    },
    {
      "cell_type": "code",
      "metadata": {
        "id": "wXNZOY7Sjymj",
        "colab": {
          "base_uri": "https://localhost:8080/",
          "height": 544
        },
        "outputId": "bf1c4312-17fa-40c6-f62d-65d4a3c25763"
      },
      "source": [
        "import matplotlib.pyplot as plt\n",
        "\n",
        "acc = history.history['accuracy']\n",
        "val_acc = history.history['val_accuracy']\n",
        "loss = history.history['loss']\n",
        "val_loss = history.history['val_loss']\n",
        "\n",
        "epochs = range(1, len(acc) + 1)\n",
        "\n",
        "plt.plot(epochs, acc, 'bo', label='Training acc')\n",
        "plt.plot(epochs, val_acc, 'b', label='Validation acc')\n",
        "plt.title('Training and validation accuracy')\n",
        "plt.legend()\n",
        "\n",
        "plt.figure()\n",
        "\n",
        "plt.plot(epochs, loss, 'bo', label='Training loss')\n",
        "plt.plot(epochs, val_loss, 'b', label='Validation loss')\n",
        "plt.title('Training and validation loss')\n",
        "plt.legend()\n",
        "\n",
        "plt.show()"
      ],
      "execution_count": null,
      "outputs": [
        {
          "output_type": "display_data",
          "data": {
            "image/png": "[encoded data removed]",
            "text/plain": [
              "<Figure size 432x288 with 1 Axes>"
            ]
          },
          "metadata": {
            "tags": [],
            "needs_background": "light"
          }
        },
        {
          "output_type": "display_data",
          "data": {
            "image/png": "[encoded data removed]",
            "text/plain": [
              "<Figure size 432x288 with 1 Axes>"
            ]
          },
          "metadata": {
            "tags": [],
            "needs_background": "light"
          }
        }
      ]
    },
    {
      "cell_type": "markdown",
      "metadata": {
        "id": "dsQMc0Iojyml"
      },
      "source": [
        "## Task 1\n",
        "\n",
        "Change the activation function and other parameters such as optimizer to see the effect on the network and it's performance. If possible create a grid search. "
      ]
    },
    {
      "cell_type": "code",
      "metadata": {
        "id": "NUsylBP1jv3a"
      },
      "source": [
        ""
      ],
      "execution_count": null,
      "outputs": []
    },
    {
      "cell_type": "code",
      "metadata": {
        "id": "KVvqFPhLkAgB"
      },
      "source": [
        ""
      ],
      "execution_count": null,
      "outputs": []
    },
    {
      "cell_type": "code",
      "metadata": {
        "id": "fy9Y9X8zqU-J"
      },
      "source": [
        ""
      ],
      "execution_count": null,
      "outputs": []
    },
    {
      "cell_type": "code",
      "metadata": {
        "id": "-fIK8ECuogzX"
      },
      "source": [
        "\n",
        "\n",
        "(train_images, train_labels), (test_images, test_labels) = mnist.load_data()\n",
        "train_images = train_images.reshape((60000, 28, 28, 1))\n",
        "train_images = train_images.astype('float32') / 255\n",
        "test_images = test_images.reshape((10000, 28, 28, 1))\n",
        "test_images = test_images.astype('float32') / 255\n",
        "#train_labels = to_categorical(train_labels)\n",
        "#test_labels = to_categorical(test_labels)\n",
        "\n"
      ],
      "execution_count": null,
      "outputs": []
    },
    {
      "cell_type": "code",
      "metadata": {
        "colab": {
          "base_uri": "https://localhost:8080/"
        },
        "id": "Qpaj7c4jBAtX",
        "outputId": "70e6a4d0-012b-4b13-d1e1-b3d0e5ca7d35"
      },
      "source": [
        "from keras.wrappers.scikit_learn import KerasClassifier\n",
        "from sklearn.model_selection import GridSearchCV\n",
        "def build_classifier(optimizer='Adam',activation='relu'):\n",
        "  model = models.Sequential()\n",
        "  model.add(layers.Conv2D(32, (3, 3), activation=activation, input_shape=(28, 28, 1)))\n",
        "  model.add(layers.MaxPooling2D((2, 2)))\n",
        "  model.add(layers.Conv2D(64, (3, 3), activation=activation))\n",
        "  model.add(layers.MaxPooling2D((2, 2)))\n",
        "  model.add(layers.Conv2D(64, (3, 3), activation=activation))\n",
        "  model.add(layers.Flatten())\n",
        "  model.add(layers.Dense(64, activation=activation))\n",
        "  model.add(layers.Dense(10, activation='softmax'))\n",
        "  model.compile(optimizer=optimizer, loss='categorical_crossentropy', metrics=['accuracy'])\n",
        "\n",
        "  return model\n",
        "\n",
        "KC = KerasClassifier(build_fn=build_classifier)\n",
        "\n",
        "#epochs=5, batch_size=64, validation_split=0.2\n",
        "\n",
        "parameters = {'optimizer':['adam','rmsprop','SGD'],'epochs':[3] ,'batch_size':[64],'validation_split':[0.2], 'activation': ['softmax', 'tanh', 'sigmoid']}\n",
        "grid_search = GridSearchCV(estimator=KC ,param_grid=parameters,scoring='accuracy')\n",
        "grid_search.fit(train_images, train_labels)"
      ],
      "execution_count": null,
      "outputs": [
        {
          "output_type": "stream",
          "text": [
            "Epoch 1/3\n",
            "600/600 [==============================] - 4s 6ms/step - loss: 2.3020 - accuracy: 0.1081 - val_loss: 2.3022 - val_accuracy: 0.1065\n",
            "Epoch 2/3\n",
            "600/600 [==============================] - 3s 5ms/step - loss: 2.3016 - accuracy: 0.1133 - val_loss: 2.3023 - val_accuracy: 0.1065\n",
            "Epoch 3/3\n",
            "600/600 [==============================] - 3s 5ms/step - loss: 2.3017 - accuracy: 0.1113 - val_loss: 2.2825 - val_accuracy: 0.1073\n"
          ],
          "name": "stdout"
        },
        {
          "output_type": "stream",
          "text": [
            "/usr/local/lib/python3.7/dist-packages/tensorflow/python/keras/engine/sequential.py:450: UserWarning: `model.predict_classes()` is deprecated and will be removed after 2021-01-01. Please use instead:* `np.argmax(model.predict(x), axis=-1)`,   if your model does multi-class classification   (e.g. if it uses a `softmax` last-layer activation).* `(model.predict(x) > 0.5).astype(\"int32\")`,   if your model does binary classification   (e.g. if it uses a `sigmoid` last-layer activation).\n",
            "  warnings.warn('`model.predict_classes()` is deprecated and '\n"
          ],
          "name": "stderr"
        },
        {
          "output_type": "stream",
          "text": [
            "Epoch 1/3\n",
            "600/600 [==============================] - 4s 6ms/step - loss: 2.3016 - accuracy: 0.1086 - val_loss: 2.3020 - val_accuracy: 0.1065\n",
            "Epoch 2/3\n",
            "600/600 [==============================] - 3s 5ms/step - loss: 2.3016 - accuracy: 0.1112 - val_loss: 2.3020 - val_accuracy: 0.1065\n",
            "Epoch 3/3\n",
            "600/600 [==============================] - 3s 5ms/step - loss: 2.3013 - accuracy: 0.1123 - val_loss: 2.2406 - val_accuracy: 0.2985\n",
            "Epoch 1/3\n",
            "600/600 [==============================] - 4s 6ms/step - loss: 2.3019 - accuracy: 0.1062 - val_loss: 2.3021 - val_accuracy: 0.1065\n",
            "Epoch 2/3\n",
            "600/600 [==============================] - 3s 5ms/step - loss: 2.3013 - accuracy: 0.1127 - val_loss: 2.3021 - val_accuracy: 0.1065\n",
            "Epoch 3/3\n",
            "600/600 [==============================] - 3s 5ms/step - loss: 2.3015 - accuracy: 0.1124 - val_loss: 2.3022 - val_accuracy: 0.1065\n",
            "Epoch 1/3\n",
            "600/600 [==============================] - 4s 6ms/step - loss: 2.3018 - accuracy: 0.1062 - val_loss: 2.3022 - val_accuracy: 0.1065\n",
            "Epoch 2/3\n",
            "600/600 [==============================] - 3s 5ms/step - loss: 2.3011 - accuracy: 0.1148 - val_loss: 2.3020 - val_accuracy: 0.1065\n",
            "Epoch 3/3\n",
            "600/600 [==============================] - 3s 5ms/step - loss: 2.3010 - accuracy: 0.1132 - val_loss: 2.3021 - val_accuracy: 0.1065\n",
            "Epoch 1/3\n",
            "600/600 [==============================] - 4s 6ms/step - loss: 2.3020 - accuracy: 0.1081 - val_loss: 2.3011 - val_accuracy: 0.1152\n",
            "Epoch 2/3\n",
            "600/600 [==============================] - 3s 5ms/step - loss: 2.3014 - accuracy: 0.1119 - val_loss: 2.3012 - val_accuracy: 0.1152\n",
            "Epoch 3/3\n",
            "600/600 [==============================] - 3s 5ms/step - loss: 2.3013 - accuracy: 0.1117 - val_loss: 2.3011 - val_accuracy: 0.1152\n",
            "Epoch 1/3\n",
            "600/600 [==============================] - 4s 6ms/step - loss: 2.3017 - accuracy: 0.1145 - val_loss: 2.3020 - val_accuracy: 0.1065\n",
            "Epoch 2/3\n",
            "600/600 [==============================] - 3s 6ms/step - loss: 2.3010 - accuracy: 0.1153 - val_loss: 2.3022 - val_accuracy: 0.1065\n",
            "Epoch 3/3\n",
            "600/600 [==============================] - 3s 6ms/step - loss: 2.3017 - accuracy: 0.1139 - val_loss: 2.3016 - val_accuracy: 0.1065\n",
            "Epoch 1/3\n",
            "600/600 [==============================] - 5s 6ms/step - loss: 2.3018 - accuracy: 0.1112 - val_loss: 2.3020 - val_accuracy: 0.1065\n",
            "Epoch 2/3\n",
            "600/600 [==============================] - 3s 6ms/step - loss: 2.3015 - accuracy: 0.1116 - val_loss: 2.3021 - val_accuracy: 0.1065\n",
            "Epoch 3/3\n",
            "600/600 [==============================] - 3s 6ms/step - loss: 2.2996 - accuracy: 0.1155 - val_loss: 2.2021 - val_accuracy: 0.2939\n",
            "Epoch 1/3\n",
            "600/600 [==============================] - 4s 6ms/step - loss: 2.3017 - accuracy: 0.1084 - val_loss: 2.3025 - val_accuracy: 0.1065\n",
            "Epoch 2/3\n",
            "600/600 [==============================] - 3s 6ms/step - loss: 2.3010 - accuracy: 0.1135 - val_loss: 2.3021 - val_accuracy: 0.1065\n",
            "Epoch 3/3\n",
            "600/600 [==============================] - 3s 6ms/step - loss: 2.2937 - accuracy: 0.1263 - val_loss: 2.1152 - val_accuracy: 0.3844\n",
            "Epoch 1/3\n",
            "600/600 [==============================] - 4s 6ms/step - loss: 2.3018 - accuracy: 0.1116 - val_loss: 2.3022 - val_accuracy: 0.1065\n",
            "Epoch 2/3\n",
            "600/600 [==============================] - 3s 6ms/step - loss: 2.3012 - accuracy: 0.1107 - val_loss: 2.3020 - val_accuracy: 0.1065\n",
            "Epoch 3/3\n",
            "600/600 [==============================] - 3s 6ms/step - loss: 2.3015 - accuracy: 0.1133 - val_loss: 2.2974 - val_accuracy: 0.1065\n",
            "Epoch 1/3\n",
            "600/600 [==============================] - 4s 6ms/step - loss: 2.3016 - accuracy: 0.1116 - val_loss: 2.3010 - val_accuracy: 0.1152\n",
            "Epoch 2/3\n",
            "600/600 [==============================] - 3s 6ms/step - loss: 2.3007 - accuracy: 0.1173 - val_loss: 2.3010 - val_accuracy: 0.1152\n",
            "Epoch 3/3\n",
            "600/600 [==============================] - 3s 6ms/step - loss: 2.3009 - accuracy: 0.1145 - val_loss: 2.2537 - val_accuracy: 0.2362\n",
            "Epoch 1/3\n",
            "600/600 [==============================] - 4s 6ms/step - loss: 2.3022 - accuracy: 0.1107 - val_loss: 2.3020 - val_accuracy: 0.1065\n",
            "Epoch 2/3\n",
            "600/600 [==============================] - 3s 5ms/step - loss: 2.3017 - accuracy: 0.1117 - val_loss: 2.3019 - val_accuracy: 0.1065\n",
            "Epoch 3/3\n",
            "600/600 [==============================] - 3s 5ms/step - loss: 2.3015 - accuracy: 0.1114 - val_loss: 2.3020 - val_accuracy: 0.1065\n",
            "Epoch 1/3\n",
            "600/600 [==============================] - 4s 6ms/step - loss: 2.3031 - accuracy: 0.0987 - val_loss: 2.3022 - val_accuracy: 0.1065\n",
            "Epoch 2/3\n",
            "600/600 [==============================] - 3s 5ms/step - loss: 2.3019 - accuracy: 0.1105 - val_loss: 2.3019 - val_accuracy: 0.1065\n",
            "Epoch 3/3\n",
            "600/600 [==============================] - 3s 5ms/step - loss: 2.3011 - accuracy: 0.1133 - val_loss: 2.3019 - val_accuracy: 0.1065\n",
            "Epoch 1/3\n",
            "600/600 [==============================] - 4s 6ms/step - loss: 2.3025 - accuracy: 0.1044 - val_loss: 2.3018 - val_accuracy: 0.1065\n",
            "Epoch 2/3\n",
            "600/600 [==============================] - 3s 5ms/step - loss: 2.3012 - accuracy: 0.1123 - val_loss: 2.3017 - val_accuracy: 0.1065\n",
            "Epoch 3/3\n",
            "600/600 [==============================] - 3s 6ms/step - loss: 2.3011 - accuracy: 0.1127 - val_loss: 2.3018 - val_accuracy: 0.1065\n",
            "Epoch 1/3\n",
            "600/600 [==============================] - 4s 6ms/step - loss: 2.3021 - accuracy: 0.1152 - val_loss: 2.3022 - val_accuracy: 0.1065\n",
            "Epoch 2/3\n",
            "600/600 [==============================] - 3s 5ms/step - loss: 2.3015 - accuracy: 0.1124 - val_loss: 2.3021 - val_accuracy: 0.1065\n",
            "Epoch 3/3\n",
            "600/600 [==============================] - 3s 6ms/step - loss: 2.3008 - accuracy: 0.1159 - val_loss: 2.3020 - val_accuracy: 0.1065\n",
            "Epoch 1/3\n",
            "600/600 [==============================] - 4s 6ms/step - loss: 2.3018 - accuracy: 0.1095 - val_loss: 2.3014 - val_accuracy: 0.1152\n",
            "Epoch 2/3\n",
            "600/600 [==============================] - 3s 5ms/step - loss: 2.3011 - accuracy: 0.1154 - val_loss: 2.3011 - val_accuracy: 0.1152\n",
            "Epoch 3/3\n",
            "600/600 [==============================] - 3s 5ms/step - loss: 2.3012 - accuracy: 0.1142 - val_loss: 2.3011 - val_accuracy: 0.1152\n",
            "Epoch 1/3\n",
            "600/600 [==============================] - 3s 4ms/step - loss: 0.4637 - accuracy: 0.8692 - val_loss: 0.0688 - val_accuracy: 0.9826\n",
            "Epoch 2/3\n",
            "600/600 [==============================] - 2s 4ms/step - loss: 0.0628 - accuracy: 0.9823 - val_loss: 0.0536 - val_accuracy: 0.9843\n",
            "Epoch 3/3\n",
            "600/600 [==============================] - 2s 4ms/step - loss: 0.0419 - accuracy: 0.9880 - val_loss: 0.0487 - val_accuracy: 0.9865\n",
            "Epoch 1/3\n",
            "600/600 [==============================] - 3s 4ms/step - loss: 0.4655 - accuracy: 0.8623 - val_loss: 0.0736 - val_accuracy: 0.9799\n",
            "Epoch 2/3\n",
            "600/600 [==============================] - 2s 4ms/step - loss: 0.0620 - accuracy: 0.9815 - val_loss: 0.0537 - val_accuracy: 0.9846\n",
            "Epoch 3/3\n",
            "600/600 [==============================] - 2s 4ms/step - loss: 0.0431 - accuracy: 0.9872 - val_loss: 0.0568 - val_accuracy: 0.9829\n",
            "Epoch 1/3\n",
            "600/600 [==============================] - 3s 4ms/step - loss: 0.4696 - accuracy: 0.8696 - val_loss: 0.0867 - val_accuracy: 0.9757\n",
            "Epoch 2/3\n",
            "600/600 [==============================] - 2s 4ms/step - loss: 0.0669 - accuracy: 0.9800 - val_loss: 0.0558 - val_accuracy: 0.9843\n",
            "Epoch 3/3\n",
            "600/600 [==============================] - 2s 4ms/step - loss: 0.0407 - accuracy: 0.9881 - val_loss: 0.0599 - val_accuracy: 0.9824\n",
            "Epoch 1/3\n",
            "600/600 [==============================] - 3s 4ms/step - loss: 0.4487 - accuracy: 0.8660 - val_loss: 0.0783 - val_accuracy: 0.9767\n",
            "Epoch 2/3\n",
            "600/600 [==============================] - 2s 4ms/step - loss: 0.0629 - accuracy: 0.9819 - val_loss: 0.0620 - val_accuracy: 0.9820\n",
            "Epoch 3/3\n",
            "600/600 [==============================] - 2s 4ms/step - loss: 0.0423 - accuracy: 0.9878 - val_loss: 0.0634 - val_accuracy: 0.9810\n",
            "Epoch 1/3\n",
            "600/600 [==============================] - 3s 4ms/step - loss: 0.4685 - accuracy: 0.8626 - val_loss: 0.0848 - val_accuracy: 0.9752\n",
            "Epoch 2/3\n",
            "600/600 [==============================] - 2s 4ms/step - loss: 0.0639 - accuracy: 0.9821 - val_loss: 0.0773 - val_accuracy: 0.9744\n",
            "Epoch 3/3\n",
            "600/600 [==============================] - 2s 4ms/step - loss: 0.0395 - accuracy: 0.9892 - val_loss: 0.0580 - val_accuracy: 0.9817\n",
            "Epoch 1/3\n",
            "600/600 [==============================] - 3s 4ms/step - loss: 0.3974 - accuracy: 0.8822 - val_loss: 0.0728 - val_accuracy: 0.9779\n",
            "Epoch 2/3\n",
            "600/600 [==============================] - 2s 4ms/step - loss: 0.0634 - accuracy: 0.9814 - val_loss: 0.0561 - val_accuracy: 0.9833\n",
            "Epoch 3/3\n",
            "600/600 [==============================] - 2s 4ms/step - loss: 0.0355 - accuracy: 0.9895 - val_loss: 0.0563 - val_accuracy: 0.9820\n",
            "Epoch 1/3\n",
            "600/600 [==============================] - 3s 4ms/step - loss: 0.4063 - accuracy: 0.8811 - val_loss: 0.0691 - val_accuracy: 0.9807\n",
            "Epoch 2/3\n",
            "600/600 [==============================] - 2s 4ms/step - loss: 0.0662 - accuracy: 0.9801 - val_loss: 0.0555 - val_accuracy: 0.9847\n",
            "Epoch 3/3\n",
            "600/600 [==============================] - 2s 4ms/step - loss: 0.0412 - accuracy: 0.9873 - val_loss: 0.0490 - val_accuracy: 0.9874\n",
            "Epoch 1/3\n",
            "600/600 [==============================] - 3s 4ms/step - loss: 0.3973 - accuracy: 0.8856 - val_loss: 0.0714 - val_accuracy: 0.9801\n",
            "Epoch 2/3\n",
            "600/600 [==============================] - 2s 4ms/step - loss: 0.0595 - accuracy: 0.9820 - val_loss: 0.0570 - val_accuracy: 0.9828\n",
            "Epoch 3/3\n",
            "600/600 [==============================] - 2s 4ms/step - loss: 0.0391 - accuracy: 0.9888 - val_loss: 0.0517 - val_accuracy: 0.9846\n",
            "Epoch 1/3\n",
            "600/600 [==============================] - 3s 4ms/step - loss: 0.4151 - accuracy: 0.8771 - val_loss: 0.0713 - val_accuracy: 0.9779\n",
            "Epoch 2/3\n",
            "600/600 [==============================] - 2s 4ms/step - loss: 0.0614 - accuracy: 0.9817 - val_loss: 0.0660 - val_accuracy: 0.9818\n",
            "Epoch 3/3\n",
            "600/600 [==============================] - 2s 4ms/step - loss: 0.0375 - accuracy: 0.9879 - val_loss: 0.0553 - val_accuracy: 0.9844\n",
            "Epoch 1/3\n",
            "600/600 [==============================] - 3s 4ms/step - loss: 0.4247 - accuracy: 0.8773 - val_loss: 0.0844 - val_accuracy: 0.9749\n",
            "Epoch 2/3\n",
            "600/600 [==============================] - 2s 4ms/step - loss: 0.0651 - accuracy: 0.9796 - val_loss: 0.0628 - val_accuracy: 0.9809\n",
            "Epoch 3/3\n",
            "600/600 [==============================] - 2s 4ms/step - loss: 0.0404 - accuracy: 0.9884 - val_loss: 0.0462 - val_accuracy: 0.9859\n",
            "Epoch 1/3\n",
            "600/600 [==============================] - 3s 4ms/step - loss: 1.5123 - accuracy: 0.6292 - val_loss: 0.3998 - val_accuracy: 0.8990\n",
            "Epoch 2/3\n",
            "600/600 [==============================] - 2s 4ms/step - loss: 0.3945 - accuracy: 0.8965 - val_loss: 0.2611 - val_accuracy: 0.9294\n",
            "Epoch 3/3\n",
            "600/600 [==============================] - 2s 4ms/step - loss: 0.2676 - accuracy: 0.9283 - val_loss: 0.1991 - val_accuracy: 0.9451\n",
            "Epoch 1/3\n",
            "600/600 [==============================] - 3s 4ms/step - loss: 1.5305 - accuracy: 0.6099 - val_loss: 0.3999 - val_accuracy: 0.8990\n",
            "Epoch 2/3\n",
            "600/600 [==============================] - 2s 4ms/step - loss: 0.3935 - accuracy: 0.8966 - val_loss: 0.2711 - val_accuracy: 0.9286\n",
            "Epoch 3/3\n",
            "600/600 [==============================] - 2s 4ms/step - loss: 0.2812 - accuracy: 0.9235 - val_loss: 0.2118 - val_accuracy: 0.9417\n",
            "Epoch 1/3\n",
            "600/600 [==============================] - 3s 4ms/step - loss: 1.5850 - accuracy: 0.6016 - val_loss: 0.4064 - val_accuracy: 0.9023\n",
            "Epoch 2/3\n",
            "600/600 [==============================] - 2s 4ms/step - loss: 0.3925 - accuracy: 0.8997 - val_loss: 0.2620 - val_accuracy: 0.9319\n",
            "Epoch 3/3\n",
            "600/600 [==============================] - 2s 4ms/step - loss: 0.2655 - accuracy: 0.9295 - val_loss: 0.2012 - val_accuracy: 0.9457\n",
            "Epoch 1/3\n",
            "600/600 [==============================] - 3s 4ms/step - loss: 1.4320 - accuracy: 0.6509 - val_loss: 0.3974 - val_accuracy: 0.8996\n",
            "Epoch 2/3\n",
            "600/600 [==============================] - 2s 4ms/step - loss: 0.3969 - accuracy: 0.8962 - val_loss: 0.2716 - val_accuracy: 0.9283\n",
            "Epoch 3/3\n",
            "600/600 [==============================] - 2s 4ms/step - loss: 0.2842 - accuracy: 0.9223 - val_loss: 0.2142 - val_accuracy: 0.9419\n",
            "Epoch 1/3\n",
            "600/600 [==============================] - 3s 4ms/step - loss: 1.5393 - accuracy: 0.5795 - val_loss: 0.4571 - val_accuracy: 0.8777\n",
            "Epoch 2/3\n",
            "600/600 [==============================] - 2s 4ms/step - loss: 0.3970 - accuracy: 0.8963 - val_loss: 0.3108 - val_accuracy: 0.9152\n",
            "Epoch 3/3\n",
            "600/600 [==============================] - 2s 4ms/step - loss: 0.2853 - accuracy: 0.9208 - val_loss: 0.2379 - val_accuracy: 0.9332\n",
            "Epoch 1/3\n",
            "600/600 [==============================] - 3s 4ms/step - loss: 2.0154 - accuracy: 0.2534 - val_loss: 0.2978 - val_accuracy: 0.9265\n",
            "Epoch 2/3\n",
            "600/600 [==============================] - 2s 4ms/step - loss: 0.2575 - accuracy: 0.9324 - val_loss: 0.1344 - val_accuracy: 0.9649\n",
            "Epoch 3/3\n",
            "600/600 [==============================] - 2s 4ms/step - loss: 0.1324 - accuracy: 0.9628 - val_loss: 0.0978 - val_accuracy: 0.9708\n",
            "Epoch 1/3\n",
            "600/600 [==============================] - 3s 4ms/step - loss: 1.9277 - accuracy: 0.2971 - val_loss: 0.3220 - val_accuracy: 0.9150\n",
            "Epoch 2/3\n",
            "600/600 [==============================] - 2s 4ms/step - loss: 0.2742 - accuracy: 0.9271 - val_loss: 0.1511 - val_accuracy: 0.9589\n",
            "Epoch 3/3\n",
            "600/600 [==============================] - 2s 4ms/step - loss: 0.1471 - accuracy: 0.9579 - val_loss: 0.1128 - val_accuracy: 0.9680\n",
            "Epoch 1/3\n",
            "600/600 [==============================] - 3s 4ms/step - loss: 2.0069 - accuracy: 0.2546 - val_loss: 0.3555 - val_accuracy: 0.9097\n",
            "Epoch 2/3\n",
            "600/600 [==============================] - 2s 4ms/step - loss: 0.3097 - accuracy: 0.9171 - val_loss: 0.1620 - val_accuracy: 0.9564\n",
            "Epoch 3/3\n",
            "600/600 [==============================] - 2s 4ms/step - loss: 0.1603 - accuracy: 0.9548 - val_loss: 0.1050 - val_accuracy: 0.9702\n",
            "Epoch 1/3\n",
            "600/600 [==============================] - 3s 4ms/step - loss: 1.8873 - accuracy: 0.3156 - val_loss: 0.3229 - val_accuracy: 0.9164\n",
            "Epoch 2/3\n",
            "600/600 [==============================] - 2s 4ms/step - loss: 0.2879 - accuracy: 0.9214 - val_loss: 0.1643 - val_accuracy: 0.9545\n",
            "Epoch 3/3\n",
            "600/600 [==============================] - 2s 4ms/step - loss: 0.1483 - accuracy: 0.9589 - val_loss: 0.1115 - val_accuracy: 0.9701\n",
            "Epoch 1/3\n",
            "600/600 [==============================] - 3s 4ms/step - loss: 1.9189 - accuracy: 0.3026 - val_loss: 0.3696 - val_accuracy: 0.8948\n",
            "Epoch 2/3\n",
            "600/600 [==============================] - 2s 4ms/step - loss: 0.2788 - accuracy: 0.9260 - val_loss: 0.1626 - val_accuracy: 0.9550\n",
            "Epoch 3/3\n",
            "600/600 [==============================] - 2s 4ms/step - loss: 0.1493 - accuracy: 0.9589 - val_loss: 0.1193 - val_accuracy: 0.9651\n",
            "Epoch 1/3\n",
            "600/600 [==============================] - 3s 4ms/step - loss: 1.8678 - accuracy: 0.3242 - val_loss: 0.3953 - val_accuracy: 0.8882\n",
            "Epoch 2/3\n",
            "600/600 [==============================] - 2s 4ms/step - loss: 0.3378 - accuracy: 0.9064 - val_loss: 0.1610 - val_accuracy: 0.9533\n",
            "Epoch 3/3\n",
            "600/600 [==============================] - 2s 4ms/step - loss: 0.1697 - accuracy: 0.9495 - val_loss: 0.1140 - val_accuracy: 0.9644\n",
            "Epoch 1/3\n",
            "600/600 [==============================] - 3s 5ms/step - loss: 1.8991 - accuracy: 0.3128 - val_loss: 0.3417 - val_accuracy: 0.9051\n",
            "Epoch 2/3\n",
            "600/600 [==============================] - 2s 4ms/step - loss: 0.3136 - accuracy: 0.9120 - val_loss: 0.1532 - val_accuracy: 0.9574\n",
            "Epoch 3/3\n",
            "600/600 [==============================] - 2s 4ms/step - loss: 0.1625 - accuracy: 0.9508 - val_loss: 0.1057 - val_accuracy: 0.9680\n",
            "Epoch 1/3\n",
            "600/600 [==============================] - 3s 4ms/step - loss: 1.9086 - accuracy: 0.3048 - val_loss: 0.3480 - val_accuracy: 0.9022\n",
            "Epoch 2/3\n",
            "600/600 [==============================] - 2s 4ms/step - loss: 0.3005 - accuracy: 0.9149 - val_loss: 0.1619 - val_accuracy: 0.9526\n",
            "Epoch 3/3\n",
            "600/600 [==============================] - 2s 4ms/step - loss: 0.1597 - accuracy: 0.9522 - val_loss: 0.1095 - val_accuracy: 0.9673\n",
            "Epoch 1/3\n",
            "600/600 [==============================] - 3s 4ms/step - loss: 1.8534 - accuracy: 0.3355 - val_loss: 0.3270 - val_accuracy: 0.9108\n",
            "Epoch 2/3\n",
            "600/600 [==============================] - 2s 4ms/step - loss: 0.2976 - accuracy: 0.9157 - val_loss: 0.1640 - val_accuracy: 0.9523\n",
            "Epoch 3/3\n",
            "600/600 [==============================] - 2s 4ms/step - loss: 0.1549 - accuracy: 0.9535 - val_loss: 0.1094 - val_accuracy: 0.9665\n",
            "Epoch 1/3\n",
            "600/600 [==============================] - 3s 4ms/step - loss: 1.8313 - accuracy: 0.3442 - val_loss: 0.3974 - val_accuracy: 0.8870\n",
            "Epoch 2/3\n",
            "600/600 [==============================] - 2s 4ms/step - loss: 0.3076 - accuracy: 0.9126 - val_loss: 0.1855 - val_accuracy: 0.9413\n",
            "Epoch 3/3\n",
            "600/600 [==============================] - 2s 4ms/step - loss: 0.1626 - accuracy: 0.9508 - val_loss: 0.1332 - val_accuracy: 0.9584\n",
            "Epoch 1/3\n",
            "600/600 [==============================] - 3s 4ms/step - loss: 2.3282 - accuracy: 0.1079 - val_loss: 2.3024 - val_accuracy: 0.1065\n",
            "Epoch 2/3\n",
            "600/600 [==============================] - 2s 4ms/step - loss: 2.3027 - accuracy: 0.1108 - val_loss: 2.3023 - val_accuracy: 0.1026\n",
            "Epoch 3/3\n",
            "600/600 [==============================] - 2s 4ms/step - loss: 2.3021 - accuracy: 0.1112 - val_loss: 2.3039 - val_accuracy: 0.1065\n",
            "Epoch 1/3\n",
            "600/600 [==============================] - 3s 4ms/step - loss: 2.3173 - accuracy: 0.1097 - val_loss: 2.3040 - val_accuracy: 0.1065\n",
            "Epoch 2/3\n",
            "600/600 [==============================] - 2s 4ms/step - loss: 2.3022 - accuracy: 0.1117 - val_loss: 2.3036 - val_accuracy: 0.1065\n",
            "Epoch 3/3\n",
            "600/600 [==============================] - 2s 4ms/step - loss: 2.3024 - accuracy: 0.1116 - val_loss: 2.3030 - val_accuracy: 0.1065\n",
            "Epoch 1/3\n",
            "600/600 [==============================] - 3s 4ms/step - loss: 2.3270 - accuracy: 0.1104 - val_loss: 2.3037 - val_accuracy: 0.1065\n",
            "Epoch 2/3\n",
            "600/600 [==============================] - 2s 4ms/step - loss: 2.3018 - accuracy: 0.1126 - val_loss: 2.3049 - val_accuracy: 0.1065\n",
            "Epoch 3/3\n",
            "600/600 [==============================] - 2s 4ms/step - loss: 2.3020 - accuracy: 0.1134 - val_loss: 2.3034 - val_accuracy: 0.1065\n",
            "Epoch 1/3\n",
            "600/600 [==============================] - 3s 4ms/step - loss: 2.3244 - accuracy: 0.1078 - val_loss: 2.3036 - val_accuracy: 0.1065\n",
            "Epoch 2/3\n",
            "600/600 [==============================] - 2s 4ms/step - loss: 2.3025 - accuracy: 0.1114 - val_loss: 2.3048 - val_accuracy: 0.1065\n",
            "Epoch 3/3\n",
            "600/600 [==============================] - 2s 4ms/step - loss: 2.3016 - accuracy: 0.1162 - val_loss: 2.3026 - val_accuracy: 0.1065\n",
            "Epoch 1/3\n",
            "600/600 [==============================] - 3s 4ms/step - loss: 2.3199 - accuracy: 0.1081 - val_loss: 2.3027 - val_accuracy: 0.1152\n",
            "Epoch 2/3\n",
            "600/600 [==============================] - 2s 4ms/step - loss: 2.3023 - accuracy: 0.1105 - val_loss: 2.3022 - val_accuracy: 0.1152\n",
            "Epoch 3/3\n",
            "600/600 [==============================] - 2s 4ms/step - loss: 2.3022 - accuracy: 0.1134 - val_loss: 2.3030 - val_accuracy: 0.0978\n",
            "Epoch 1/3\n",
            "750/750 [==============================] - 4s 4ms/step - loss: 0.3470 - accuracy: 0.8955 - val_loss: 0.0742 - val_accuracy: 0.9789\n",
            "Epoch 2/3\n",
            "750/750 [==============================] - 3s 4ms/step - loss: 0.0549 - accuracy: 0.9834 - val_loss: 0.0473 - val_accuracy: 0.9868\n",
            "Epoch 3/3\n",
            "750/750 [==============================] - 3s 4ms/step - loss: 0.0388 - accuracy: 0.9879 - val_loss: 0.0484 - val_accuracy: 0.9855\n"
          ],
          "name": "stdout"
        },
        {
          "output_type": "execute_result",
          "data": {
            "text/plain": [
              "GridSearchCV(cv=None, error_score=nan,\n",
              "             estimator=<tensorflow.python.keras.wrappers.scikit_learn.KerasClassifier object at 0x7f155cab4410>,\n",
              "             iid='deprecated', n_jobs=None,\n",
              "             param_grid={'activation': ['softmax', 'tanh', 'sigmoid'],\n",
              "                         'batch_size': [64], 'epochs': [3],\n",
              "                         'optimizer': ['adam', 'rmsprop', 'SGD'],\n",
              "                         'validation_split': [0.2]},\n",
              "             pre_dispatch='2*n_jobs', refit=True, return_train_score=False,\n",
              "             scoring='accuracy', verbose=0)"
            ]
          },
          "metadata": {
            "tags": []
          },
          "execution_count": 69
        }
      ]
    },
    {
      "cell_type": "code",
      "metadata": {
        "colab": {
          "base_uri": "https://localhost:8080/",
          "height": 544
        },
        "id": "OcXJ-udYkCju",
        "outputId": "5991109f-e5bb-4251-d58f-971062b8adfd"
      },
      "source": [
        "import matplotlib.pyplot as plt\n",
        "\n",
        "acc = grid_search.best_estimator_.model.history.history['accuracy']\n",
        "val_acc = grid_search.best_estimator_.model.history.history['val_accuracy']\n",
        "loss = grid_search.best_estimator_.model.history.history['loss']\n",
        "val_loss = grid_search.best_estimator_.model.history.history['val_loss']\n",
        "\n",
        "epochs = range(1, len(acc) + 1)\n",
        "\n",
        "plt.plot(epochs, acc, 'bo', label='Training acc')\n",
        "plt.plot(epochs, val_acc, 'b', label='Validation acc')\n",
        "plt.title('Training and validation accuracy')\n",
        "plt.legend()\n",
        "\n",
        "plt.figure()\n",
        "\n",
        "plt.plot(epochs, loss, 'bo', label='Training loss')\n",
        "plt.plot(epochs, val_loss, 'b', label='Validation loss')\n",
        "plt.title('Training and validation loss')\n",
        "plt.legend()\n",
        "\n",
        "plt.show()"
      ],
      "execution_count": null,
      "outputs": [
        {
          "output_type": "display_data",
          "data": {
            "image/png": "[encoded data removed]",
            "text/plain": [
              "<Figure size 432x288 with 1 Axes>"
            ]
          },
          "metadata": {
            "tags": [],
            "needs_background": "light"
          }
        },
        {
          "output_type": "display_data",
          "data": {
            "image/png": "[encoded data removed]",
            "text/plain": [
              "<Figure size 432x288 with 1 Axes>"
            ]
          },
          "metadata": {
            "tags": [],
            "needs_background": "light"
          }
        }
      ]
    }
  ]
}